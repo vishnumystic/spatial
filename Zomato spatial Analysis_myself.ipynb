{
 "cells": [
  {
   "cell_type": "code",
   "execution_count": 1,
   "metadata": {},
   "outputs": [
    {
     "name": "stderr",
     "output_type": "stream",
     "text": [
      "C:\\Users\\Hari\\Anaconda3\\lib\\site-packages\\statsmodels\\tools\\_testing.py:19: FutureWarning: pandas.util.testing is deprecated. Use the functions in the public API at pandas.testing instead.\n",
      "  import pandas.util.testing as tm\n"
     ]
    }
   ],
   "source": [
    "import pandas as pd\n",
    "import numpy as np\n",
    "import matplotlib.pyplot as plt\n",
    "import seaborn as sns \n",
    "\n",
    "\n",
    "from warnings import filterwarnings\n",
    "filterwarnings('ignore') \n"
   ]
  },
  {
   "cell_type": "code",
   "execution_count": 2,
   "metadata": {},
   "outputs": [
    {
     "data": {
      "text/html": [
       "<div>\n",
       "<style scoped>\n",
       "    .dataframe tbody tr th:only-of-type {\n",
       "        vertical-align: middle;\n",
       "    }\n",
       "\n",
       "    .dataframe tbody tr th {\n",
       "        vertical-align: top;\n",
       "    }\n",
       "\n",
       "    .dataframe thead th {\n",
       "        text-align: right;\n",
       "    }\n",
       "</style>\n",
       "<table border=\"1\" class=\"dataframe\">\n",
       "  <thead>\n",
       "    <tr style=\"text-align: right;\">\n",
       "      <th></th>\n",
       "      <th>url</th>\n",
       "      <th>address</th>\n",
       "      <th>name</th>\n",
       "      <th>online_order</th>\n",
       "      <th>book_table</th>\n",
       "      <th>rate</th>\n",
       "      <th>votes</th>\n",
       "      <th>phone</th>\n",
       "      <th>location</th>\n",
       "      <th>rest_type</th>\n",
       "      <th>dish_liked</th>\n",
       "      <th>cuisines</th>\n",
       "      <th>approx_cost(for two people)</th>\n",
       "      <th>reviews_list</th>\n",
       "      <th>menu_item</th>\n",
       "      <th>listed_in(type)</th>\n",
       "      <th>listed_in(city)</th>\n",
       "    </tr>\n",
       "  </thead>\n",
       "  <tbody>\n",
       "    <tr>\n",
       "      <th>0</th>\n",
       "      <td>https://www.zomato.com/bangalore/jalsa-banasha...</td>\n",
       "      <td>942, 21st Main Road, 2nd Stage, Banashankari, ...</td>\n",
       "      <td>Jalsa</td>\n",
       "      <td>Yes</td>\n",
       "      <td>Yes</td>\n",
       "      <td>4.1/5</td>\n",
       "      <td>775</td>\n",
       "      <td>080 42297555\\r\\n+91 9743772233</td>\n",
       "      <td>Banashankari</td>\n",
       "      <td>Casual Dining</td>\n",
       "      <td>Pasta, Lunch Buffet, Masala Papad, Paneer Laja...</td>\n",
       "      <td>North Indian, Mughlai, Chinese</td>\n",
       "      <td>800</td>\n",
       "      <td>[('Rated 4.0', 'RATED\\n  A beautiful place to ...</td>\n",
       "      <td>[]</td>\n",
       "      <td>Buffet</td>\n",
       "      <td>Banashankari</td>\n",
       "    </tr>\n",
       "    <tr>\n",
       "      <th>1</th>\n",
       "      <td>https://www.zomato.com/bangalore/spice-elephan...</td>\n",
       "      <td>2nd Floor, 80 Feet Road, Near Big Bazaar, 6th ...</td>\n",
       "      <td>Spice Elephant</td>\n",
       "      <td>Yes</td>\n",
       "      <td>No</td>\n",
       "      <td>4.1/5</td>\n",
       "      <td>787</td>\n",
       "      <td>080 41714161</td>\n",
       "      <td>Banashankari</td>\n",
       "      <td>Casual Dining</td>\n",
       "      <td>Momos, Lunch Buffet, Chocolate Nirvana, Thai G...</td>\n",
       "      <td>Chinese, North Indian, Thai</td>\n",
       "      <td>800</td>\n",
       "      <td>[('Rated 4.0', 'RATED\\n  Had been here for din...</td>\n",
       "      <td>[]</td>\n",
       "      <td>Buffet</td>\n",
       "      <td>Banashankari</td>\n",
       "    </tr>\n",
       "    <tr>\n",
       "      <th>2</th>\n",
       "      <td>https://www.zomato.com/SanchurroBangalore?cont...</td>\n",
       "      <td>1112, Next to KIMS Medical College, 17th Cross...</td>\n",
       "      <td>San Churro Cafe</td>\n",
       "      <td>Yes</td>\n",
       "      <td>No</td>\n",
       "      <td>3.8/5</td>\n",
       "      <td>918</td>\n",
       "      <td>+91 9663487993</td>\n",
       "      <td>Banashankari</td>\n",
       "      <td>Cafe, Casual Dining</td>\n",
       "      <td>Churros, Cannelloni, Minestrone Soup, Hot Choc...</td>\n",
       "      <td>Cafe, Mexican, Italian</td>\n",
       "      <td>800</td>\n",
       "      <td>[('Rated 3.0', \"RATED\\n  Ambience is not that ...</td>\n",
       "      <td>[]</td>\n",
       "      <td>Buffet</td>\n",
       "      <td>Banashankari</td>\n",
       "    </tr>\n",
       "    <tr>\n",
       "      <th>3</th>\n",
       "      <td>https://www.zomato.com/bangalore/addhuri-udupi...</td>\n",
       "      <td>1st Floor, Annakuteera, 3rd Stage, Banashankar...</td>\n",
       "      <td>Addhuri Udupi Bhojana</td>\n",
       "      <td>No</td>\n",
       "      <td>No</td>\n",
       "      <td>3.7/5</td>\n",
       "      <td>88</td>\n",
       "      <td>+91 9620009302</td>\n",
       "      <td>Banashankari</td>\n",
       "      <td>Quick Bites</td>\n",
       "      <td>Masala Dosa</td>\n",
       "      <td>South Indian, North Indian</td>\n",
       "      <td>300</td>\n",
       "      <td>[('Rated 4.0', \"RATED\\n  Great food and proper...</td>\n",
       "      <td>[]</td>\n",
       "      <td>Buffet</td>\n",
       "      <td>Banashankari</td>\n",
       "    </tr>\n",
       "    <tr>\n",
       "      <th>4</th>\n",
       "      <td>https://www.zomato.com/bangalore/grand-village...</td>\n",
       "      <td>10, 3rd Floor, Lakshmi Associates, Gandhi Baza...</td>\n",
       "      <td>Grand Village</td>\n",
       "      <td>No</td>\n",
       "      <td>No</td>\n",
       "      <td>3.8/5</td>\n",
       "      <td>166</td>\n",
       "      <td>+91 8026612447\\r\\n+91 9901210005</td>\n",
       "      <td>Basavanagudi</td>\n",
       "      <td>Casual Dining</td>\n",
       "      <td>Panipuri, Gol Gappe</td>\n",
       "      <td>North Indian, Rajasthani</td>\n",
       "      <td>600</td>\n",
       "      <td>[('Rated 4.0', 'RATED\\n  Very good restaurant ...</td>\n",
       "      <td>[]</td>\n",
       "      <td>Buffet</td>\n",
       "      <td>Banashankari</td>\n",
       "    </tr>\n",
       "  </tbody>\n",
       "</table>\n",
       "</div>"
      ],
      "text/plain": [
       "                                                 url  \\\n",
       "0  https://www.zomato.com/bangalore/jalsa-banasha...   \n",
       "1  https://www.zomato.com/bangalore/spice-elephan...   \n",
       "2  https://www.zomato.com/SanchurroBangalore?cont...   \n",
       "3  https://www.zomato.com/bangalore/addhuri-udupi...   \n",
       "4  https://www.zomato.com/bangalore/grand-village...   \n",
       "\n",
       "                                             address                   name  \\\n",
       "0  942, 21st Main Road, 2nd Stage, Banashankari, ...                  Jalsa   \n",
       "1  2nd Floor, 80 Feet Road, Near Big Bazaar, 6th ...         Spice Elephant   \n",
       "2  1112, Next to KIMS Medical College, 17th Cross...        San Churro Cafe   \n",
       "3  1st Floor, Annakuteera, 3rd Stage, Banashankar...  Addhuri Udupi Bhojana   \n",
       "4  10, 3rd Floor, Lakshmi Associates, Gandhi Baza...          Grand Village   \n",
       "\n",
       "  online_order book_table   rate  votes                             phone  \\\n",
       "0          Yes        Yes  4.1/5    775    080 42297555\\r\\n+91 9743772233   \n",
       "1          Yes         No  4.1/5    787                      080 41714161   \n",
       "2          Yes         No  3.8/5    918                    +91 9663487993   \n",
       "3           No         No  3.7/5     88                    +91 9620009302   \n",
       "4           No         No  3.8/5    166  +91 8026612447\\r\\n+91 9901210005   \n",
       "\n",
       "       location            rest_type  \\\n",
       "0  Banashankari        Casual Dining   \n",
       "1  Banashankari        Casual Dining   \n",
       "2  Banashankari  Cafe, Casual Dining   \n",
       "3  Banashankari          Quick Bites   \n",
       "4  Basavanagudi        Casual Dining   \n",
       "\n",
       "                                          dish_liked  \\\n",
       "0  Pasta, Lunch Buffet, Masala Papad, Paneer Laja...   \n",
       "1  Momos, Lunch Buffet, Chocolate Nirvana, Thai G...   \n",
       "2  Churros, Cannelloni, Minestrone Soup, Hot Choc...   \n",
       "3                                        Masala Dosa   \n",
       "4                                Panipuri, Gol Gappe   \n",
       "\n",
       "                         cuisines approx_cost(for two people)  \\\n",
       "0  North Indian, Mughlai, Chinese                         800   \n",
       "1     Chinese, North Indian, Thai                         800   \n",
       "2          Cafe, Mexican, Italian                         800   \n",
       "3      South Indian, North Indian                         300   \n",
       "4        North Indian, Rajasthani                         600   \n",
       "\n",
       "                                        reviews_list menu_item  \\\n",
       "0  [('Rated 4.0', 'RATED\\n  A beautiful place to ...        []   \n",
       "1  [('Rated 4.0', 'RATED\\n  Had been here for din...        []   \n",
       "2  [('Rated 3.0', \"RATED\\n  Ambience is not that ...        []   \n",
       "3  [('Rated 4.0', \"RATED\\n  Great food and proper...        []   \n",
       "4  [('Rated 4.0', 'RATED\\n  Very good restaurant ...        []   \n",
       "\n",
       "  listed_in(type) listed_in(city)  \n",
       "0          Buffet    Banashankari  \n",
       "1          Buffet    Banashankari  \n",
       "2          Buffet    Banashankari  \n",
       "3          Buffet    Banashankari  \n",
       "4          Buffet    Banashankari  "
      ]
     },
     "execution_count": 2,
     "metadata": {},
     "output_type": "execute_result"
    }
   ],
   "source": [
    "df = pd.read_csv('zomato.csv')\n",
    "df.head()"
   ]
  },
  {
   "cell_type": "code",
   "execution_count": 3,
   "metadata": {},
   "outputs": [
    {
     "data": {
      "text/html": [
       "<div>\n",
       "<style scoped>\n",
       "    .dataframe tbody tr th:only-of-type {\n",
       "        vertical-align: middle;\n",
       "    }\n",
       "\n",
       "    .dataframe tbody tr th {\n",
       "        vertical-align: top;\n",
       "    }\n",
       "\n",
       "    .dataframe thead th {\n",
       "        text-align: right;\n",
       "    }\n",
       "</style>\n",
       "<table border=\"1\" class=\"dataframe\">\n",
       "  <thead>\n",
       "    <tr style=\"text-align: right;\">\n",
       "      <th></th>\n",
       "      <th>url</th>\n",
       "      <th>address</th>\n",
       "      <th>name</th>\n",
       "      <th>online_order</th>\n",
       "      <th>book_table</th>\n",
       "      <th>rate</th>\n",
       "      <th>votes</th>\n",
       "      <th>phone</th>\n",
       "      <th>location</th>\n",
       "      <th>rest_type</th>\n",
       "      <th>dish_liked</th>\n",
       "      <th>cuisines</th>\n",
       "      <th>approx_cost(for two people)</th>\n",
       "      <th>reviews_list</th>\n",
       "      <th>menu_item</th>\n",
       "      <th>listed_in(type)</th>\n",
       "      <th>listed_in(city)</th>\n",
       "    </tr>\n",
       "  </thead>\n",
       "  <tbody>\n",
       "    <tr>\n",
       "      <th>51712</th>\n",
       "      <td>https://www.zomato.com/bangalore/best-brews-fo...</td>\n",
       "      <td>Four Points by Sheraton Bengaluru, 43/3, White...</td>\n",
       "      <td>Best Brews - Four Points by Sheraton Bengaluru...</td>\n",
       "      <td>No</td>\n",
       "      <td>No</td>\n",
       "      <td>3.6 /5</td>\n",
       "      <td>27</td>\n",
       "      <td>080 40301477</td>\n",
       "      <td>Whitefield</td>\n",
       "      <td>Bar</td>\n",
       "      <td>NaN</td>\n",
       "      <td>Continental</td>\n",
       "      <td>1,500</td>\n",
       "      <td>[('Rated 5.0', \"RATED\\n  Food and service are ...</td>\n",
       "      <td>[]</td>\n",
       "      <td>Pubs and bars</td>\n",
       "      <td>Whitefield</td>\n",
       "    </tr>\n",
       "    <tr>\n",
       "      <th>51713</th>\n",
       "      <td>https://www.zomato.com/bangalore/vinod-bar-and...</td>\n",
       "      <td>Number 10, Garudachar Palya, Mahadevapura, Whi...</td>\n",
       "      <td>Vinod Bar And Restaurant</td>\n",
       "      <td>No</td>\n",
       "      <td>No</td>\n",
       "      <td>NaN</td>\n",
       "      <td>0</td>\n",
       "      <td>+91 8197675843</td>\n",
       "      <td>Whitefield</td>\n",
       "      <td>Bar</td>\n",
       "      <td>NaN</td>\n",
       "      <td>Finger Food</td>\n",
       "      <td>600</td>\n",
       "      <td>[]</td>\n",
       "      <td>[]</td>\n",
       "      <td>Pubs and bars</td>\n",
       "      <td>Whitefield</td>\n",
       "    </tr>\n",
       "    <tr>\n",
       "      <th>51714</th>\n",
       "      <td>https://www.zomato.com/bangalore/plunge-sherat...</td>\n",
       "      <td>Sheraton Grand Bengaluru Whitefield Hotel &amp; Co...</td>\n",
       "      <td>Plunge - Sheraton Grand Bengaluru Whitefield H...</td>\n",
       "      <td>No</td>\n",
       "      <td>No</td>\n",
       "      <td>NaN</td>\n",
       "      <td>0</td>\n",
       "      <td>NaN</td>\n",
       "      <td>Whitefield</td>\n",
       "      <td>Bar</td>\n",
       "      <td>NaN</td>\n",
       "      <td>Finger Food</td>\n",
       "      <td>2,000</td>\n",
       "      <td>[]</td>\n",
       "      <td>[]</td>\n",
       "      <td>Pubs and bars</td>\n",
       "      <td>Whitefield</td>\n",
       "    </tr>\n",
       "    <tr>\n",
       "      <th>51715</th>\n",
       "      <td>https://www.zomato.com/bangalore/chime-sherato...</td>\n",
       "      <td>Sheraton Grand Bengaluru Whitefield Hotel &amp; Co...</td>\n",
       "      <td>Chime - Sheraton Grand Bengaluru Whitefield Ho...</td>\n",
       "      <td>No</td>\n",
       "      <td>Yes</td>\n",
       "      <td>4.3 /5</td>\n",
       "      <td>236</td>\n",
       "      <td>080 49652769</td>\n",
       "      <td>ITPL Main Road, Whitefield</td>\n",
       "      <td>Bar</td>\n",
       "      <td>Cocktails, Pizza, Buttermilk</td>\n",
       "      <td>Finger Food</td>\n",
       "      <td>2,500</td>\n",
       "      <td>[('Rated 4.0', 'RATED\\n  Nice and friendly pla...</td>\n",
       "      <td>[]</td>\n",
       "      <td>Pubs and bars</td>\n",
       "      <td>Whitefield</td>\n",
       "    </tr>\n",
       "    <tr>\n",
       "      <th>51716</th>\n",
       "      <td>https://www.zomato.com/bangalore/the-nest-the-...</td>\n",
       "      <td>ITPL Main Road, KIADB Export Promotion Industr...</td>\n",
       "      <td>The Nest - The Den Bengaluru</td>\n",
       "      <td>No</td>\n",
       "      <td>No</td>\n",
       "      <td>3.4 /5</td>\n",
       "      <td>13</td>\n",
       "      <td>+91 8071117272</td>\n",
       "      <td>ITPL Main Road, Whitefield</td>\n",
       "      <td>Bar, Casual Dining</td>\n",
       "      <td>NaN</td>\n",
       "      <td>Finger Food, North Indian, Continental</td>\n",
       "      <td>1,500</td>\n",
       "      <td>[('Rated 5.0', 'RATED\\n  Great ambience , look...</td>\n",
       "      <td>[]</td>\n",
       "      <td>Pubs and bars</td>\n",
       "      <td>Whitefield</td>\n",
       "    </tr>\n",
       "  </tbody>\n",
       "</table>\n",
       "</div>"
      ],
      "text/plain": [
       "                                                     url  \\\n",
       "51712  https://www.zomato.com/bangalore/best-brews-fo...   \n",
       "51713  https://www.zomato.com/bangalore/vinod-bar-and...   \n",
       "51714  https://www.zomato.com/bangalore/plunge-sherat...   \n",
       "51715  https://www.zomato.com/bangalore/chime-sherato...   \n",
       "51716  https://www.zomato.com/bangalore/the-nest-the-...   \n",
       "\n",
       "                                                 address  \\\n",
       "51712  Four Points by Sheraton Bengaluru, 43/3, White...   \n",
       "51713  Number 10, Garudachar Palya, Mahadevapura, Whi...   \n",
       "51714  Sheraton Grand Bengaluru Whitefield Hotel & Co...   \n",
       "51715  Sheraton Grand Bengaluru Whitefield Hotel & Co...   \n",
       "51716  ITPL Main Road, KIADB Export Promotion Industr...   \n",
       "\n",
       "                                                    name online_order  \\\n",
       "51712  Best Brews - Four Points by Sheraton Bengaluru...           No   \n",
       "51713                           Vinod Bar And Restaurant           No   \n",
       "51714  Plunge - Sheraton Grand Bengaluru Whitefield H...           No   \n",
       "51715  Chime - Sheraton Grand Bengaluru Whitefield Ho...           No   \n",
       "51716                       The Nest - The Den Bengaluru           No   \n",
       "\n",
       "      book_table    rate  votes           phone                    location  \\\n",
       "51712         No  3.6 /5     27    080 40301477                  Whitefield   \n",
       "51713         No     NaN      0  +91 8197675843                  Whitefield   \n",
       "51714         No     NaN      0             NaN                  Whitefield   \n",
       "51715        Yes  4.3 /5    236    080 49652769  ITPL Main Road, Whitefield   \n",
       "51716         No  3.4 /5     13  +91 8071117272  ITPL Main Road, Whitefield   \n",
       "\n",
       "                rest_type                    dish_liked  \\\n",
       "51712                 Bar                           NaN   \n",
       "51713                 Bar                           NaN   \n",
       "51714                 Bar                           NaN   \n",
       "51715                 Bar  Cocktails, Pizza, Buttermilk   \n",
       "51716  Bar, Casual Dining                           NaN   \n",
       "\n",
       "                                     cuisines approx_cost(for two people)  \\\n",
       "51712                             Continental                       1,500   \n",
       "51713                             Finger Food                         600   \n",
       "51714                             Finger Food                       2,000   \n",
       "51715                             Finger Food                       2,500   \n",
       "51716  Finger Food, North Indian, Continental                       1,500   \n",
       "\n",
       "                                            reviews_list menu_item  \\\n",
       "51712  [('Rated 5.0', \"RATED\\n  Food and service are ...        []   \n",
       "51713                                                 []        []   \n",
       "51714                                                 []        []   \n",
       "51715  [('Rated 4.0', 'RATED\\n  Nice and friendly pla...        []   \n",
       "51716  [('Rated 5.0', 'RATED\\n  Great ambience , look...        []   \n",
       "\n",
       "      listed_in(type) listed_in(city)  \n",
       "51712   Pubs and bars      Whitefield  \n",
       "51713   Pubs and bars      Whitefield  \n",
       "51714   Pubs and bars      Whitefield  \n",
       "51715   Pubs and bars      Whitefield  \n",
       "51716   Pubs and bars      Whitefield  "
      ]
     },
     "execution_count": 3,
     "metadata": {},
     "output_type": "execute_result"
    }
   ],
   "source": [
    "df.tail()"
   ]
  },
  {
   "cell_type": "code",
   "execution_count": 4,
   "metadata": {},
   "outputs": [
    {
     "data": {
      "text/plain": [
       "Index(['url', 'address', 'name', 'online_order', 'book_table', 'rate', 'votes',\n",
       "       'phone', 'location', 'rest_type', 'dish_liked', 'cuisines',\n",
       "       'approx_cost(for two people)', 'reviews_list', 'menu_item',\n",
       "       'listed_in(type)', 'listed_in(city)'],\n",
       "      dtype='object')"
      ]
     },
     "execution_count": 4,
     "metadata": {},
     "output_type": "execute_result"
    }
   ],
   "source": [
    "df.columns"
   ]
  },
  {
   "cell_type": "code",
   "execution_count": 5,
   "metadata": {},
   "outputs": [
    {
     "name": "stdout",
     "output_type": "stream",
     "text": [
      "<class 'pandas.core.frame.DataFrame'>\n",
      "RangeIndex: 51717 entries, 0 to 51716\n",
      "Data columns (total 17 columns):\n",
      " #   Column                       Non-Null Count  Dtype \n",
      "---  ------                       --------------  ----- \n",
      " 0   url                          51717 non-null  object\n",
      " 1   address                      51717 non-null  object\n",
      " 2   name                         51717 non-null  object\n",
      " 3   online_order                 51717 non-null  object\n",
      " 4   book_table                   51717 non-null  object\n",
      " 5   rate                         43942 non-null  object\n",
      " 6   votes                        51717 non-null  int64 \n",
      " 7   phone                        50509 non-null  object\n",
      " 8   location                     51696 non-null  object\n",
      " 9   rest_type                    51490 non-null  object\n",
      " 10  dish_liked                   23639 non-null  object\n",
      " 11  cuisines                     51672 non-null  object\n",
      " 12  approx_cost(for two people)  51371 non-null  object\n",
      " 13  reviews_list                 51717 non-null  object\n",
      " 14  menu_item                    51717 non-null  object\n",
      " 15  listed_in(type)              51717 non-null  object\n",
      " 16  listed_in(city)              51717 non-null  object\n",
      "dtypes: int64(1), object(16)\n",
      "memory usage: 6.7+ MB\n"
     ]
    }
   ],
   "source": [
    "df.info()"
   ]
  },
  {
   "cell_type": "code",
   "execution_count": 6,
   "metadata": {},
   "outputs": [
    {
     "data": {
      "text/plain": [
       "url                                0\n",
       "address                            0\n",
       "name                               0\n",
       "online_order                       0\n",
       "book_table                         0\n",
       "rate                            7775\n",
       "votes                              0\n",
       "phone                           1208\n",
       "location                          21\n",
       "rest_type                        227\n",
       "dish_liked                     28078\n",
       "cuisines                          45\n",
       "approx_cost(for two people)      346\n",
       "reviews_list                       0\n",
       "menu_item                          0\n",
       "listed_in(type)                    0\n",
       "listed_in(city)                    0\n",
       "dtype: int64"
      ]
     },
     "execution_count": 6,
     "metadata": {},
     "output_type": "execute_result"
    }
   ],
   "source": [
    "df.isnull().sum()"
   ]
  },
  {
   "cell_type": "code",
   "execution_count": 7,
   "metadata": {},
   "outputs": [
    {
     "data": {
      "text/plain": [
       "url                                0\n",
       "address                            0\n",
       "name                               0\n",
       "online_order                       0\n",
       "book_table                         0\n",
       "rate                            7775\n",
       "votes                              0\n",
       "phone                           1208\n",
       "location                          21\n",
       "rest_type                        227\n",
       "dish_liked                     28078\n",
       "cuisines                          45\n",
       "approx_cost(for two people)      346\n",
       "reviews_list                       0\n",
       "menu_item                          0\n",
       "listed_in(type)                    0\n",
       "listed_in(city)                    0\n",
       "dtype: int64"
      ]
     },
     "execution_count": 7,
     "metadata": {},
     "output_type": "execute_result"
    }
   ],
   "source": [
    "df.isna().sum()"
   ]
  },
  {
   "cell_type": "code",
   "execution_count": 8,
   "metadata": {},
   "outputs": [
    {
     "data": {
      "text/plain": [
       "0                      Banashankari\n",
       "1                      Banashankari\n",
       "2                      Banashankari\n",
       "3                      Banashankari\n",
       "4                      Basavanagudi\n",
       "                    ...            \n",
       "51712                    Whitefield\n",
       "51713                    Whitefield\n",
       "51714                    Whitefield\n",
       "51715    ITPL Main Road, Whitefield\n",
       "51716    ITPL Main Road, Whitefield\n",
       "Name: location, Length: 51717, dtype: object"
      ]
     },
     "execution_count": 8,
     "metadata": {},
     "output_type": "execute_result"
    }
   ],
   "source": [
    "df['location']"
   ]
  },
  {
   "cell_type": "code",
   "execution_count": 9,
   "metadata": {},
   "outputs": [],
   "source": [
    "df.dropna(axis='index',subset=['location'], inplace=True)"
   ]
  },
  {
   "cell_type": "code",
   "execution_count": 10,
   "metadata": {},
   "outputs": [
    {
     "data": {
      "text/plain": [
       "url                                0\n",
       "address                            0\n",
       "name                               0\n",
       "online_order                       0\n",
       "book_table                         0\n",
       "rate                            7754\n",
       "votes                              0\n",
       "phone                           1187\n",
       "location                           0\n",
       "rest_type                        206\n",
       "dish_liked                     28057\n",
       "cuisines                          24\n",
       "approx_cost(for two people)      325\n",
       "reviews_list                       0\n",
       "menu_item                          0\n",
       "listed_in(type)                    0\n",
       "listed_in(city)                    0\n",
       "dtype: int64"
      ]
     },
     "execution_count": 10,
     "metadata": {},
     "output_type": "execute_result"
    }
   ],
   "source": [
    "df.isna().sum()"
   ]
  },
  {
   "cell_type": "code",
   "execution_count": 11,
   "metadata": {},
   "outputs": [
    {
     "data": {
      "text/plain": [
       "array(['Banashankari', 'Basavanagudi', 'Mysore Road', 'Jayanagar',\n",
       "       'Kumaraswamy Layout', 'Rajarajeshwari Nagar', 'Vijay Nagar',\n",
       "       'Uttarahalli', 'JP Nagar', 'South Bangalore', 'City Market',\n",
       "       'Nagarbhavi', 'Bannerghatta Road', 'BTM', 'Kanakapura Road',\n",
       "       'Bommanahalli', 'CV Raman Nagar', 'Electronic City', 'HSR',\n",
       "       'Marathahalli', 'Sarjapur Road', 'Wilson Garden', 'Shanti Nagar',\n",
       "       'Koramangala 5th Block', 'Koramangala 8th Block', 'Richmond Road',\n",
       "       'Koramangala 7th Block', 'Jalahalli', 'Koramangala 4th Block',\n",
       "       'Bellandur', 'Whitefield', 'East Bangalore', 'Old Airport Road',\n",
       "       'Indiranagar', 'Koramangala 1st Block', 'Frazer Town', 'RT Nagar',\n",
       "       'MG Road', 'Brigade Road', 'Lavelle Road', 'Church Street',\n",
       "       'Ulsoor', 'Residency Road', 'Shivajinagar', 'Infantry Road',\n",
       "       'St. Marks Road', 'Cunningham Road', 'Race Course Road',\n",
       "       'Commercial Street', 'Vasanth Nagar', 'HBR Layout', 'Domlur',\n",
       "       'Ejipura', 'Jeevan Bhima Nagar', 'Old Madras Road', 'Malleshwaram',\n",
       "       'Seshadripuram', 'Kammanahalli', 'Koramangala 6th Block',\n",
       "       'Majestic', 'Langford Town', 'Central Bangalore', 'Sanjay Nagar',\n",
       "       'Brookefield', 'ITPL Main Road, Whitefield',\n",
       "       'Varthur Main Road, Whitefield', 'KR Puram',\n",
       "       'Koramangala 2nd Block', 'Koramangala 3rd Block', 'Koramangala',\n",
       "       'Hosur Road', 'Rajajinagar', 'Banaswadi', 'North Bangalore',\n",
       "       'Nagawara', 'Hennur', 'Kalyan Nagar', 'New BEL Road', 'Jakkur',\n",
       "       'Rammurthy Nagar', 'Thippasandra', 'Kaggadasapura', 'Hebbal',\n",
       "       'Kengeri', 'Sankey Road', 'Sadashiv Nagar', 'Basaveshwara Nagar',\n",
       "       'Yeshwantpur', 'West Bangalore', 'Magadi Road', 'Yelahanka',\n",
       "       'Sahakara Nagar', 'Peenya'], dtype=object)"
      ]
     },
     "execution_count": 11,
     "metadata": {},
     "output_type": "execute_result"
    }
   ],
   "source": [
    "df['location'].unique()"
   ]
  },
  {
   "cell_type": "code",
   "execution_count": 12,
   "metadata": {},
   "outputs": [
    {
     "data": {
      "text/plain": [
       "93"
      ]
     },
     "execution_count": 12,
     "metadata": {},
     "output_type": "execute_result"
    }
   ],
   "source": [
    "len(df['location'].unique())"
   ]
  },
  {
   "cell_type": "code",
   "execution_count": 13,
   "metadata": {},
   "outputs": [
    {
     "data": {
      "text/plain": [
       "(51696, 17)"
      ]
     },
     "execution_count": 13,
     "metadata": {},
     "output_type": "execute_result"
    }
   ],
   "source": [
    "df.shape"
   ]
  },
  {
   "cell_type": "code",
   "execution_count": 14,
   "metadata": {},
   "outputs": [],
   "source": [
    "locations = pd.DataFrame({\"Name\":df['location'].unique()})"
   ]
  },
  {
   "cell_type": "code",
   "execution_count": 15,
   "metadata": {},
   "outputs": [
    {
     "data": {
      "text/html": [
       "<div>\n",
       "<style scoped>\n",
       "    .dataframe tbody tr th:only-of-type {\n",
       "        vertical-align: middle;\n",
       "    }\n",
       "\n",
       "    .dataframe tbody tr th {\n",
       "        vertical-align: top;\n",
       "    }\n",
       "\n",
       "    .dataframe thead th {\n",
       "        text-align: right;\n",
       "    }\n",
       "</style>\n",
       "<table border=\"1\" class=\"dataframe\">\n",
       "  <thead>\n",
       "    <tr style=\"text-align: right;\">\n",
       "      <th></th>\n",
       "      <th>Name</th>\n",
       "    </tr>\n",
       "  </thead>\n",
       "  <tbody>\n",
       "    <tr>\n",
       "      <th>0</th>\n",
       "      <td>Banashankari</td>\n",
       "    </tr>\n",
       "    <tr>\n",
       "      <th>1</th>\n",
       "      <td>Basavanagudi</td>\n",
       "    </tr>\n",
       "    <tr>\n",
       "      <th>2</th>\n",
       "      <td>Mysore Road</td>\n",
       "    </tr>\n",
       "    <tr>\n",
       "      <th>3</th>\n",
       "      <td>Jayanagar</td>\n",
       "    </tr>\n",
       "    <tr>\n",
       "      <th>4</th>\n",
       "      <td>Kumaraswamy Layout</td>\n",
       "    </tr>\n",
       "    <tr>\n",
       "      <th>...</th>\n",
       "      <td>...</td>\n",
       "    </tr>\n",
       "    <tr>\n",
       "      <th>88</th>\n",
       "      <td>West Bangalore</td>\n",
       "    </tr>\n",
       "    <tr>\n",
       "      <th>89</th>\n",
       "      <td>Magadi Road</td>\n",
       "    </tr>\n",
       "    <tr>\n",
       "      <th>90</th>\n",
       "      <td>Yelahanka</td>\n",
       "    </tr>\n",
       "    <tr>\n",
       "      <th>91</th>\n",
       "      <td>Sahakara Nagar</td>\n",
       "    </tr>\n",
       "    <tr>\n",
       "      <th>92</th>\n",
       "      <td>Peenya</td>\n",
       "    </tr>\n",
       "  </tbody>\n",
       "</table>\n",
       "<p>93 rows × 1 columns</p>\n",
       "</div>"
      ],
      "text/plain": [
       "                  Name\n",
       "0         Banashankari\n",
       "1         Basavanagudi\n",
       "2          Mysore Road\n",
       "3            Jayanagar\n",
       "4   Kumaraswamy Layout\n",
       "..                 ...\n",
       "88      West Bangalore\n",
       "89         Magadi Road\n",
       "90           Yelahanka\n",
       "91      Sahakara Nagar\n",
       "92              Peenya\n",
       "\n",
       "[93 rows x 1 columns]"
      ]
     },
     "execution_count": 15,
     "metadata": {},
     "output_type": "execute_result"
    }
   ],
   "source": [
    "locations"
   ]
  },
  {
   "cell_type": "code",
   "execution_count": 16,
   "metadata": {},
   "outputs": [],
   "source": [
    "#geopy is a Python client for several popular geocoding web services.\n",
    "\n",
    "#geopy makes it easy for Python developers to locate the coordinates of addresses, cities, countries, \n",
    "#and landmarks across the globe using third-party geocoders and other data sources."
   ]
  },
  {
   "cell_type": "code",
   "execution_count": 17,
   "metadata": {},
   "outputs": [],
   "source": [
    "#geogrpahical represenation\n",
    "#!pip install geopy"
   ]
  },
  {
   "cell_type": "code",
   "execution_count": 18,
   "metadata": {},
   "outputs": [],
   "source": [
    "from geopy.geocoders import Nominatim\n",
    "\n",
    "#Nominatim geocoder for OpenStreetMap data."
   ]
  },
  {
   "cell_type": "code",
   "execution_count": 19,
   "metadata": {},
   "outputs": [],
   "source": [
    "geolocator=Nominatim(user_agent='app')"
   ]
  },
  {
   "cell_type": "code",
   "execution_count": 20,
   "metadata": {},
   "outputs": [],
   "source": [
    "lat=[]\n",
    "lon=[]\n",
    "for location in locations['Name']:\n",
    "    location = geolocator.geocode(location)    \n",
    "    if location is None:\n",
    "        lat.append(np.nan)\n",
    "        lon.append(np.nan)\n",
    "    else:\n",
    "        lat.append(location.latitude)\n",
    "        lon.append(location.longitude)"
   ]
  },
  {
   "cell_type": "code",
   "execution_count": 21,
   "metadata": {},
   "outputs": [],
   "source": [
    "#print(lat,lon)\n",
    "#latitude n longitude of the given area "
   ]
  },
  {
   "cell_type": "code",
   "execution_count": 22,
   "metadata": {},
   "outputs": [],
   "source": [
    "locations['lat']=lat\n",
    "locations['lon']=lon"
   ]
  },
  {
   "cell_type": "code",
   "execution_count": 23,
   "metadata": {},
   "outputs": [
    {
     "data": {
      "text/html": [
       "<div>\n",
       "<style scoped>\n",
       "    .dataframe tbody tr th:only-of-type {\n",
       "        vertical-align: middle;\n",
       "    }\n",
       "\n",
       "    .dataframe tbody tr th {\n",
       "        vertical-align: top;\n",
       "    }\n",
       "\n",
       "    .dataframe thead th {\n",
       "        text-align: right;\n",
       "    }\n",
       "</style>\n",
       "<table border=\"1\" class=\"dataframe\">\n",
       "  <thead>\n",
       "    <tr style=\"text-align: right;\">\n",
       "      <th></th>\n",
       "      <th>Name</th>\n",
       "      <th>lat</th>\n",
       "      <th>lon</th>\n",
       "    </tr>\n",
       "  </thead>\n",
       "  <tbody>\n",
       "    <tr>\n",
       "      <th>0</th>\n",
       "      <td>Banashankari</td>\n",
       "      <td>15.887678</td>\n",
       "      <td>75.704678</td>\n",
       "    </tr>\n",
       "    <tr>\n",
       "      <th>1</th>\n",
       "      <td>Basavanagudi</td>\n",
       "      <td>12.941726</td>\n",
       "      <td>77.575502</td>\n",
       "    </tr>\n",
       "    <tr>\n",
       "      <th>2</th>\n",
       "      <td>Mysore Road</td>\n",
       "      <td>12.387214</td>\n",
       "      <td>76.666963</td>\n",
       "    </tr>\n",
       "    <tr>\n",
       "      <th>3</th>\n",
       "      <td>Jayanagar</td>\n",
       "      <td>27.643927</td>\n",
       "      <td>83.052805</td>\n",
       "    </tr>\n",
       "    <tr>\n",
       "      <th>4</th>\n",
       "      <td>Kumaraswamy Layout</td>\n",
       "      <td>12.908149</td>\n",
       "      <td>77.555318</td>\n",
       "    </tr>\n",
       "  </tbody>\n",
       "</table>\n",
       "</div>"
      ],
      "text/plain": [
       "                 Name        lat        lon\n",
       "0        Banashankari  15.887678  75.704678\n",
       "1        Basavanagudi  12.941726  77.575502\n",
       "2         Mysore Road  12.387214  76.666963\n",
       "3           Jayanagar  27.643927  83.052805\n",
       "4  Kumaraswamy Layout  12.908149  77.555318"
      ]
     },
     "execution_count": 23,
     "metadata": {},
     "output_type": "execute_result"
    }
   ],
   "source": [
    "locations.head()"
   ]
  },
  {
   "cell_type": "code",
   "execution_count": null,
   "metadata": {},
   "outputs": [],
   "source": []
  },
  {
   "cell_type": "markdown",
   "metadata": {},
   "source": [
    "# create a new csv file "
   ]
  },
  {
   "cell_type": "code",
   "execution_count": 24,
   "metadata": {},
   "outputs": [],
   "source": [
    "locations.to_csv('zomato_locations.csv', index=False)"
   ]
  },
  {
   "cell_type": "code",
   "execution_count": 25,
   "metadata": {},
   "outputs": [],
   "source": [
    "locations.to_csv(r'C:\\Users\\Hari\\Desktop\\spatial project\\Zomata project/zomato1_locations.csv', index=False)"
   ]
  },
  {
   "cell_type": "code",
   "execution_count": 26,
   "metadata": {},
   "outputs": [],
   "source": [
    "#locations=pd.read_csv('zomato_locations.csv')\n",
    "#locations.head()"
   ]
  },
  {
   "cell_type": "code",
   "execution_count": 27,
   "metadata": {},
   "outputs": [
    {
     "data": {
      "text/plain": [
       "BTM                      5124\n",
       "HSR                      2523\n",
       "Koramangala 5th Block    2504\n",
       "JP Nagar                 2235\n",
       "Whitefield               2144\n",
       "                         ... \n",
       "Yelahanka                   6\n",
       "West Bangalore              6\n",
       "Jakkur                      3\n",
       "Rajarajeshwari Nagar        2\n",
       "Peenya                      1\n",
       "Name: location, Length: 93, dtype: int64"
      ]
     },
     "execution_count": 27,
     "metadata": {},
     "output_type": "execute_result"
    }
   ],
   "source": [
    "df['location'].value_counts()\n",
    "#by this we can total num of counts in area"
   ]
  },
  {
   "cell_type": "code",
   "execution_count": 28,
   "metadata": {},
   "outputs": [
    {
     "data": {
      "text/html": [
       "<div>\n",
       "<style scoped>\n",
       "    .dataframe tbody tr th:only-of-type {\n",
       "        vertical-align: middle;\n",
       "    }\n",
       "\n",
       "    .dataframe tbody tr th {\n",
       "        vertical-align: top;\n",
       "    }\n",
       "\n",
       "    .dataframe thead th {\n",
       "        text-align: right;\n",
       "    }\n",
       "</style>\n",
       "<table border=\"1\" class=\"dataframe\">\n",
       "  <thead>\n",
       "    <tr style=\"text-align: right;\">\n",
       "      <th></th>\n",
       "      <th>index</th>\n",
       "      <th>location</th>\n",
       "    </tr>\n",
       "  </thead>\n",
       "  <tbody>\n",
       "    <tr>\n",
       "      <th>0</th>\n",
       "      <td>BTM</td>\n",
       "      <td>5124</td>\n",
       "    </tr>\n",
       "    <tr>\n",
       "      <th>1</th>\n",
       "      <td>HSR</td>\n",
       "      <td>2523</td>\n",
       "    </tr>\n",
       "    <tr>\n",
       "      <th>2</th>\n",
       "      <td>Koramangala 5th Block</td>\n",
       "      <td>2504</td>\n",
       "    </tr>\n",
       "    <tr>\n",
       "      <th>3</th>\n",
       "      <td>JP Nagar</td>\n",
       "      <td>2235</td>\n",
       "    </tr>\n",
       "    <tr>\n",
       "      <th>4</th>\n",
       "      <td>Whitefield</td>\n",
       "      <td>2144</td>\n",
       "    </tr>\n",
       "    <tr>\n",
       "      <th>...</th>\n",
       "      <td>...</td>\n",
       "      <td>...</td>\n",
       "    </tr>\n",
       "    <tr>\n",
       "      <th>88</th>\n",
       "      <td>Yelahanka</td>\n",
       "      <td>6</td>\n",
       "    </tr>\n",
       "    <tr>\n",
       "      <th>89</th>\n",
       "      <td>West Bangalore</td>\n",
       "      <td>6</td>\n",
       "    </tr>\n",
       "    <tr>\n",
       "      <th>90</th>\n",
       "      <td>Jakkur</td>\n",
       "      <td>3</td>\n",
       "    </tr>\n",
       "    <tr>\n",
       "      <th>91</th>\n",
       "      <td>Rajarajeshwari Nagar</td>\n",
       "      <td>2</td>\n",
       "    </tr>\n",
       "    <tr>\n",
       "      <th>92</th>\n",
       "      <td>Peenya</td>\n",
       "      <td>1</td>\n",
       "    </tr>\n",
       "  </tbody>\n",
       "</table>\n",
       "<p>93 rows × 2 columns</p>\n",
       "</div>"
      ],
      "text/plain": [
       "                    index  location\n",
       "0                     BTM      5124\n",
       "1                     HSR      2523\n",
       "2   Koramangala 5th Block      2504\n",
       "3                JP Nagar      2235\n",
       "4              Whitefield      2144\n",
       "..                    ...       ...\n",
       "88              Yelahanka         6\n",
       "89         West Bangalore         6\n",
       "90                 Jakkur         3\n",
       "91   Rajarajeshwari Nagar         2\n",
       "92                 Peenya         1\n",
       "\n",
       "[93 rows x 2 columns]"
      ]
     },
     "execution_count": 28,
     "metadata": {},
     "output_type": "execute_result"
    }
   ],
   "source": [
    "df['location'].value_counts().reset_index()"
   ]
  },
  {
   "cell_type": "code",
   "execution_count": 29,
   "metadata": {},
   "outputs": [],
   "source": [
    "Reset_locations=pd.DataFrame(df['location'].value_counts().reset_index())"
   ]
  },
  {
   "cell_type": "code",
   "execution_count": 30,
   "metadata": {},
   "outputs": [
    {
     "data": {
      "text/html": [
       "<div>\n",
       "<style scoped>\n",
       "    .dataframe tbody tr th:only-of-type {\n",
       "        vertical-align: middle;\n",
       "    }\n",
       "\n",
       "    .dataframe tbody tr th {\n",
       "        vertical-align: top;\n",
       "    }\n",
       "\n",
       "    .dataframe thead th {\n",
       "        text-align: right;\n",
       "    }\n",
       "</style>\n",
       "<table border=\"1\" class=\"dataframe\">\n",
       "  <thead>\n",
       "    <tr style=\"text-align: right;\">\n",
       "      <th></th>\n",
       "      <th>Name</th>\n",
       "      <th>count</th>\n",
       "    </tr>\n",
       "  </thead>\n",
       "  <tbody>\n",
       "    <tr>\n",
       "      <th>0</th>\n",
       "      <td>BTM</td>\n",
       "      <td>5124</td>\n",
       "    </tr>\n",
       "    <tr>\n",
       "      <th>1</th>\n",
       "      <td>HSR</td>\n",
       "      <td>2523</td>\n",
       "    </tr>\n",
       "    <tr>\n",
       "      <th>2</th>\n",
       "      <td>Koramangala 5th Block</td>\n",
       "      <td>2504</td>\n",
       "    </tr>\n",
       "    <tr>\n",
       "      <th>3</th>\n",
       "      <td>JP Nagar</td>\n",
       "      <td>2235</td>\n",
       "    </tr>\n",
       "    <tr>\n",
       "      <th>4</th>\n",
       "      <td>Whitefield</td>\n",
       "      <td>2144</td>\n",
       "    </tr>\n",
       "  </tbody>\n",
       "</table>\n",
       "</div>"
      ],
      "text/plain": [
       "                    Name  count\n",
       "0                    BTM   5124\n",
       "1                    HSR   2523\n",
       "2  Koramangala 5th Block   2504\n",
       "3               JP Nagar   2235\n",
       "4             Whitefield   2144"
      ]
     },
     "execution_count": 30,
     "metadata": {},
     "output_type": "execute_result"
    }
   ],
   "source": [
    "Reset_locations.columns=['Name','count']\n",
    "Reset_locations.head()"
   ]
  },
  {
   "cell_type": "code",
   "execution_count": 31,
   "metadata": {},
   "outputs": [
    {
     "data": {
      "text/plain": [
       "(93, 3)"
      ]
     },
     "execution_count": 31,
     "metadata": {},
     "output_type": "execute_result"
    }
   ],
   "source": [
    "locations.shape"
   ]
  },
  {
   "cell_type": "code",
   "execution_count": 32,
   "metadata": {},
   "outputs": [
    {
     "data": {
      "text/plain": [
       "(93, 2)"
      ]
     },
     "execution_count": 32,
     "metadata": {},
     "output_type": "execute_result"
    }
   ],
   "source": [
    "Reset_locations.shape"
   ]
  },
  {
   "cell_type": "markdown",
   "metadata": {},
   "source": [
    "## combining both locations and Reset_loactions dataframe"
   ]
  },
  {
   "cell_type": "code",
   "execution_count": 33,
   "metadata": {},
   "outputs": [
    {
     "data": {
      "text/html": [
       "<div>\n",
       "<style scoped>\n",
       "    .dataframe tbody tr th:only-of-type {\n",
       "        vertical-align: middle;\n",
       "    }\n",
       "\n",
       "    .dataframe tbody tr th {\n",
       "        vertical-align: top;\n",
       "    }\n",
       "\n",
       "    .dataframe thead th {\n",
       "        text-align: right;\n",
       "    }\n",
       "</style>\n",
       "<table border=\"1\" class=\"dataframe\">\n",
       "  <thead>\n",
       "    <tr style=\"text-align: right;\">\n",
       "      <th></th>\n",
       "      <th>Name</th>\n",
       "      <th>count</th>\n",
       "      <th>lat</th>\n",
       "      <th>lon</th>\n",
       "    </tr>\n",
       "  </thead>\n",
       "  <tbody>\n",
       "    <tr>\n",
       "      <th>0</th>\n",
       "      <td>BTM</td>\n",
       "      <td>5124</td>\n",
       "      <td>45.954851</td>\n",
       "      <td>-112.496595</td>\n",
       "    </tr>\n",
       "    <tr>\n",
       "      <th>1</th>\n",
       "      <td>HSR</td>\n",
       "      <td>2523</td>\n",
       "      <td>18.147500</td>\n",
       "      <td>41.538889</td>\n",
       "    </tr>\n",
       "    <tr>\n",
       "      <th>2</th>\n",
       "      <td>Koramangala 5th Block</td>\n",
       "      <td>2504</td>\n",
       "      <td>12.934377</td>\n",
       "      <td>77.628415</td>\n",
       "    </tr>\n",
       "    <tr>\n",
       "      <th>3</th>\n",
       "      <td>JP Nagar</td>\n",
       "      <td>2235</td>\n",
       "      <td>12.265594</td>\n",
       "      <td>76.646540</td>\n",
       "    </tr>\n",
       "    <tr>\n",
       "      <th>4</th>\n",
       "      <td>Whitefield</td>\n",
       "      <td>2144</td>\n",
       "      <td>44.373058</td>\n",
       "      <td>-71.611858</td>\n",
       "    </tr>\n",
       "  </tbody>\n",
       "</table>\n",
       "</div>"
      ],
      "text/plain": [
       "                    Name  count        lat         lon\n",
       "0                    BTM   5124  45.954851 -112.496595\n",
       "1                    HSR   2523  18.147500   41.538889\n",
       "2  Koramangala 5th Block   2504  12.934377   77.628415\n",
       "3               JP Nagar   2235  12.265594   76.646540\n",
       "4             Whitefield   2144  44.373058  -71.611858"
      ]
     },
     "execution_count": 33,
     "metadata": {},
     "output_type": "execute_result"
    }
   ],
   "source": [
    "Restaurant_locations=Reset_locations.merge(locations, on=\"Name\", how=\"left\").dropna()\n",
    "Restaurant_locations.head()"
   ]
  },
  {
   "cell_type": "code",
   "execution_count": 34,
   "metadata": {},
   "outputs": [
    {
     "data": {
      "text/plain": [
       "Index(['Name', 'count', 'lat', 'lon'], dtype='object')"
      ]
     },
     "execution_count": 34,
     "metadata": {},
     "output_type": "execute_result"
    }
   ],
   "source": [
    "Restaurant_locations.columns"
   ]
  },
  {
   "cell_type": "code",
   "execution_count": 35,
   "metadata": {},
   "outputs": [
    {
     "name": "stdout",
     "output_type": "stream",
     "text": [
      "<class 'pandas.core.frame.DataFrame'>\n",
      "Int64Index: 92 entries, 0 to 92\n",
      "Data columns (total 4 columns):\n",
      " #   Column  Non-Null Count  Dtype  \n",
      "---  ------  --------------  -----  \n",
      " 0   Name    92 non-null     object \n",
      " 1   count   92 non-null     int64  \n",
      " 2   lat     92 non-null     float64\n",
      " 3   lon     92 non-null     float64\n",
      "dtypes: float64(2), int64(1), object(1)\n",
      "memory usage: 3.6+ KB\n"
     ]
    }
   ],
   "source": [
    "Restaurant_locations.info()"
   ]
  },
  {
   "cell_type": "code",
   "execution_count": 36,
   "metadata": {
    "scrolled": true
   },
   "outputs": [
    {
     "data": {
      "text/plain": [
       "Name     Yeshwantpur\n",
       "count           5124\n",
       "lat        51.522765\n",
       "lon       106.713377\n",
       "dtype: object"
      ]
     },
     "execution_count": 36,
     "metadata": {},
     "output_type": "execute_result"
    }
   ],
   "source": [
    "Restaurant_locations.max()"
   ]
  },
  {
   "cell_type": "code",
   "execution_count": null,
   "metadata": {},
   "outputs": [],
   "source": []
  },
  {
   "cell_type": "code",
   "execution_count": 37,
   "metadata": {},
   "outputs": [],
   "source": [
    "# !pip install folium\n",
    "\n",
    "#folium builds on the data wrangling strengths of the Python ecosystem and the mapping strengths of the leaflet.js library. \n",
    "#Manipulate your data in Python, then visualize it in on a Leaflet map via folium."
   ]
  },
  {
   "cell_type": "code",
   "execution_count": 38,
   "metadata": {},
   "outputs": [],
   "source": [
    "def generateBaseMap(default_location=[12.97, 77.59], default_zoom_start=12):\n",
    "    base_map = folium.Map(location=default_location, zoom_default=default_zoom_start)\n",
    "    return base_map"
   ]
  },
  {
   "cell_type": "code",
   "execution_count": 39,
   "metadata": {},
   "outputs": [],
   "source": [
    "import folium\n",
    "from folium.plugins import HeatMap\n",
    "base_map = generateBaseMap()"
   ]
  },
  {
   "cell_type": "code",
   "execution_count": 40,
   "metadata": {
    "scrolled": true
   },
   "outputs": [
    {
     "data": {
      "text/html": [
       "<div style=\"width:100%;\"><div style=\"position:relative;width:100%;height:0;padding-bottom:60%;\"><span style=\"color:#565656\">Make this Notebook Trusted to load map: File -> Trust Notebook</span><iframe src=\"about:blank\" style=\"position:absolute;width:100%;height:100%;left:0;top:0;border:none !important;\" data-html=%3C%21DOCTYPE%20html%3E%0A%3Chead%3E%20%20%20%20%0A%20%20%20%20%3Cmeta%20http-equiv%3D%22content-type%22%20content%3D%22text/html%3B%20charset%3DUTF-8%22%20/%3E%0A%20%20%20%20%0A%20%20%20%20%20%20%20%20%3Cscript%3E%0A%20%20%20%20%20%20%20%20%20%20%20%20L_NO_TOUCH%20%3D%20false%3B%0A%20%20%20%20%20%20%20%20%20%20%20%20L_DISABLE_3D%20%3D%20false%3B%0A%20%20%20%20%20%20%20%20%3C/script%3E%0A%20%20%20%20%0A%20%20%20%20%3Cstyle%3Ehtml%2C%20body%20%7Bwidth%3A%20100%25%3Bheight%3A%20100%25%3Bmargin%3A%200%3Bpadding%3A%200%3B%7D%3C/style%3E%0A%20%20%20%20%3Cstyle%3E%23map%20%7Bposition%3Aabsolute%3Btop%3A0%3Bbottom%3A0%3Bright%3A0%3Bleft%3A0%3B%7D%3C/style%3E%0A%20%20%20%20%3Cscript%20src%3D%22https%3A//cdn.jsdelivr.net/npm/leaflet%401.6.0/dist/leaflet.js%22%3E%3C/script%3E%0A%20%20%20%20%3Cscript%20src%3D%22https%3A//code.jquery.com/jquery-1.12.4.min.js%22%3E%3C/script%3E%0A%20%20%20%20%3Cscript%20src%3D%22https%3A//maxcdn.bootstrapcdn.com/bootstrap/3.2.0/js/bootstrap.min.js%22%3E%3C/script%3E%0A%20%20%20%20%3Cscript%20src%3D%22https%3A//cdnjs.cloudflare.com/ajax/libs/Leaflet.awesome-markers/2.0.2/leaflet.awesome-markers.js%22%3E%3C/script%3E%0A%20%20%20%20%3Clink%20rel%3D%22stylesheet%22%20href%3D%22https%3A//cdn.jsdelivr.net/npm/leaflet%401.6.0/dist/leaflet.css%22/%3E%0A%20%20%20%20%3Clink%20rel%3D%22stylesheet%22%20href%3D%22https%3A//maxcdn.bootstrapcdn.com/bootstrap/3.2.0/css/bootstrap.min.css%22/%3E%0A%20%20%20%20%3Clink%20rel%3D%22stylesheet%22%20href%3D%22https%3A//maxcdn.bootstrapcdn.com/bootstrap/3.2.0/css/bootstrap-theme.min.css%22/%3E%0A%20%20%20%20%3Clink%20rel%3D%22stylesheet%22%20href%3D%22https%3A//maxcdn.bootstrapcdn.com/font-awesome/4.6.3/css/font-awesome.min.css%22/%3E%0A%20%20%20%20%3Clink%20rel%3D%22stylesheet%22%20href%3D%22https%3A//cdnjs.cloudflare.com/ajax/libs/Leaflet.awesome-markers/2.0.2/leaflet.awesome-markers.css%22/%3E%0A%20%20%20%20%3Clink%20rel%3D%22stylesheet%22%20href%3D%22https%3A//cdn.jsdelivr.net/gh/python-visualization/folium/folium/templates/leaflet.awesome.rotate.min.css%22/%3E%0A%20%20%20%20%0A%20%20%20%20%20%20%20%20%20%20%20%20%3Cmeta%20name%3D%22viewport%22%20content%3D%22width%3Ddevice-width%2C%0A%20%20%20%20%20%20%20%20%20%20%20%20%20%20%20%20initial-scale%3D1.0%2C%20maximum-scale%3D1.0%2C%20user-scalable%3Dno%22%20/%3E%0A%20%20%20%20%20%20%20%20%20%20%20%20%3Cstyle%3E%0A%20%20%20%20%20%20%20%20%20%20%20%20%20%20%20%20%23map_e18cc7a6149247bda2a73d5c26829ade%20%7B%0A%20%20%20%20%20%20%20%20%20%20%20%20%20%20%20%20%20%20%20%20position%3A%20relative%3B%0A%20%20%20%20%20%20%20%20%20%20%20%20%20%20%20%20%20%20%20%20width%3A%20100.0%25%3B%0A%20%20%20%20%20%20%20%20%20%20%20%20%20%20%20%20%20%20%20%20height%3A%20100.0%25%3B%0A%20%20%20%20%20%20%20%20%20%20%20%20%20%20%20%20%20%20%20%20left%3A%200.0%25%3B%0A%20%20%20%20%20%20%20%20%20%20%20%20%20%20%20%20%20%20%20%20top%3A%200.0%25%3B%0A%20%20%20%20%20%20%20%20%20%20%20%20%20%20%20%20%7D%0A%20%20%20%20%20%20%20%20%20%20%20%20%3C/style%3E%0A%20%20%20%20%20%20%20%20%0A%3C/head%3E%0A%3Cbody%3E%20%20%20%20%0A%20%20%20%20%0A%20%20%20%20%20%20%20%20%20%20%20%20%3Cdiv%20class%3D%22folium-map%22%20id%3D%22map_e18cc7a6149247bda2a73d5c26829ade%22%20%3E%3C/div%3E%0A%20%20%20%20%20%20%20%20%0A%3C/body%3E%0A%3Cscript%3E%20%20%20%20%0A%20%20%20%20%0A%20%20%20%20%20%20%20%20%20%20%20%20var%20map_e18cc7a6149247bda2a73d5c26829ade%20%3D%20L.map%28%0A%20%20%20%20%20%20%20%20%20%20%20%20%20%20%20%20%22map_e18cc7a6149247bda2a73d5c26829ade%22%2C%0A%20%20%20%20%20%20%20%20%20%20%20%20%20%20%20%20%7B%0A%20%20%20%20%20%20%20%20%20%20%20%20%20%20%20%20%20%20%20%20center%3A%20%5B12.97%2C%2077.59%5D%2C%0A%20%20%20%20%20%20%20%20%20%20%20%20%20%20%20%20%20%20%20%20crs%3A%20L.CRS.EPSG3857%2C%0A%20%20%20%20%20%20%20%20%20%20%20%20%20%20%20%20%20%20%20%20zoom%3A%2010%2C%0A%20%20%20%20%20%20%20%20%20%20%20%20%20%20%20%20%20%20%20%20zoomControl%3A%20true%2C%0A%20%20%20%20%20%20%20%20%20%20%20%20%20%20%20%20%20%20%20%20preferCanvas%3A%20false%2C%0A%20%20%20%20%20%20%20%20%20%20%20%20%20%20%20%20%20%20%20%20zoomDefault%3A%2012%2C%0A%20%20%20%20%20%20%20%20%20%20%20%20%20%20%20%20%7D%0A%20%20%20%20%20%20%20%20%20%20%20%20%29%3B%0A%0A%20%20%20%20%20%20%20%20%20%20%20%20%0A%0A%20%20%20%20%20%20%20%20%0A%20%20%20%20%0A%20%20%20%20%20%20%20%20%20%20%20%20var%20tile_layer_ac982323f8014fb8a55c5bc50034f26a%20%3D%20L.tileLayer%28%0A%20%20%20%20%20%20%20%20%20%20%20%20%20%20%20%20%22https%3A//%7Bs%7D.tile.openstreetmap.org/%7Bz%7D/%7Bx%7D/%7By%7D.png%22%2C%0A%20%20%20%20%20%20%20%20%20%20%20%20%20%20%20%20%7B%22attribution%22%3A%20%22Data%20by%20%5Cu0026copy%3B%20%5Cu003ca%20href%3D%5C%22http%3A//openstreetmap.org%5C%22%5Cu003eOpenStreetMap%5Cu003c/a%5Cu003e%2C%20under%20%5Cu003ca%20href%3D%5C%22http%3A//www.openstreetmap.org/copyright%5C%22%5Cu003eODbL%5Cu003c/a%5Cu003e.%22%2C%20%22detectRetina%22%3A%20false%2C%20%22maxNativeZoom%22%3A%2018%2C%20%22maxZoom%22%3A%2018%2C%20%22minZoom%22%3A%200%2C%20%22noWrap%22%3A%20false%2C%20%22opacity%22%3A%201%2C%20%22subdomains%22%3A%20%22abc%22%2C%20%22tms%22%3A%20false%7D%0A%20%20%20%20%20%20%20%20%20%20%20%20%29.addTo%28map_e18cc7a6149247bda2a73d5c26829ade%29%3B%0A%20%20%20%20%20%20%20%20%0A%3C/script%3E onload=\"this.contentDocument.open();this.contentDocument.write(    decodeURIComponent(this.getAttribute('data-html')));this.contentDocument.close();\" allowfullscreen webkitallowfullscreen mozallowfullscreen></iframe></div></div>"
      ],
      "text/plain": [
       "<folium.folium.Map at 0x22480d25148>"
      ]
     },
     "execution_count": 40,
     "metadata": {},
     "output_type": "execute_result"
    }
   ],
   "source": [
    "base_map"
   ]
  },
  {
   "cell_type": "code",
   "execution_count": 41,
   "metadata": {},
   "outputs": [
    {
     "data": {
      "text/html": [
       "<div>\n",
       "<style scoped>\n",
       "    .dataframe tbody tr th:only-of-type {\n",
       "        vertical-align: middle;\n",
       "    }\n",
       "\n",
       "    .dataframe tbody tr th {\n",
       "        vertical-align: top;\n",
       "    }\n",
       "\n",
       "    .dataframe thead th {\n",
       "        text-align: right;\n",
       "    }\n",
       "</style>\n",
       "<table border=\"1\" class=\"dataframe\">\n",
       "  <thead>\n",
       "    <tr style=\"text-align: right;\">\n",
       "      <th></th>\n",
       "      <th>lat</th>\n",
       "      <th>lon</th>\n",
       "      <th>count</th>\n",
       "    </tr>\n",
       "  </thead>\n",
       "  <tbody>\n",
       "    <tr>\n",
       "      <th>0</th>\n",
       "      <td>45.954851</td>\n",
       "      <td>-112.496595</td>\n",
       "      <td>5124</td>\n",
       "    </tr>\n",
       "    <tr>\n",
       "      <th>1</th>\n",
       "      <td>18.147500</td>\n",
       "      <td>41.538889</td>\n",
       "      <td>2523</td>\n",
       "    </tr>\n",
       "    <tr>\n",
       "      <th>2</th>\n",
       "      <td>12.934377</td>\n",
       "      <td>77.628415</td>\n",
       "      <td>2504</td>\n",
       "    </tr>\n",
       "    <tr>\n",
       "      <th>3</th>\n",
       "      <td>12.265594</td>\n",
       "      <td>76.646540</td>\n",
       "      <td>2235</td>\n",
       "    </tr>\n",
       "    <tr>\n",
       "      <th>4</th>\n",
       "      <td>44.373058</td>\n",
       "      <td>-71.611858</td>\n",
       "      <td>2144</td>\n",
       "    </tr>\n",
       "    <tr>\n",
       "      <th>...</th>\n",
       "      <td>...</td>\n",
       "      <td>...</td>\n",
       "      <td>...</td>\n",
       "    </tr>\n",
       "    <tr>\n",
       "      <th>88</th>\n",
       "      <td>13.100698</td>\n",
       "      <td>77.596345</td>\n",
       "      <td>6</td>\n",
       "    </tr>\n",
       "    <tr>\n",
       "      <th>89</th>\n",
       "      <td>12.930628</td>\n",
       "      <td>77.585741</td>\n",
       "      <td>6</td>\n",
       "    </tr>\n",
       "    <tr>\n",
       "      <th>90</th>\n",
       "      <td>13.078474</td>\n",
       "      <td>77.606894</td>\n",
       "      <td>3</td>\n",
       "    </tr>\n",
       "    <tr>\n",
       "      <th>91</th>\n",
       "      <td>12.927441</td>\n",
       "      <td>77.515522</td>\n",
       "      <td>2</td>\n",
       "    </tr>\n",
       "    <tr>\n",
       "      <th>92</th>\n",
       "      <td>13.032942</td>\n",
       "      <td>77.527325</td>\n",
       "      <td>1</td>\n",
       "    </tr>\n",
       "  </tbody>\n",
       "</table>\n",
       "<p>92 rows × 3 columns</p>\n",
       "</div>"
      ],
      "text/plain": [
       "          lat         lon  count\n",
       "0   45.954851 -112.496595   5124\n",
       "1   18.147500   41.538889   2523\n",
       "2   12.934377   77.628415   2504\n",
       "3   12.265594   76.646540   2235\n",
       "4   44.373058  -71.611858   2144\n",
       "..        ...         ...    ...\n",
       "88  13.100698   77.596345      6\n",
       "89  12.930628   77.585741      6\n",
       "90  13.078474   77.606894      3\n",
       "91  12.927441   77.515522      2\n",
       "92  13.032942   77.527325      1\n",
       "\n",
       "[92 rows x 3 columns]"
      ]
     },
     "execution_count": 41,
     "metadata": {},
     "output_type": "execute_result"
    }
   ],
   "source": [
    "Restaurant_locations[['lat','lon','count']]"
   ]
  },
  {
   "cell_type": "markdown",
   "metadata": {},
   "source": [
    "# heatmap "
   ]
  },
  {
   "cell_type": "code",
   "execution_count": 42,
   "metadata": {},
   "outputs": [
    {
     "data": {
      "text/plain": [
       "<folium.plugins.heat_map.HeatMap at 0x22481544d08>"
      ]
     },
     "execution_count": 42,
     "metadata": {},
     "output_type": "execute_result"
    }
   ],
   "source": [
    "HeatMap(Restaurant_locations[['lat','lon','count']], zoom=20,radius=15).add_to(base_map)"
   ]
  },
  {
   "cell_type": "code",
   "execution_count": 43,
   "metadata": {},
   "outputs": [
    {
     "data": {
      "text/html": [
       "<div style=\"width:100%;\"><div style=\"position:relative;width:100%;height:0;padding-bottom:60%;\"><span style=\"color:#565656\">Make this Notebook Trusted to load map: File -> Trust Notebook</span><iframe src=\"about:blank\" style=\"position:absolute;width:100%;height:100%;left:0;top:0;border:none !important;\" data-html=%3C%21DOCTYPE%20html%3E%0A%3Chead%3E%20%20%20%20%0A%20%20%20%20%3Cmeta%20http-equiv%3D%22content-type%22%20content%3D%22text/html%3B%20charset%3DUTF-8%22%20/%3E%0A%20%20%20%20%0A%20%20%20%20%20%20%20%20%3Cscript%3E%0A%20%20%20%20%20%20%20%20%20%20%20%20L_NO_TOUCH%20%3D%20false%3B%0A%20%20%20%20%20%20%20%20%20%20%20%20L_DISABLE_3D%20%3D%20false%3B%0A%20%20%20%20%20%20%20%20%3C/script%3E%0A%20%20%20%20%0A%20%20%20%20%3Cstyle%3Ehtml%2C%20body%20%7Bwidth%3A%20100%25%3Bheight%3A%20100%25%3Bmargin%3A%200%3Bpadding%3A%200%3B%7D%3C/style%3E%0A%20%20%20%20%3Cstyle%3E%23map%20%7Bposition%3Aabsolute%3Btop%3A0%3Bbottom%3A0%3Bright%3A0%3Bleft%3A0%3B%7D%3C/style%3E%0A%20%20%20%20%3Cscript%20src%3D%22https%3A//cdn.jsdelivr.net/npm/leaflet%401.6.0/dist/leaflet.js%22%3E%3C/script%3E%0A%20%20%20%20%3Cscript%20src%3D%22https%3A//code.jquery.com/jquery-1.12.4.min.js%22%3E%3C/script%3E%0A%20%20%20%20%3Cscript%20src%3D%22https%3A//maxcdn.bootstrapcdn.com/bootstrap/3.2.0/js/bootstrap.min.js%22%3E%3C/script%3E%0A%20%20%20%20%3Cscript%20src%3D%22https%3A//cdnjs.cloudflare.com/ajax/libs/Leaflet.awesome-markers/2.0.2/leaflet.awesome-markers.js%22%3E%3C/script%3E%0A%20%20%20%20%3Clink%20rel%3D%22stylesheet%22%20href%3D%22https%3A//cdn.jsdelivr.net/npm/leaflet%401.6.0/dist/leaflet.css%22/%3E%0A%20%20%20%20%3Clink%20rel%3D%22stylesheet%22%20href%3D%22https%3A//maxcdn.bootstrapcdn.com/bootstrap/3.2.0/css/bootstrap.min.css%22/%3E%0A%20%20%20%20%3Clink%20rel%3D%22stylesheet%22%20href%3D%22https%3A//maxcdn.bootstrapcdn.com/bootstrap/3.2.0/css/bootstrap-theme.min.css%22/%3E%0A%20%20%20%20%3Clink%20rel%3D%22stylesheet%22%20href%3D%22https%3A//maxcdn.bootstrapcdn.com/font-awesome/4.6.3/css/font-awesome.min.css%22/%3E%0A%20%20%20%20%3Clink%20rel%3D%22stylesheet%22%20href%3D%22https%3A//cdnjs.cloudflare.com/ajax/libs/Leaflet.awesome-markers/2.0.2/leaflet.awesome-markers.css%22/%3E%0A%20%20%20%20%3Clink%20rel%3D%22stylesheet%22%20href%3D%22https%3A//cdn.jsdelivr.net/gh/python-visualization/folium/folium/templates/leaflet.awesome.rotate.min.css%22/%3E%0A%20%20%20%20%0A%20%20%20%20%20%20%20%20%20%20%20%20%3Cmeta%20name%3D%22viewport%22%20content%3D%22width%3Ddevice-width%2C%0A%20%20%20%20%20%20%20%20%20%20%20%20%20%20%20%20initial-scale%3D1.0%2C%20maximum-scale%3D1.0%2C%20user-scalable%3Dno%22%20/%3E%0A%20%20%20%20%20%20%20%20%20%20%20%20%3Cstyle%3E%0A%20%20%20%20%20%20%20%20%20%20%20%20%20%20%20%20%23map_e18cc7a6149247bda2a73d5c26829ade%20%7B%0A%20%20%20%20%20%20%20%20%20%20%20%20%20%20%20%20%20%20%20%20position%3A%20relative%3B%0A%20%20%20%20%20%20%20%20%20%20%20%20%20%20%20%20%20%20%20%20width%3A%20100.0%25%3B%0A%20%20%20%20%20%20%20%20%20%20%20%20%20%20%20%20%20%20%20%20height%3A%20100.0%25%3B%0A%20%20%20%20%20%20%20%20%20%20%20%20%20%20%20%20%20%20%20%20left%3A%200.0%25%3B%0A%20%20%20%20%20%20%20%20%20%20%20%20%20%20%20%20%20%20%20%20top%3A%200.0%25%3B%0A%20%20%20%20%20%20%20%20%20%20%20%20%20%20%20%20%7D%0A%20%20%20%20%20%20%20%20%20%20%20%20%3C/style%3E%0A%20%20%20%20%20%20%20%20%0A%20%20%20%20%3Cscript%20src%3D%22https%3A//cdn.jsdelivr.net/gh/python-visualization/folium%40master/folium/templates/leaflet_heat.min.js%22%3E%3C/script%3E%0A%3C/head%3E%0A%3Cbody%3E%20%20%20%20%0A%20%20%20%20%0A%20%20%20%20%20%20%20%20%20%20%20%20%3Cdiv%20class%3D%22folium-map%22%20id%3D%22map_e18cc7a6149247bda2a73d5c26829ade%22%20%3E%3C/div%3E%0A%20%20%20%20%20%20%20%20%0A%3C/body%3E%0A%3Cscript%3E%20%20%20%20%0A%20%20%20%20%0A%20%20%20%20%20%20%20%20%20%20%20%20var%20map_e18cc7a6149247bda2a73d5c26829ade%20%3D%20L.map%28%0A%20%20%20%20%20%20%20%20%20%20%20%20%20%20%20%20%22map_e18cc7a6149247bda2a73d5c26829ade%22%2C%0A%20%20%20%20%20%20%20%20%20%20%20%20%20%20%20%20%7B%0A%20%20%20%20%20%20%20%20%20%20%20%20%20%20%20%20%20%20%20%20center%3A%20%5B12.97%2C%2077.59%5D%2C%0A%20%20%20%20%20%20%20%20%20%20%20%20%20%20%20%20%20%20%20%20crs%3A%20L.CRS.EPSG3857%2C%0A%20%20%20%20%20%20%20%20%20%20%20%20%20%20%20%20%20%20%20%20zoom%3A%2010%2C%0A%20%20%20%20%20%20%20%20%20%20%20%20%20%20%20%20%20%20%20%20zoomControl%3A%20true%2C%0A%20%20%20%20%20%20%20%20%20%20%20%20%20%20%20%20%20%20%20%20preferCanvas%3A%20false%2C%0A%20%20%20%20%20%20%20%20%20%20%20%20%20%20%20%20%20%20%20%20zoomDefault%3A%2012%2C%0A%20%20%20%20%20%20%20%20%20%20%20%20%20%20%20%20%7D%0A%20%20%20%20%20%20%20%20%20%20%20%20%29%3B%0A%0A%20%20%20%20%20%20%20%20%20%20%20%20%0A%0A%20%20%20%20%20%20%20%20%0A%20%20%20%20%0A%20%20%20%20%20%20%20%20%20%20%20%20var%20tile_layer_ac982323f8014fb8a55c5bc50034f26a%20%3D%20L.tileLayer%28%0A%20%20%20%20%20%20%20%20%20%20%20%20%20%20%20%20%22https%3A//%7Bs%7D.tile.openstreetmap.org/%7Bz%7D/%7Bx%7D/%7By%7D.png%22%2C%0A%20%20%20%20%20%20%20%20%20%20%20%20%20%20%20%20%7B%22attribution%22%3A%20%22Data%20by%20%5Cu0026copy%3B%20%5Cu003ca%20href%3D%5C%22http%3A//openstreetmap.org%5C%22%5Cu003eOpenStreetMap%5Cu003c/a%5Cu003e%2C%20under%20%5Cu003ca%20href%3D%5C%22http%3A//www.openstreetmap.org/copyright%5C%22%5Cu003eODbL%5Cu003c/a%5Cu003e.%22%2C%20%22detectRetina%22%3A%20false%2C%20%22maxNativeZoom%22%3A%2018%2C%20%22maxZoom%22%3A%2018%2C%20%22minZoom%22%3A%200%2C%20%22noWrap%22%3A%20false%2C%20%22opacity%22%3A%201%2C%20%22subdomains%22%3A%20%22abc%22%2C%20%22tms%22%3A%20false%7D%0A%20%20%20%20%20%20%20%20%20%20%20%20%29.addTo%28map_e18cc7a6149247bda2a73d5c26829ade%29%3B%0A%20%20%20%20%20%20%20%20%0A%20%20%20%20%0A%20%20%20%20%20%20%20%20%20%20%20%20var%20heat_map_d1b8982890794593a4830e13759f52f0%20%3D%20L.heatLayer%28%0A%20%20%20%20%20%20%20%20%20%20%20%20%20%20%20%20%5B%5B45.95485055%2C%20-112.49659530324134%2C%205124.0%5D%2C%20%5B18.1475%2C%2041.538889%2C%202523.0%5D%2C%20%5B12.9343774%2C%2077.628415%2C%202504.0%5D%2C%20%5B12.2655944%2C%2076.6465404%2C%202235.0%5D%2C%20%5B44.3730577%2C%20-71.6118577%2C%202144.0%5D%2C%20%5B12.9732913%2C%2077.6404672%2C%202083.0%5D%2C%20%5B27.64392675%2C%2083.05280519687284%2C%201926.0%5D%2C%20%5B12.9552572%2C%2077.6984163%2C%201846.0%5D%2C%20%5B12.887979%2C%2077.5970812%2C%201630.0%5D%2C%20%5B12.93577245%2C%2077.66676103753434%2C%201286.0%5D%2C%20%5B-6.271852%2C%20106.71337663408798%2C%201258.0%5D%2C%20%5B12.9355425%2C%2077.6128717%2C%201238.0%5D%2C%20%5B40.28745%2C%20-76.964526%2C%201218.0%5D%2C%20%5B12.9334288%2C%2077.6309732%2C%201181.0%5D%2C%20%5B12.9400321%2C%2077.6203272%2C%201156.0%5D%2C%20%5B12.9242381%2C%2077.6289059%2C%201065.0%5D%2C%20%5B12.9778793%2C%2077.6246697%2C%201023.0%5D%2C%20%5B12.93433385%2C%2077.63040639553275%2C%201017.0%5D%2C%20%5B16.5018813%2C%2080.6426257%2C%20918.0%5D%2C%20%5B15.8876779%2C%2075.7046777%2C%20906.0%5D%2C%20%5B13.0221416%2C%2077.6403368%2C%20853.0%5D%2C%20%5B50.7721586%2C%200.09772783661369303%2C%20812.0%5D%2C%20%5B12.996845%2C%2077.6130165%2C%20727.0%5D%2C%20%5B13.0027353%2C%2077.5703253%2C%20725.0%5D%2C%20%5B12.9417261%2C%2077.5755021%2C%20684.0%5D%2C%20%5B26.2660314%2C%2073.0265996%2C%20675.0%5D%2C%20%5B13.0141618%2C%2077.6518539%2C%20664.0%5D%2C%20%5B33.5935063%2C%20-79.0345627%2C%20658.0%5D%2C%20%5B13.0346384%2C%2077.5681733%2C%20649.0%5D%2C%20%5B13.0093455%2C%2077.6377094%2C%20648.0%5D%2C%20%5B12.9882338%2C%2077.554883%2C%20591.0%5D%2C%20%5B51.373656%2C%20-0.1042366%2C%20569.0%5D%2C%20%5B40.7652844%2C%20-76.373824%2C%20529.0%5D%2C%20%5B22.478459%2C%2088.3541291%2C%20511.0%5D%2C%20%5B18.5322493%2C%2073.8499601124847%2C%20499.0%5D%2C%20%5B12.9624669%2C%2077.6381958%2C%20496.0%5D%2C%20%5B31.89376%2C%20-88.066644%2C%20491.0%5D%2C%20%5B41.527815%2C%20-71.287155%2C%20446.0%5D%2C%20%5B12.945245%2C%2077.6269144%2C%20439.0%5D%2C%20%5B51.5164765%2C%20-0.0728317%2C%20370.0%5D%2C%20%5B51.5227651%2C%20-0.7354457%2C%20352.0%5D%2C%20%5B12.9417812%2C%2077.6160146%2C%20320.0%5D%2C%20%5B12.988721250000001%2C%2077.58516877601824%2C%20295.0%5D%2C%20%5B12.9678074%2C%2077.6568367%2C%20272.0%5D%2C%20%5B12.9489339%2C%2077.5968273%2C%20246.0%5D%2C%20%5B12.9089453%2C%2077.6239038%2C%20238.0%5D%2C%20%5B12.9271867%2C%2077.6266252%2C%20216.0%5D%2C%20%5B12.9081487%2C%2077.5553179%2C%20195.0%5D%2C%20%5B12.973936%2C%2077.6509982%2C%20194.0%5D%2C%20%5B12.9932739%2C%2077.5388099%2C%20191.0%5D%2C%20%5B13.2227%2C%2078.5541977%2C%20187.0%5D%2C%20%5B12.9931876%2C%2077.5753419%2C%20165.0%5D%2C%20%5B13.0258087%2C%2077.6305067%2C%20161.0%5D%2C%20%5B1.2847055%2C%20103.84320655721689%2C%20155.0%5D%2C%20%5B13.0358698%2C%2077.6323597%2C%20153.0%5D%2C%20%5B34.977289%2C%20-78.974578%2C%20151.0%5D%2C%20%5B31.4295008%2C%2073.0882481%2C%20139.0%5D%2C%20%5B39.76880625%2C%20-86.15345077251979%2C%20126.0%5D%2C%20%5B13.02383%2C%2077.5529215%2C%20119.0%5D%2C%20%5B12.9414662%2C%2077.7470942%2C%20117.0%5D%2C%20%5B12.9876616%2C%2077.7369153%2C%20113.0%5D%2C%20%5B13.0646907%2C%2077.49626895712257%2C%20107.0%5D%2C%20%5B12.9243509%2C%2077.6255562%2C%20102.0%5D%2C%20%5B12.773175%2C%2077.7831871%2C%20102.0%5D%2C%20%5B12.9846713%2C%2077.6790908%2C%20101.0%5D%2C%20%5B17.2510682%2C%2080.1651978%2C%2090.0%5D%2C%20%5B13.0227204%2C%2077.595715%2C%2080.0%5D%2C%20%5B22.8359967%2C%2069.3405962%2C%2080.0%5D%2C%20%5B23.1485712%2C%2081.6048241%2C%2076.0%5D%2C%20%5B15.8782951%2C%2074.5084834%2C%2063.0%5D%2C%20%5B13.0621474%2C%2077.58006135480495%2C%2053.0%5D%2C%20%5B13.2923988%2C%2077.7519261%2C%2048.0%5D%2C%20%5B13.0215466%2C%2077.7640586%2C%2044.0%5D%2C%20%5B11.9917786%2C%2076.5066292%2C%2038.0%5D%2C%20%5B12.945048%2C%2077.263004%2C%2034.0%5D%2C%20%5B12.957998%2C%2077.6037312%2C%2027.0%5D%2C%20%5B38.7801076%2C%20-121.5056438%2C%2027.0%5D%2C%20%5B12.3872141%2C%2076.6669626%2C%2022.0%5D%2C%20%5B13.194416%2C%2078.7011301%2C%2022.0%5D%2C%20%5B12.5607431%2C%2077.4258375%2C%2019.0%5D%2C%20%5B13.007516%2C%2077.695935%2C%2018.0%5D%2C%20%5B12.9055682%2C%2077.5455438%2C%2017.0%5D%2C%20%5B13.0382184%2C%2077.5919%2C%2014.0%5D%2C%20%5B13.0217151%2C%2077.7660547%2C%2014.0%5D%2C%20%5B12.9176571%2C%2077.4837568%2C%209.0%5D%2C%20%5B12.9546741%2C%2077.5121724%2C%209.0%5D%2C%20%5B13.0101286%2C%2077.5548006%2C%208.0%5D%2C%20%5B13.1006982%2C%2077.5963454%2C%206.0%5D%2C%20%5B12.9306281%2C%2077.5857408%2C%206.0%5D%2C%20%5B13.0784743%2C%2077.6068938%2C%203.0%5D%2C%20%5B12.9274413%2C%2077.5155224%2C%202.0%5D%2C%20%5B13.0329419%2C%2077.5273253%2C%201.0%5D%5D%2C%0A%20%20%20%20%20%20%20%20%20%20%20%20%20%20%20%20%7B%22blur%22%3A%2015%2C%20%22maxZoom%22%3A%2018%2C%20%22minOpacity%22%3A%200.5%2C%20%22radius%22%3A%2015%2C%20%22zoom%22%3A%2020%7D%0A%20%20%20%20%20%20%20%20%20%20%20%20%29.addTo%28map_e18cc7a6149247bda2a73d5c26829ade%29%3B%0A%20%20%20%20%20%20%20%20%0A%3C/script%3E onload=\"this.contentDocument.open();this.contentDocument.write(    decodeURIComponent(this.getAttribute('data-html')));this.contentDocument.close();\" allowfullscreen webkitallowfullscreen mozallowfullscreen></iframe></div></div>"
      ],
      "text/plain": [
       "<folium.folium.Map at 0x22480d25148>"
      ]
     },
     "execution_count": 43,
     "metadata": {},
     "output_type": "execute_result"
    }
   ],
   "source": [
    "base_map"
   ]
  },
  {
   "cell_type": "code",
   "execution_count": 44,
   "metadata": {},
   "outputs": [],
   "source": [
    "from folium.plugins import FastMarkerCluster"
   ]
  },
  {
   "cell_type": "code",
   "execution_count": 48,
   "metadata": {},
   "outputs": [
    {
     "data": {
      "text/plain": [
       "<folium.plugins.fast_marker_cluster.FastMarkerCluster at 0x224942b71c8>"
      ]
     },
     "execution_count": 48,
     "metadata": {},
     "output_type": "execute_result"
    }
   ],
   "source": [
    "FastMarkerCluster(data=Restaurant_locations[['lat','lon','count']].values.tolist(),zoom=20).add_to(base_map)"
   ]
  },
  {
   "cell_type": "code",
   "execution_count": 49,
   "metadata": {},
   "outputs": [
    {
     "data": {
      "text/html": [
       "<div style=\"width:100%;\"><div style=\"position:relative;width:100%;height:0;padding-bottom:60%;\"><span style=\"color:#565656\">Make this Notebook Trusted to load map: File -> Trust Notebook</span><iframe src=\"about:blank\" style=\"position:absolute;width:100%;height:100%;left:0;top:0;border:none !important;\" data-html=%3C%21DOCTYPE%20html%3E%0A%3Chead%3E%20%20%20%20%0A%20%20%20%20%3Cmeta%20http-equiv%3D%22content-type%22%20content%3D%22text/html%3B%20charset%3DUTF-8%22%20/%3E%0A%20%20%20%20%0A%20%20%20%20%20%20%20%20%3Cscript%3E%0A%20%20%20%20%20%20%20%20%20%20%20%20L_NO_TOUCH%20%3D%20false%3B%0A%20%20%20%20%20%20%20%20%20%20%20%20L_DISABLE_3D%20%3D%20false%3B%0A%20%20%20%20%20%20%20%20%3C/script%3E%0A%20%20%20%20%0A%20%20%20%20%3Cstyle%3Ehtml%2C%20body%20%7Bwidth%3A%20100%25%3Bheight%3A%20100%25%3Bmargin%3A%200%3Bpadding%3A%200%3B%7D%3C/style%3E%0A%20%20%20%20%3Cstyle%3E%23map%20%7Bposition%3Aabsolute%3Btop%3A0%3Bbottom%3A0%3Bright%3A0%3Bleft%3A0%3B%7D%3C/style%3E%0A%20%20%20%20%3Cscript%20src%3D%22https%3A//cdn.jsdelivr.net/npm/leaflet%401.6.0/dist/leaflet.js%22%3E%3C/script%3E%0A%20%20%20%20%3Cscript%20src%3D%22https%3A//code.jquery.com/jquery-1.12.4.min.js%22%3E%3C/script%3E%0A%20%20%20%20%3Cscript%20src%3D%22https%3A//maxcdn.bootstrapcdn.com/bootstrap/3.2.0/js/bootstrap.min.js%22%3E%3C/script%3E%0A%20%20%20%20%3Cscript%20src%3D%22https%3A//cdnjs.cloudflare.com/ajax/libs/Leaflet.awesome-markers/2.0.2/leaflet.awesome-markers.js%22%3E%3C/script%3E%0A%20%20%20%20%3Clink%20rel%3D%22stylesheet%22%20href%3D%22https%3A//cdn.jsdelivr.net/npm/leaflet%401.6.0/dist/leaflet.css%22/%3E%0A%20%20%20%20%3Clink%20rel%3D%22stylesheet%22%20href%3D%22https%3A//maxcdn.bootstrapcdn.com/bootstrap/3.2.0/css/bootstrap.min.css%22/%3E%0A%20%20%20%20%3Clink%20rel%3D%22stylesheet%22%20href%3D%22https%3A//maxcdn.bootstrapcdn.com/bootstrap/3.2.0/css/bootstrap-theme.min.css%22/%3E%0A%20%20%20%20%3Clink%20rel%3D%22stylesheet%22%20href%3D%22https%3A//maxcdn.bootstrapcdn.com/font-awesome/4.6.3/css/font-awesome.min.css%22/%3E%0A%20%20%20%20%3Clink%20rel%3D%22stylesheet%22%20href%3D%22https%3A//cdnjs.cloudflare.com/ajax/libs/Leaflet.awesome-markers/2.0.2/leaflet.awesome-markers.css%22/%3E%0A%20%20%20%20%3Clink%20rel%3D%22stylesheet%22%20href%3D%22https%3A//cdn.jsdelivr.net/gh/python-visualization/folium/folium/templates/leaflet.awesome.rotate.min.css%22/%3E%0A%20%20%20%20%0A%20%20%20%20%20%20%20%20%20%20%20%20%3Cmeta%20name%3D%22viewport%22%20content%3D%22width%3Ddevice-width%2C%0A%20%20%20%20%20%20%20%20%20%20%20%20%20%20%20%20initial-scale%3D1.0%2C%20maximum-scale%3D1.0%2C%20user-scalable%3Dno%22%20/%3E%0A%20%20%20%20%20%20%20%20%20%20%20%20%3Cstyle%3E%0A%20%20%20%20%20%20%20%20%20%20%20%20%20%20%20%20%23map_e18cc7a6149247bda2a73d5c26829ade%20%7B%0A%20%20%20%20%20%20%20%20%20%20%20%20%20%20%20%20%20%20%20%20position%3A%20relative%3B%0A%20%20%20%20%20%20%20%20%20%20%20%20%20%20%20%20%20%20%20%20width%3A%20100.0%25%3B%0A%20%20%20%20%20%20%20%20%20%20%20%20%20%20%20%20%20%20%20%20height%3A%20100.0%25%3B%0A%20%20%20%20%20%20%20%20%20%20%20%20%20%20%20%20%20%20%20%20left%3A%200.0%25%3B%0A%20%20%20%20%20%20%20%20%20%20%20%20%20%20%20%20%20%20%20%20top%3A%200.0%25%3B%0A%20%20%20%20%20%20%20%20%20%20%20%20%20%20%20%20%7D%0A%20%20%20%20%20%20%20%20%20%20%20%20%3C/style%3E%0A%20%20%20%20%20%20%20%20%0A%20%20%20%20%3Cscript%20src%3D%22https%3A//cdn.jsdelivr.net/gh/python-visualization/folium%40master/folium/templates/leaflet_heat.min.js%22%3E%3C/script%3E%0A%20%20%20%20%3Cscript%20src%3D%22https%3A//cdnjs.cloudflare.com/ajax/libs/leaflet.markercluster/1.1.0/leaflet.markercluster.js%22%3E%3C/script%3E%0A%20%20%20%20%3Clink%20rel%3D%22stylesheet%22%20href%3D%22https%3A//cdnjs.cloudflare.com/ajax/libs/leaflet.markercluster/1.1.0/MarkerCluster.css%22/%3E%0A%20%20%20%20%3Clink%20rel%3D%22stylesheet%22%20href%3D%22https%3A//cdnjs.cloudflare.com/ajax/libs/leaflet.markercluster/1.1.0/MarkerCluster.Default.css%22/%3E%0A%3C/head%3E%0A%3Cbody%3E%20%20%20%20%0A%20%20%20%20%0A%20%20%20%20%20%20%20%20%20%20%20%20%3Cdiv%20class%3D%22folium-map%22%20id%3D%22map_e18cc7a6149247bda2a73d5c26829ade%22%20%3E%3C/div%3E%0A%20%20%20%20%20%20%20%20%0A%3C/body%3E%0A%3Cscript%3E%20%20%20%20%0A%20%20%20%20%0A%20%20%20%20%20%20%20%20%20%20%20%20var%20map_e18cc7a6149247bda2a73d5c26829ade%20%3D%20L.map%28%0A%20%20%20%20%20%20%20%20%20%20%20%20%20%20%20%20%22map_e18cc7a6149247bda2a73d5c26829ade%22%2C%0A%20%20%20%20%20%20%20%20%20%20%20%20%20%20%20%20%7B%0A%20%20%20%20%20%20%20%20%20%20%20%20%20%20%20%20%20%20%20%20center%3A%20%5B12.97%2C%2077.59%5D%2C%0A%20%20%20%20%20%20%20%20%20%20%20%20%20%20%20%20%20%20%20%20crs%3A%20L.CRS.EPSG3857%2C%0A%20%20%20%20%20%20%20%20%20%20%20%20%20%20%20%20%20%20%20%20zoom%3A%2010%2C%0A%20%20%20%20%20%20%20%20%20%20%20%20%20%20%20%20%20%20%20%20zoomControl%3A%20true%2C%0A%20%20%20%20%20%20%20%20%20%20%20%20%20%20%20%20%20%20%20%20preferCanvas%3A%20false%2C%0A%20%20%20%20%20%20%20%20%20%20%20%20%20%20%20%20%20%20%20%20zoomDefault%3A%2012%2C%0A%20%20%20%20%20%20%20%20%20%20%20%20%20%20%20%20%7D%0A%20%20%20%20%20%20%20%20%20%20%20%20%29%3B%0A%0A%20%20%20%20%20%20%20%20%20%20%20%20%0A%0A%20%20%20%20%20%20%20%20%0A%20%20%20%20%0A%20%20%20%20%20%20%20%20%20%20%20%20var%20tile_layer_ac982323f8014fb8a55c5bc50034f26a%20%3D%20L.tileLayer%28%0A%20%20%20%20%20%20%20%20%20%20%20%20%20%20%20%20%22https%3A//%7Bs%7D.tile.openstreetmap.org/%7Bz%7D/%7Bx%7D/%7By%7D.png%22%2C%0A%20%20%20%20%20%20%20%20%20%20%20%20%20%20%20%20%7B%22attribution%22%3A%20%22Data%20by%20%5Cu0026copy%3B%20%5Cu003ca%20href%3D%5C%22http%3A//openstreetmap.org%5C%22%5Cu003eOpenStreetMap%5Cu003c/a%5Cu003e%2C%20under%20%5Cu003ca%20href%3D%5C%22http%3A//www.openstreetmap.org/copyright%5C%22%5Cu003eODbL%5Cu003c/a%5Cu003e.%22%2C%20%22detectRetina%22%3A%20false%2C%20%22maxNativeZoom%22%3A%2018%2C%20%22maxZoom%22%3A%2018%2C%20%22minZoom%22%3A%200%2C%20%22noWrap%22%3A%20false%2C%20%22opacity%22%3A%201%2C%20%22subdomains%22%3A%20%22abc%22%2C%20%22tms%22%3A%20false%7D%0A%20%20%20%20%20%20%20%20%20%20%20%20%29.addTo%28map_e18cc7a6149247bda2a73d5c26829ade%29%3B%0A%20%20%20%20%20%20%20%20%0A%20%20%20%20%0A%20%20%20%20%20%20%20%20%20%20%20%20var%20heat_map_d1b8982890794593a4830e13759f52f0%20%3D%20L.heatLayer%28%0A%20%20%20%20%20%20%20%20%20%20%20%20%20%20%20%20%5B%5B45.95485055%2C%20-112.49659530324134%2C%205124.0%5D%2C%20%5B18.1475%2C%2041.538889%2C%202523.0%5D%2C%20%5B12.9343774%2C%2077.628415%2C%202504.0%5D%2C%20%5B12.2655944%2C%2076.6465404%2C%202235.0%5D%2C%20%5B44.3730577%2C%20-71.6118577%2C%202144.0%5D%2C%20%5B12.9732913%2C%2077.6404672%2C%202083.0%5D%2C%20%5B27.64392675%2C%2083.05280519687284%2C%201926.0%5D%2C%20%5B12.9552572%2C%2077.6984163%2C%201846.0%5D%2C%20%5B12.887979%2C%2077.5970812%2C%201630.0%5D%2C%20%5B12.93577245%2C%2077.66676103753434%2C%201286.0%5D%2C%20%5B-6.271852%2C%20106.71337663408798%2C%201258.0%5D%2C%20%5B12.9355425%2C%2077.6128717%2C%201238.0%5D%2C%20%5B40.28745%2C%20-76.964526%2C%201218.0%5D%2C%20%5B12.9334288%2C%2077.6309732%2C%201181.0%5D%2C%20%5B12.9400321%2C%2077.6203272%2C%201156.0%5D%2C%20%5B12.9242381%2C%2077.6289059%2C%201065.0%5D%2C%20%5B12.9778793%2C%2077.6246697%2C%201023.0%5D%2C%20%5B12.93433385%2C%2077.63040639553275%2C%201017.0%5D%2C%20%5B16.5018813%2C%2080.6426257%2C%20918.0%5D%2C%20%5B15.8876779%2C%2075.7046777%2C%20906.0%5D%2C%20%5B13.0221416%2C%2077.6403368%2C%20853.0%5D%2C%20%5B50.7721586%2C%200.09772783661369303%2C%20812.0%5D%2C%20%5B12.996845%2C%2077.6130165%2C%20727.0%5D%2C%20%5B13.0027353%2C%2077.5703253%2C%20725.0%5D%2C%20%5B12.9417261%2C%2077.5755021%2C%20684.0%5D%2C%20%5B26.2660314%2C%2073.0265996%2C%20675.0%5D%2C%20%5B13.0141618%2C%2077.6518539%2C%20664.0%5D%2C%20%5B33.5935063%2C%20-79.0345627%2C%20658.0%5D%2C%20%5B13.0346384%2C%2077.5681733%2C%20649.0%5D%2C%20%5B13.0093455%2C%2077.6377094%2C%20648.0%5D%2C%20%5B12.9882338%2C%2077.554883%2C%20591.0%5D%2C%20%5B51.373656%2C%20-0.1042366%2C%20569.0%5D%2C%20%5B40.7652844%2C%20-76.373824%2C%20529.0%5D%2C%20%5B22.478459%2C%2088.3541291%2C%20511.0%5D%2C%20%5B18.5322493%2C%2073.8499601124847%2C%20499.0%5D%2C%20%5B12.9624669%2C%2077.6381958%2C%20496.0%5D%2C%20%5B31.89376%2C%20-88.066644%2C%20491.0%5D%2C%20%5B41.527815%2C%20-71.287155%2C%20446.0%5D%2C%20%5B12.945245%2C%2077.6269144%2C%20439.0%5D%2C%20%5B51.5164765%2C%20-0.0728317%2C%20370.0%5D%2C%20%5B51.5227651%2C%20-0.7354457%2C%20352.0%5D%2C%20%5B12.9417812%2C%2077.6160146%2C%20320.0%5D%2C%20%5B12.988721250000001%2C%2077.58516877601824%2C%20295.0%5D%2C%20%5B12.9678074%2C%2077.6568367%2C%20272.0%5D%2C%20%5B12.9489339%2C%2077.5968273%2C%20246.0%5D%2C%20%5B12.9089453%2C%2077.6239038%2C%20238.0%5D%2C%20%5B12.9271867%2C%2077.6266252%2C%20216.0%5D%2C%20%5B12.9081487%2C%2077.5553179%2C%20195.0%5D%2C%20%5B12.973936%2C%2077.6509982%2C%20194.0%5D%2C%20%5B12.9932739%2C%2077.5388099%2C%20191.0%5D%2C%20%5B13.2227%2C%2078.5541977%2C%20187.0%5D%2C%20%5B12.9931876%2C%2077.5753419%2C%20165.0%5D%2C%20%5B13.0258087%2C%2077.6305067%2C%20161.0%5D%2C%20%5B1.2847055%2C%20103.84320655721689%2C%20155.0%5D%2C%20%5B13.0358698%2C%2077.6323597%2C%20153.0%5D%2C%20%5B34.977289%2C%20-78.974578%2C%20151.0%5D%2C%20%5B31.4295008%2C%2073.0882481%2C%20139.0%5D%2C%20%5B39.76880625%2C%20-86.15345077251979%2C%20126.0%5D%2C%20%5B13.02383%2C%2077.5529215%2C%20119.0%5D%2C%20%5B12.9414662%2C%2077.7470942%2C%20117.0%5D%2C%20%5B12.9876616%2C%2077.7369153%2C%20113.0%5D%2C%20%5B13.0646907%2C%2077.49626895712257%2C%20107.0%5D%2C%20%5B12.9243509%2C%2077.6255562%2C%20102.0%5D%2C%20%5B12.773175%2C%2077.7831871%2C%20102.0%5D%2C%20%5B12.9846713%2C%2077.6790908%2C%20101.0%5D%2C%20%5B17.2510682%2C%2080.1651978%2C%2090.0%5D%2C%20%5B13.0227204%2C%2077.595715%2C%2080.0%5D%2C%20%5B22.8359967%2C%2069.3405962%2C%2080.0%5D%2C%20%5B23.1485712%2C%2081.6048241%2C%2076.0%5D%2C%20%5B15.8782951%2C%2074.5084834%2C%2063.0%5D%2C%20%5B13.0621474%2C%2077.58006135480495%2C%2053.0%5D%2C%20%5B13.2923988%2C%2077.7519261%2C%2048.0%5D%2C%20%5B13.0215466%2C%2077.7640586%2C%2044.0%5D%2C%20%5B11.9917786%2C%2076.5066292%2C%2038.0%5D%2C%20%5B12.945048%2C%2077.263004%2C%2034.0%5D%2C%20%5B12.957998%2C%2077.6037312%2C%2027.0%5D%2C%20%5B38.7801076%2C%20-121.5056438%2C%2027.0%5D%2C%20%5B12.3872141%2C%2076.6669626%2C%2022.0%5D%2C%20%5B13.194416%2C%2078.7011301%2C%2022.0%5D%2C%20%5B12.5607431%2C%2077.4258375%2C%2019.0%5D%2C%20%5B13.007516%2C%2077.695935%2C%2018.0%5D%2C%20%5B12.9055682%2C%2077.5455438%2C%2017.0%5D%2C%20%5B13.0382184%2C%2077.5919%2C%2014.0%5D%2C%20%5B13.0217151%2C%2077.7660547%2C%2014.0%5D%2C%20%5B12.9176571%2C%2077.4837568%2C%209.0%5D%2C%20%5B12.9546741%2C%2077.5121724%2C%209.0%5D%2C%20%5B13.0101286%2C%2077.5548006%2C%208.0%5D%2C%20%5B13.1006982%2C%2077.5963454%2C%206.0%5D%2C%20%5B12.9306281%2C%2077.5857408%2C%206.0%5D%2C%20%5B13.0784743%2C%2077.6068938%2C%203.0%5D%2C%20%5B12.9274413%2C%2077.5155224%2C%202.0%5D%2C%20%5B13.0329419%2C%2077.5273253%2C%201.0%5D%5D%2C%0A%20%20%20%20%20%20%20%20%20%20%20%20%20%20%20%20%7B%22blur%22%3A%2015%2C%20%22maxZoom%22%3A%2018%2C%20%22minOpacity%22%3A%200.5%2C%20%22radius%22%3A%2015%2C%20%22zoom%22%3A%2020%7D%0A%20%20%20%20%20%20%20%20%20%20%20%20%29.addTo%28map_e18cc7a6149247bda2a73d5c26829ade%29%3B%0A%20%20%20%20%20%20%20%20%0A%20%20%20%20%0A%20%20%20%20%20%20%20%20%20%20%20%20var%20fast_marker_cluster_ac6e64908e8f4419bc400d796bb97d2d%20%3D%20%28function%28%29%7B%0A%20%20%20%20%20%20%20%20%20%20%20%20%20%20%20%20%0A%20%20%20%20%20%20%20%20%20%20%20%20%20%20%20%20var%20callback%20%3D%20function%20%28row%29%20%7B%0A%20%20%20%20%20%20%20%20%20%20%20%20%20%20%20%20%20%20%20%20var%20icon%20%3D%20L.AwesomeMarkers.icon%28%29%3B%0A%20%20%20%20%20%20%20%20%20%20%20%20%20%20%20%20%20%20%20%20var%20marker%20%3D%20L.marker%28new%20L.LatLng%28row%5B0%5D%2C%20row%5B1%5D%29%29%3B%0A%20%20%20%20%20%20%20%20%20%20%20%20%20%20%20%20%20%20%20%20marker.setIcon%28icon%29%3B%0A%20%20%20%20%20%20%20%20%20%20%20%20%20%20%20%20%20%20%20%20return%20marker%3B%0A%20%20%20%20%20%20%20%20%20%20%20%20%20%20%20%20%7D%3B%0A%0A%20%20%20%20%20%20%20%20%20%20%20%20%20%20%20%20var%20data%20%3D%20%5B%5B45.95485055%2C%20-112.49659530324134%2C%205124.0%5D%2C%20%5B18.1475%2C%2041.538889%2C%202523.0%5D%2C%20%5B12.9343774%2C%2077.628415%2C%202504.0%5D%2C%20%5B12.2655944%2C%2076.6465404%2C%202235.0%5D%2C%20%5B44.3730577%2C%20-71.6118577%2C%202144.0%5D%2C%20%5B12.9732913%2C%2077.6404672%2C%202083.0%5D%2C%20%5B27.64392675%2C%2083.05280519687284%2C%201926.0%5D%2C%20%5B12.9552572%2C%2077.6984163%2C%201846.0%5D%2C%20%5B12.887979%2C%2077.5970812%2C%201630.0%5D%2C%20%5B12.93577245%2C%2077.66676103753434%2C%201286.0%5D%2C%20%5B-6.271852%2C%20106.71337663408798%2C%201258.0%5D%2C%20%5B12.9355425%2C%2077.6128717%2C%201238.0%5D%2C%20%5B40.28745%2C%20-76.964526%2C%201218.0%5D%2C%20%5B12.9334288%2C%2077.6309732%2C%201181.0%5D%2C%20%5B12.9400321%2C%2077.6203272%2C%201156.0%5D%2C%20%5B12.9242381%2C%2077.6289059%2C%201065.0%5D%2C%20%5B12.9778793%2C%2077.6246697%2C%201023.0%5D%2C%20%5B12.93433385%2C%2077.63040639553275%2C%201017.0%5D%2C%20%5B16.5018813%2C%2080.6426257%2C%20918.0%5D%2C%20%5B15.8876779%2C%2075.7046777%2C%20906.0%5D%2C%20%5B13.0221416%2C%2077.6403368%2C%20853.0%5D%2C%20%5B50.7721586%2C%200.09772783661369303%2C%20812.0%5D%2C%20%5B12.996845%2C%2077.6130165%2C%20727.0%5D%2C%20%5B13.0027353%2C%2077.5703253%2C%20725.0%5D%2C%20%5B12.9417261%2C%2077.5755021%2C%20684.0%5D%2C%20%5B26.2660314%2C%2073.0265996%2C%20675.0%5D%2C%20%5B13.0141618%2C%2077.6518539%2C%20664.0%5D%2C%20%5B33.5935063%2C%20-79.0345627%2C%20658.0%5D%2C%20%5B13.0346384%2C%2077.5681733%2C%20649.0%5D%2C%20%5B13.0093455%2C%2077.6377094%2C%20648.0%5D%2C%20%5B12.9882338%2C%2077.554883%2C%20591.0%5D%2C%20%5B51.373656%2C%20-0.1042366%2C%20569.0%5D%2C%20%5B40.7652844%2C%20-76.373824%2C%20529.0%5D%2C%20%5B22.478459%2C%2088.3541291%2C%20511.0%5D%2C%20%5B18.5322493%2C%2073.8499601124847%2C%20499.0%5D%2C%20%5B12.9624669%2C%2077.6381958%2C%20496.0%5D%2C%20%5B31.89376%2C%20-88.066644%2C%20491.0%5D%2C%20%5B41.527815%2C%20-71.287155%2C%20446.0%5D%2C%20%5B12.945245%2C%2077.6269144%2C%20439.0%5D%2C%20%5B51.5164765%2C%20-0.0728317%2C%20370.0%5D%2C%20%5B51.5227651%2C%20-0.7354457%2C%20352.0%5D%2C%20%5B12.9417812%2C%2077.6160146%2C%20320.0%5D%2C%20%5B12.988721250000001%2C%2077.58516877601824%2C%20295.0%5D%2C%20%5B12.9678074%2C%2077.6568367%2C%20272.0%5D%2C%20%5B12.9489339%2C%2077.5968273%2C%20246.0%5D%2C%20%5B12.9089453%2C%2077.6239038%2C%20238.0%5D%2C%20%5B12.9271867%2C%2077.6266252%2C%20216.0%5D%2C%20%5B12.9081487%2C%2077.5553179%2C%20195.0%5D%2C%20%5B12.973936%2C%2077.6509982%2C%20194.0%5D%2C%20%5B12.9932739%2C%2077.5388099%2C%20191.0%5D%2C%20%5B13.2227%2C%2078.5541977%2C%20187.0%5D%2C%20%5B12.9931876%2C%2077.5753419%2C%20165.0%5D%2C%20%5B13.0258087%2C%2077.6305067%2C%20161.0%5D%2C%20%5B1.2847055%2C%20103.84320655721689%2C%20155.0%5D%2C%20%5B13.0358698%2C%2077.6323597%2C%20153.0%5D%2C%20%5B34.977289%2C%20-78.974578%2C%20151.0%5D%2C%20%5B31.4295008%2C%2073.0882481%2C%20139.0%5D%2C%20%5B39.76880625%2C%20-86.15345077251979%2C%20126.0%5D%2C%20%5B13.02383%2C%2077.5529215%2C%20119.0%5D%2C%20%5B12.9414662%2C%2077.7470942%2C%20117.0%5D%2C%20%5B12.9876616%2C%2077.7369153%2C%20113.0%5D%2C%20%5B13.0646907%2C%2077.49626895712257%2C%20107.0%5D%2C%20%5B12.9243509%2C%2077.6255562%2C%20102.0%5D%2C%20%5B12.773175%2C%2077.7831871%2C%20102.0%5D%2C%20%5B12.9846713%2C%2077.6790908%2C%20101.0%5D%2C%20%5B17.2510682%2C%2080.1651978%2C%2090.0%5D%2C%20%5B13.0227204%2C%2077.595715%2C%2080.0%5D%2C%20%5B22.8359967%2C%2069.3405962%2C%2080.0%5D%2C%20%5B23.1485712%2C%2081.6048241%2C%2076.0%5D%2C%20%5B15.8782951%2C%2074.5084834%2C%2063.0%5D%2C%20%5B13.0621474%2C%2077.58006135480495%2C%2053.0%5D%2C%20%5B13.2923988%2C%2077.7519261%2C%2048.0%5D%2C%20%5B13.0215466%2C%2077.7640586%2C%2044.0%5D%2C%20%5B11.9917786%2C%2076.5066292%2C%2038.0%5D%2C%20%5B12.945048%2C%2077.263004%2C%2034.0%5D%2C%20%5B12.957998%2C%2077.6037312%2C%2027.0%5D%2C%20%5B38.7801076%2C%20-121.5056438%2C%2027.0%5D%2C%20%5B12.3872141%2C%2076.6669626%2C%2022.0%5D%2C%20%5B13.194416%2C%2078.7011301%2C%2022.0%5D%2C%20%5B12.5607431%2C%2077.4258375%2C%2019.0%5D%2C%20%5B13.007516%2C%2077.695935%2C%2018.0%5D%2C%20%5B12.9055682%2C%2077.5455438%2C%2017.0%5D%2C%20%5B13.0382184%2C%2077.5919%2C%2014.0%5D%2C%20%5B13.0217151%2C%2077.7660547%2C%2014.0%5D%2C%20%5B12.9176571%2C%2077.4837568%2C%209.0%5D%2C%20%5B12.9546741%2C%2077.5121724%2C%209.0%5D%2C%20%5B13.0101286%2C%2077.5548006%2C%208.0%5D%2C%20%5B13.1006982%2C%2077.5963454%2C%206.0%5D%2C%20%5B12.9306281%2C%2077.5857408%2C%206.0%5D%2C%20%5B13.0784743%2C%2077.6068938%2C%203.0%5D%2C%20%5B12.9274413%2C%2077.5155224%2C%202.0%5D%2C%20%5B13.0329419%2C%2077.5273253%2C%201.0%5D%5D%3B%0A%20%20%20%20%20%20%20%20%20%20%20%20%20%20%20%20var%20cluster%20%3D%20L.markerClusterGroup%28%7B%22zoom%22%3A%2020%7D%29%3B%0A%0A%20%20%20%20%20%20%20%20%20%20%20%20%20%20%20%20for%20%28var%20i%20%3D%200%3B%20i%20%3C%20data.length%3B%20i%2B%2B%29%20%7B%0A%20%20%20%20%20%20%20%20%20%20%20%20%20%20%20%20%20%20%20%20var%20row%20%3D%20data%5Bi%5D%3B%0A%20%20%20%20%20%20%20%20%20%20%20%20%20%20%20%20%20%20%20%20var%20marker%20%3D%20callback%28row%29%3B%0A%20%20%20%20%20%20%20%20%20%20%20%20%20%20%20%20%20%20%20%20marker.addTo%28cluster%29%3B%0A%20%20%20%20%20%20%20%20%20%20%20%20%20%20%20%20%7D%0A%0A%20%20%20%20%20%20%20%20%20%20%20%20%20%20%20%20cluster.addTo%28map_e18cc7a6149247bda2a73d5c26829ade%29%3B%0A%20%20%20%20%20%20%20%20%20%20%20%20%20%20%20%20return%20cluster%3B%0A%20%20%20%20%20%20%20%20%20%20%20%20%7D%29%28%29%3B%0A%20%20%20%20%20%20%20%20%0A%20%20%20%20%0A%20%20%20%20%20%20%20%20%20%20%20%20var%20fast_marker_cluster_6f2273eb47254c7ba39256825dc0310e%20%3D%20%28function%28%29%7B%0A%20%20%20%20%20%20%20%20%20%20%20%20%20%20%20%20%0A%20%20%20%20%20%20%20%20%20%20%20%20%20%20%20%20var%20callback%20%3D%20function%20%28row%29%20%7B%0A%20%20%20%20%20%20%20%20%20%20%20%20%20%20%20%20%20%20%20%20var%20icon%20%3D%20L.AwesomeMarkers.icon%28%29%3B%0A%20%20%20%20%20%20%20%20%20%20%20%20%20%20%20%20%20%20%20%20var%20marker%20%3D%20L.marker%28new%20L.LatLng%28row%5B0%5D%2C%20row%5B1%5D%29%29%3B%0A%20%20%20%20%20%20%20%20%20%20%20%20%20%20%20%20%20%20%20%20marker.setIcon%28icon%29%3B%0A%20%20%20%20%20%20%20%20%20%20%20%20%20%20%20%20%20%20%20%20return%20marker%3B%0A%20%20%20%20%20%20%20%20%20%20%20%20%20%20%20%20%7D%3B%0A%0A%20%20%20%20%20%20%20%20%20%20%20%20%20%20%20%20var%20data%20%3D%20%5B%5B45.95485055%2C%20-112.49659530324134%2C%205124.0%5D%2C%20%5B18.1475%2C%2041.538889%2C%202523.0%5D%2C%20%5B12.9343774%2C%2077.628415%2C%202504.0%5D%2C%20%5B12.2655944%2C%2076.6465404%2C%202235.0%5D%2C%20%5B44.3730577%2C%20-71.6118577%2C%202144.0%5D%2C%20%5B12.9732913%2C%2077.6404672%2C%202083.0%5D%2C%20%5B27.64392675%2C%2083.05280519687284%2C%201926.0%5D%2C%20%5B12.9552572%2C%2077.6984163%2C%201846.0%5D%2C%20%5B12.887979%2C%2077.5970812%2C%201630.0%5D%2C%20%5B12.93577245%2C%2077.66676103753434%2C%201286.0%5D%2C%20%5B-6.271852%2C%20106.71337663408798%2C%201258.0%5D%2C%20%5B12.9355425%2C%2077.6128717%2C%201238.0%5D%2C%20%5B40.28745%2C%20-76.964526%2C%201218.0%5D%2C%20%5B12.9334288%2C%2077.6309732%2C%201181.0%5D%2C%20%5B12.9400321%2C%2077.6203272%2C%201156.0%5D%2C%20%5B12.9242381%2C%2077.6289059%2C%201065.0%5D%2C%20%5B12.9778793%2C%2077.6246697%2C%201023.0%5D%2C%20%5B12.93433385%2C%2077.63040639553275%2C%201017.0%5D%2C%20%5B16.5018813%2C%2080.6426257%2C%20918.0%5D%2C%20%5B15.8876779%2C%2075.7046777%2C%20906.0%5D%2C%20%5B13.0221416%2C%2077.6403368%2C%20853.0%5D%2C%20%5B50.7721586%2C%200.09772783661369303%2C%20812.0%5D%2C%20%5B12.996845%2C%2077.6130165%2C%20727.0%5D%2C%20%5B13.0027353%2C%2077.5703253%2C%20725.0%5D%2C%20%5B12.9417261%2C%2077.5755021%2C%20684.0%5D%2C%20%5B26.2660314%2C%2073.0265996%2C%20675.0%5D%2C%20%5B13.0141618%2C%2077.6518539%2C%20664.0%5D%2C%20%5B33.5935063%2C%20-79.0345627%2C%20658.0%5D%2C%20%5B13.0346384%2C%2077.5681733%2C%20649.0%5D%2C%20%5B13.0093455%2C%2077.6377094%2C%20648.0%5D%2C%20%5B12.9882338%2C%2077.554883%2C%20591.0%5D%2C%20%5B51.373656%2C%20-0.1042366%2C%20569.0%5D%2C%20%5B40.7652844%2C%20-76.373824%2C%20529.0%5D%2C%20%5B22.478459%2C%2088.3541291%2C%20511.0%5D%2C%20%5B18.5322493%2C%2073.8499601124847%2C%20499.0%5D%2C%20%5B12.9624669%2C%2077.6381958%2C%20496.0%5D%2C%20%5B31.89376%2C%20-88.066644%2C%20491.0%5D%2C%20%5B41.527815%2C%20-71.287155%2C%20446.0%5D%2C%20%5B12.945245%2C%2077.6269144%2C%20439.0%5D%2C%20%5B51.5164765%2C%20-0.0728317%2C%20370.0%5D%2C%20%5B51.5227651%2C%20-0.7354457%2C%20352.0%5D%2C%20%5B12.9417812%2C%2077.6160146%2C%20320.0%5D%2C%20%5B12.988721250000001%2C%2077.58516877601824%2C%20295.0%5D%2C%20%5B12.9678074%2C%2077.6568367%2C%20272.0%5D%2C%20%5B12.9489339%2C%2077.5968273%2C%20246.0%5D%2C%20%5B12.9089453%2C%2077.6239038%2C%20238.0%5D%2C%20%5B12.9271867%2C%2077.6266252%2C%20216.0%5D%2C%20%5B12.9081487%2C%2077.5553179%2C%20195.0%5D%2C%20%5B12.973936%2C%2077.6509982%2C%20194.0%5D%2C%20%5B12.9932739%2C%2077.5388099%2C%20191.0%5D%2C%20%5B13.2227%2C%2078.5541977%2C%20187.0%5D%2C%20%5B12.9931876%2C%2077.5753419%2C%20165.0%5D%2C%20%5B13.0258087%2C%2077.6305067%2C%20161.0%5D%2C%20%5B1.2847055%2C%20103.84320655721689%2C%20155.0%5D%2C%20%5B13.0358698%2C%2077.6323597%2C%20153.0%5D%2C%20%5B34.977289%2C%20-78.974578%2C%20151.0%5D%2C%20%5B31.4295008%2C%2073.0882481%2C%20139.0%5D%2C%20%5B39.76880625%2C%20-86.15345077251979%2C%20126.0%5D%2C%20%5B13.02383%2C%2077.5529215%2C%20119.0%5D%2C%20%5B12.9414662%2C%2077.7470942%2C%20117.0%5D%2C%20%5B12.9876616%2C%2077.7369153%2C%20113.0%5D%2C%20%5B13.0646907%2C%2077.49626895712257%2C%20107.0%5D%2C%20%5B12.9243509%2C%2077.6255562%2C%20102.0%5D%2C%20%5B12.773175%2C%2077.7831871%2C%20102.0%5D%2C%20%5B12.9846713%2C%2077.6790908%2C%20101.0%5D%2C%20%5B17.2510682%2C%2080.1651978%2C%2090.0%5D%2C%20%5B13.0227204%2C%2077.595715%2C%2080.0%5D%2C%20%5B22.8359967%2C%2069.3405962%2C%2080.0%5D%2C%20%5B23.1485712%2C%2081.6048241%2C%2076.0%5D%2C%20%5B15.8782951%2C%2074.5084834%2C%2063.0%5D%2C%20%5B13.0621474%2C%2077.58006135480495%2C%2053.0%5D%2C%20%5B13.2923988%2C%2077.7519261%2C%2048.0%5D%2C%20%5B13.0215466%2C%2077.7640586%2C%2044.0%5D%2C%20%5B11.9917786%2C%2076.5066292%2C%2038.0%5D%2C%20%5B12.945048%2C%2077.263004%2C%2034.0%5D%2C%20%5B12.957998%2C%2077.6037312%2C%2027.0%5D%2C%20%5B38.7801076%2C%20-121.5056438%2C%2027.0%5D%2C%20%5B12.3872141%2C%2076.6669626%2C%2022.0%5D%2C%20%5B13.194416%2C%2078.7011301%2C%2022.0%5D%2C%20%5B12.5607431%2C%2077.4258375%2C%2019.0%5D%2C%20%5B13.007516%2C%2077.695935%2C%2018.0%5D%2C%20%5B12.9055682%2C%2077.5455438%2C%2017.0%5D%2C%20%5B13.0382184%2C%2077.5919%2C%2014.0%5D%2C%20%5B13.0217151%2C%2077.7660547%2C%2014.0%5D%2C%20%5B12.9176571%2C%2077.4837568%2C%209.0%5D%2C%20%5B12.9546741%2C%2077.5121724%2C%209.0%5D%2C%20%5B13.0101286%2C%2077.5548006%2C%208.0%5D%2C%20%5B13.1006982%2C%2077.5963454%2C%206.0%5D%2C%20%5B12.9306281%2C%2077.5857408%2C%206.0%5D%2C%20%5B13.0784743%2C%2077.6068938%2C%203.0%5D%2C%20%5B12.9274413%2C%2077.5155224%2C%202.0%5D%2C%20%5B13.0329419%2C%2077.5273253%2C%201.0%5D%5D%3B%0A%20%20%20%20%20%20%20%20%20%20%20%20%20%20%20%20var%20cluster%20%3D%20L.markerClusterGroup%28%7B%22zoom%22%3A%2020%7D%29%3B%0A%0A%20%20%20%20%20%20%20%20%20%20%20%20%20%20%20%20for%20%28var%20i%20%3D%200%3B%20i%20%3C%20data.length%3B%20i%2B%2B%29%20%7B%0A%20%20%20%20%20%20%20%20%20%20%20%20%20%20%20%20%20%20%20%20var%20row%20%3D%20data%5Bi%5D%3B%0A%20%20%20%20%20%20%20%20%20%20%20%20%20%20%20%20%20%20%20%20var%20marker%20%3D%20callback%28row%29%3B%0A%20%20%20%20%20%20%20%20%20%20%20%20%20%20%20%20%20%20%20%20marker.addTo%28cluster%29%3B%0A%20%20%20%20%20%20%20%20%20%20%20%20%20%20%20%20%7D%0A%0A%20%20%20%20%20%20%20%20%20%20%20%20%20%20%20%20cluster.addTo%28map_e18cc7a6149247bda2a73d5c26829ade%29%3B%0A%20%20%20%20%20%20%20%20%20%20%20%20%20%20%20%20return%20cluster%3B%0A%20%20%20%20%20%20%20%20%20%20%20%20%7D%29%28%29%3B%0A%20%20%20%20%20%20%20%20%0A%3C/script%3E onload=\"this.contentDocument.open();this.contentDocument.write(    decodeURIComponent(this.getAttribute('data-html')));this.contentDocument.close();\" allowfullscreen webkitallowfullscreen mozallowfullscreen></iframe></div></div>"
      ],
      "text/plain": [
       "<folium.folium.Map at 0x22480d25148>"
      ]
     },
     "execution_count": 49,
     "metadata": {},
     "output_type": "execute_result"
    }
   ],
   "source": [
    "base_map"
   ]
  },
  {
   "cell_type": "code",
   "execution_count": 50,
   "metadata": {},
   "outputs": [
    {
     "data": {
      "text/html": [
       "<div>\n",
       "<style scoped>\n",
       "    .dataframe tbody tr th:only-of-type {\n",
       "        vertical-align: middle;\n",
       "    }\n",
       "\n",
       "    .dataframe tbody tr th {\n",
       "        vertical-align: top;\n",
       "    }\n",
       "\n",
       "    .dataframe thead th {\n",
       "        text-align: right;\n",
       "    }\n",
       "</style>\n",
       "<table border=\"1\" class=\"dataframe\">\n",
       "  <thead>\n",
       "    <tr style=\"text-align: right;\">\n",
       "      <th></th>\n",
       "      <th>url</th>\n",
       "      <th>address</th>\n",
       "      <th>name</th>\n",
       "      <th>online_order</th>\n",
       "      <th>book_table</th>\n",
       "      <th>rate</th>\n",
       "      <th>votes</th>\n",
       "      <th>phone</th>\n",
       "      <th>location</th>\n",
       "      <th>rest_type</th>\n",
       "      <th>dish_liked</th>\n",
       "      <th>cuisines</th>\n",
       "      <th>approx_cost(for two people)</th>\n",
       "      <th>reviews_list</th>\n",
       "      <th>menu_item</th>\n",
       "      <th>listed_in(type)</th>\n",
       "      <th>listed_in(city)</th>\n",
       "    </tr>\n",
       "  </thead>\n",
       "  <tbody>\n",
       "    <tr>\n",
       "      <th>0</th>\n",
       "      <td>https://www.zomato.com/bangalore/jalsa-banasha...</td>\n",
       "      <td>942, 21st Main Road, 2nd Stage, Banashankari, ...</td>\n",
       "      <td>Jalsa</td>\n",
       "      <td>Yes</td>\n",
       "      <td>Yes</td>\n",
       "      <td>4.1/5</td>\n",
       "      <td>775</td>\n",
       "      <td>080 42297555\\r\\n+91 9743772233</td>\n",
       "      <td>Banashankari</td>\n",
       "      <td>Casual Dining</td>\n",
       "      <td>Pasta, Lunch Buffet, Masala Papad, Paneer Laja...</td>\n",
       "      <td>North Indian, Mughlai, Chinese</td>\n",
       "      <td>800</td>\n",
       "      <td>[('Rated 4.0', 'RATED\\n  A beautiful place to ...</td>\n",
       "      <td>[]</td>\n",
       "      <td>Buffet</td>\n",
       "      <td>Banashankari</td>\n",
       "    </tr>\n",
       "    <tr>\n",
       "      <th>1</th>\n",
       "      <td>https://www.zomato.com/bangalore/spice-elephan...</td>\n",
       "      <td>2nd Floor, 80 Feet Road, Near Big Bazaar, 6th ...</td>\n",
       "      <td>Spice Elephant</td>\n",
       "      <td>Yes</td>\n",
       "      <td>No</td>\n",
       "      <td>4.1/5</td>\n",
       "      <td>787</td>\n",
       "      <td>080 41714161</td>\n",
       "      <td>Banashankari</td>\n",
       "      <td>Casual Dining</td>\n",
       "      <td>Momos, Lunch Buffet, Chocolate Nirvana, Thai G...</td>\n",
       "      <td>Chinese, North Indian, Thai</td>\n",
       "      <td>800</td>\n",
       "      <td>[('Rated 4.0', 'RATED\\n  Had been here for din...</td>\n",
       "      <td>[]</td>\n",
       "      <td>Buffet</td>\n",
       "      <td>Banashankari</td>\n",
       "    </tr>\n",
       "    <tr>\n",
       "      <th>2</th>\n",
       "      <td>https://www.zomato.com/SanchurroBangalore?cont...</td>\n",
       "      <td>1112, Next to KIMS Medical College, 17th Cross...</td>\n",
       "      <td>San Churro Cafe</td>\n",
       "      <td>Yes</td>\n",
       "      <td>No</td>\n",
       "      <td>3.8/5</td>\n",
       "      <td>918</td>\n",
       "      <td>+91 9663487993</td>\n",
       "      <td>Banashankari</td>\n",
       "      <td>Cafe, Casual Dining</td>\n",
       "      <td>Churros, Cannelloni, Minestrone Soup, Hot Choc...</td>\n",
       "      <td>Cafe, Mexican, Italian</td>\n",
       "      <td>800</td>\n",
       "      <td>[('Rated 3.0', \"RATED\\n  Ambience is not that ...</td>\n",
       "      <td>[]</td>\n",
       "      <td>Buffet</td>\n",
       "      <td>Banashankari</td>\n",
       "    </tr>\n",
       "    <tr>\n",
       "      <th>3</th>\n",
       "      <td>https://www.zomato.com/bangalore/addhuri-udupi...</td>\n",
       "      <td>1st Floor, Annakuteera, 3rd Stage, Banashankar...</td>\n",
       "      <td>Addhuri Udupi Bhojana</td>\n",
       "      <td>No</td>\n",
       "      <td>No</td>\n",
       "      <td>3.7/5</td>\n",
       "      <td>88</td>\n",
       "      <td>+91 9620009302</td>\n",
       "      <td>Banashankari</td>\n",
       "      <td>Quick Bites</td>\n",
       "      <td>Masala Dosa</td>\n",
       "      <td>South Indian, North Indian</td>\n",
       "      <td>300</td>\n",
       "      <td>[('Rated 4.0', \"RATED\\n  Great food and proper...</td>\n",
       "      <td>[]</td>\n",
       "      <td>Buffet</td>\n",
       "      <td>Banashankari</td>\n",
       "    </tr>\n",
       "    <tr>\n",
       "      <th>4</th>\n",
       "      <td>https://www.zomato.com/bangalore/grand-village...</td>\n",
       "      <td>10, 3rd Floor, Lakshmi Associates, Gandhi Baza...</td>\n",
       "      <td>Grand Village</td>\n",
       "      <td>No</td>\n",
       "      <td>No</td>\n",
       "      <td>3.8/5</td>\n",
       "      <td>166</td>\n",
       "      <td>+91 8026612447\\r\\n+91 9901210005</td>\n",
       "      <td>Basavanagudi</td>\n",
       "      <td>Casual Dining</td>\n",
       "      <td>Panipuri, Gol Gappe</td>\n",
       "      <td>North Indian, Rajasthani</td>\n",
       "      <td>600</td>\n",
       "      <td>[('Rated 4.0', 'RATED\\n  Very good restaurant ...</td>\n",
       "      <td>[]</td>\n",
       "      <td>Buffet</td>\n",
       "      <td>Banashankari</td>\n",
       "    </tr>\n",
       "  </tbody>\n",
       "</table>\n",
       "</div>"
      ],
      "text/plain": [
       "                                                 url  \\\n",
       "0  https://www.zomato.com/bangalore/jalsa-banasha...   \n",
       "1  https://www.zomato.com/bangalore/spice-elephan...   \n",
       "2  https://www.zomato.com/SanchurroBangalore?cont...   \n",
       "3  https://www.zomato.com/bangalore/addhuri-udupi...   \n",
       "4  https://www.zomato.com/bangalore/grand-village...   \n",
       "\n",
       "                                             address                   name  \\\n",
       "0  942, 21st Main Road, 2nd Stage, Banashankari, ...                  Jalsa   \n",
       "1  2nd Floor, 80 Feet Road, Near Big Bazaar, 6th ...         Spice Elephant   \n",
       "2  1112, Next to KIMS Medical College, 17th Cross...        San Churro Cafe   \n",
       "3  1st Floor, Annakuteera, 3rd Stage, Banashankar...  Addhuri Udupi Bhojana   \n",
       "4  10, 3rd Floor, Lakshmi Associates, Gandhi Baza...          Grand Village   \n",
       "\n",
       "  online_order book_table   rate  votes                             phone  \\\n",
       "0          Yes        Yes  4.1/5    775    080 42297555\\r\\n+91 9743772233   \n",
       "1          Yes         No  4.1/5    787                      080 41714161   \n",
       "2          Yes         No  3.8/5    918                    +91 9663487993   \n",
       "3           No         No  3.7/5     88                    +91 9620009302   \n",
       "4           No         No  3.8/5    166  +91 8026612447\\r\\n+91 9901210005   \n",
       "\n",
       "       location            rest_type  \\\n",
       "0  Banashankari        Casual Dining   \n",
       "1  Banashankari        Casual Dining   \n",
       "2  Banashankari  Cafe, Casual Dining   \n",
       "3  Banashankari          Quick Bites   \n",
       "4  Basavanagudi        Casual Dining   \n",
       "\n",
       "                                          dish_liked  \\\n",
       "0  Pasta, Lunch Buffet, Masala Papad, Paneer Laja...   \n",
       "1  Momos, Lunch Buffet, Chocolate Nirvana, Thai G...   \n",
       "2  Churros, Cannelloni, Minestrone Soup, Hot Choc...   \n",
       "3                                        Masala Dosa   \n",
       "4                                Panipuri, Gol Gappe   \n",
       "\n",
       "                         cuisines approx_cost(for two people)  \\\n",
       "0  North Indian, Mughlai, Chinese                         800   \n",
       "1     Chinese, North Indian, Thai                         800   \n",
       "2          Cafe, Mexican, Italian                         800   \n",
       "3      South Indian, North Indian                         300   \n",
       "4        North Indian, Rajasthani                         600   \n",
       "\n",
       "                                        reviews_list menu_item  \\\n",
       "0  [('Rated 4.0', 'RATED\\n  A beautiful place to ...        []   \n",
       "1  [('Rated 4.0', 'RATED\\n  Had been here for din...        []   \n",
       "2  [('Rated 3.0', \"RATED\\n  Ambience is not that ...        []   \n",
       "3  [('Rated 4.0', \"RATED\\n  Great food and proper...        []   \n",
       "4  [('Rated 4.0', 'RATED\\n  Very good restaurant ...        []   \n",
       "\n",
       "  listed_in(type) listed_in(city)  \n",
       "0          Buffet    Banashankari  \n",
       "1          Buffet    Banashankari  \n",
       "2          Buffet    Banashankari  \n",
       "3          Buffet    Banashankari  \n",
       "4          Buffet    Banashankari  "
      ]
     },
     "execution_count": 50,
     "metadata": {},
     "output_type": "execute_result"
    }
   ],
   "source": [
    "df.head()"
   ]
  },
  {
   "cell_type": "code",
   "execution_count": 51,
   "metadata": {},
   "outputs": [
    {
     "data": {
      "text/plain": [
       "array(['4.1/5', '3.8/5', '3.7/5', '3.6/5', '4.6/5', '4.0/5', '4.2/5',\n",
       "       '3.9/5', '3.1/5', '3.0/5', '3.2/5', '3.3/5', '2.8/5', '4.4/5',\n",
       "       '4.3/5', 'NEW', '2.9/5', '3.5/5', nan, '2.6/5', '3.8 /5', '3.4/5',\n",
       "       '4.5/5', '2.5/5', '2.7/5', '4.7/5', '2.4/5', '2.2/5', '2.3/5',\n",
       "       '3.4 /5', '-', '3.6 /5', '4.8/5', '3.9 /5', '4.2 /5', '4.0 /5',\n",
       "       '4.1 /5', '3.7 /5', '3.1 /5', '2.9 /5', '3.3 /5', '2.8 /5',\n",
       "       '3.5 /5', '2.7 /5', '2.5 /5', '3.2 /5', '2.6 /5', '4.5 /5',\n",
       "       '4.3 /5', '4.4 /5', '4.9/5', '2.1/5', '2.0/5', '1.8/5', '4.6 /5',\n",
       "       '4.9 /5', '3.0 /5', '4.8 /5', '2.3 /5', '4.7 /5', '2.4 /5',\n",
       "       '2.1 /5', '2.2 /5', '2.0 /5', '1.8 /5'], dtype=object)"
      ]
     },
     "execution_count": 51,
     "metadata": {},
     "output_type": "execute_result"
    }
   ],
   "source": [
    "df['rate'].unique() \n",
    "#there is a nan value so we have to remove it``"
   ]
  },
  {
   "cell_type": "code",
   "execution_count": 53,
   "metadata": {},
   "outputs": [],
   "source": [
    "df.dropna(axis=0, subset=['rate'], inplace=True)"
   ]
  },
  {
   "cell_type": "code",
   "execution_count": 54,
   "metadata": {
    "scrolled": true
   },
   "outputs": [
    {
     "data": {
      "text/plain": [
       "array(['4.1/5', '3.8/5', '3.7/5', '3.6/5', '4.6/5', '4.0/5', '4.2/5',\n",
       "       '3.9/5', '3.1/5', '3.0/5', '3.2/5', '3.3/5', '2.8/5', '4.4/5',\n",
       "       '4.3/5', 'NEW', '2.9/5', '3.5/5', '2.6/5', '3.8 /5', '3.4/5',\n",
       "       '4.5/5', '2.5/5', '2.7/5', '4.7/5', '2.4/5', '2.2/5', '2.3/5',\n",
       "       '3.4 /5', '-', '3.6 /5', '4.8/5', '3.9 /5', '4.2 /5', '4.0 /5',\n",
       "       '4.1 /5', '3.7 /5', '3.1 /5', '2.9 /5', '3.3 /5', '2.8 /5',\n",
       "       '3.5 /5', '2.7 /5', '2.5 /5', '3.2 /5', '2.6 /5', '4.5 /5',\n",
       "       '4.3 /5', '4.4 /5', '4.9/5', '2.1/5', '2.0/5', '1.8/5', '4.6 /5',\n",
       "       '4.9 /5', '3.0 /5', '4.8 /5', '2.3 /5', '4.7 /5', '2.4 /5',\n",
       "       '2.1 /5', '2.2 /5', '2.0 /5', '1.8 /5'], dtype=object)"
      ]
     },
     "execution_count": 54,
     "metadata": {},
     "output_type": "execute_result"
    }
   ],
   "source": [
    "df['rate'].unique()"
   ]
  },
  {
   "cell_type": "code",
   "execution_count": 55,
   "metadata": {},
   "outputs": [],
   "source": [
    "def split(x):\n",
    "    return x.split('/')[0]\n",
    "\n",
    "#insists of 4.1/5 we getting 4.1"
   ]
  },
  {
   "cell_type": "code",
   "execution_count": 56,
   "metadata": {},
   "outputs": [],
   "source": [
    "df['rating']=df['rate'].apply(split)\n",
    "\n",
    "#adding new column as rating "
   ]
  },
  {
   "cell_type": "code",
   "execution_count": 58,
   "metadata": {},
   "outputs": [
    {
     "data": {
      "text/html": [
       "<div>\n",
       "<style scoped>\n",
       "    .dataframe tbody tr th:only-of-type {\n",
       "        vertical-align: middle;\n",
       "    }\n",
       "\n",
       "    .dataframe tbody tr th {\n",
       "        vertical-align: top;\n",
       "    }\n",
       "\n",
       "    .dataframe thead th {\n",
       "        text-align: right;\n",
       "    }\n",
       "</style>\n",
       "<table border=\"1\" class=\"dataframe\">\n",
       "  <thead>\n",
       "    <tr style=\"text-align: right;\">\n",
       "      <th></th>\n",
       "      <th>url</th>\n",
       "      <th>address</th>\n",
       "      <th>name</th>\n",
       "      <th>online_order</th>\n",
       "      <th>book_table</th>\n",
       "      <th>rate</th>\n",
       "      <th>votes</th>\n",
       "      <th>phone</th>\n",
       "      <th>location</th>\n",
       "      <th>rest_type</th>\n",
       "      <th>dish_liked</th>\n",
       "      <th>cuisines</th>\n",
       "      <th>approx_cost(for two people)</th>\n",
       "      <th>reviews_list</th>\n",
       "      <th>menu_item</th>\n",
       "      <th>listed_in(type)</th>\n",
       "      <th>listed_in(city)</th>\n",
       "      <th>rating</th>\n",
       "    </tr>\n",
       "  </thead>\n",
       "  <tbody>\n",
       "    <tr>\n",
       "      <th>0</th>\n",
       "      <td>https://www.zomato.com/bangalore/jalsa-banasha...</td>\n",
       "      <td>942, 21st Main Road, 2nd Stage, Banashankari, ...</td>\n",
       "      <td>Jalsa</td>\n",
       "      <td>Yes</td>\n",
       "      <td>Yes</td>\n",
       "      <td>4.1/5</td>\n",
       "      <td>775</td>\n",
       "      <td>080 42297555\\r\\n+91 9743772233</td>\n",
       "      <td>Banashankari</td>\n",
       "      <td>Casual Dining</td>\n",
       "      <td>Pasta, Lunch Buffet, Masala Papad, Paneer Laja...</td>\n",
       "      <td>North Indian, Mughlai, Chinese</td>\n",
       "      <td>800</td>\n",
       "      <td>[('Rated 4.0', 'RATED\\n  A beautiful place to ...</td>\n",
       "      <td>[]</td>\n",
       "      <td>Buffet</td>\n",
       "      <td>Banashankari</td>\n",
       "      <td>4.1</td>\n",
       "    </tr>\n",
       "    <tr>\n",
       "      <th>1</th>\n",
       "      <td>https://www.zomato.com/bangalore/spice-elephan...</td>\n",
       "      <td>2nd Floor, 80 Feet Road, Near Big Bazaar, 6th ...</td>\n",
       "      <td>Spice Elephant</td>\n",
       "      <td>Yes</td>\n",
       "      <td>No</td>\n",
       "      <td>4.1/5</td>\n",
       "      <td>787</td>\n",
       "      <td>080 41714161</td>\n",
       "      <td>Banashankari</td>\n",
       "      <td>Casual Dining</td>\n",
       "      <td>Momos, Lunch Buffet, Chocolate Nirvana, Thai G...</td>\n",
       "      <td>Chinese, North Indian, Thai</td>\n",
       "      <td>800</td>\n",
       "      <td>[('Rated 4.0', 'RATED\\n  Had been here for din...</td>\n",
       "      <td>[]</td>\n",
       "      <td>Buffet</td>\n",
       "      <td>Banashankari</td>\n",
       "      <td>4.1</td>\n",
       "    </tr>\n",
       "    <tr>\n",
       "      <th>2</th>\n",
       "      <td>https://www.zomato.com/SanchurroBangalore?cont...</td>\n",
       "      <td>1112, Next to KIMS Medical College, 17th Cross...</td>\n",
       "      <td>San Churro Cafe</td>\n",
       "      <td>Yes</td>\n",
       "      <td>No</td>\n",
       "      <td>3.8/5</td>\n",
       "      <td>918</td>\n",
       "      <td>+91 9663487993</td>\n",
       "      <td>Banashankari</td>\n",
       "      <td>Cafe, Casual Dining</td>\n",
       "      <td>Churros, Cannelloni, Minestrone Soup, Hot Choc...</td>\n",
       "      <td>Cafe, Mexican, Italian</td>\n",
       "      <td>800</td>\n",
       "      <td>[('Rated 3.0', \"RATED\\n  Ambience is not that ...</td>\n",
       "      <td>[]</td>\n",
       "      <td>Buffet</td>\n",
       "      <td>Banashankari</td>\n",
       "      <td>3.8</td>\n",
       "    </tr>\n",
       "    <tr>\n",
       "      <th>3</th>\n",
       "      <td>https://www.zomato.com/bangalore/addhuri-udupi...</td>\n",
       "      <td>1st Floor, Annakuteera, 3rd Stage, Banashankar...</td>\n",
       "      <td>Addhuri Udupi Bhojana</td>\n",
       "      <td>No</td>\n",
       "      <td>No</td>\n",
       "      <td>3.7/5</td>\n",
       "      <td>88</td>\n",
       "      <td>+91 9620009302</td>\n",
       "      <td>Banashankari</td>\n",
       "      <td>Quick Bites</td>\n",
       "      <td>Masala Dosa</td>\n",
       "      <td>South Indian, North Indian</td>\n",
       "      <td>300</td>\n",
       "      <td>[('Rated 4.0', \"RATED\\n  Great food and proper...</td>\n",
       "      <td>[]</td>\n",
       "      <td>Buffet</td>\n",
       "      <td>Banashankari</td>\n",
       "      <td>3.7</td>\n",
       "    </tr>\n",
       "    <tr>\n",
       "      <th>4</th>\n",
       "      <td>https://www.zomato.com/bangalore/grand-village...</td>\n",
       "      <td>10, 3rd Floor, Lakshmi Associates, Gandhi Baza...</td>\n",
       "      <td>Grand Village</td>\n",
       "      <td>No</td>\n",
       "      <td>No</td>\n",
       "      <td>3.8/5</td>\n",
       "      <td>166</td>\n",
       "      <td>+91 8026612447\\r\\n+91 9901210005</td>\n",
       "      <td>Basavanagudi</td>\n",
       "      <td>Casual Dining</td>\n",
       "      <td>Panipuri, Gol Gappe</td>\n",
       "      <td>North Indian, Rajasthani</td>\n",
       "      <td>600</td>\n",
       "      <td>[('Rated 4.0', 'RATED\\n  Very good restaurant ...</td>\n",
       "      <td>[]</td>\n",
       "      <td>Buffet</td>\n",
       "      <td>Banashankari</td>\n",
       "      <td>3.8</td>\n",
       "    </tr>\n",
       "  </tbody>\n",
       "</table>\n",
       "</div>"
      ],
      "text/plain": [
       "                                                 url  \\\n",
       "0  https://www.zomato.com/bangalore/jalsa-banasha...   \n",
       "1  https://www.zomato.com/bangalore/spice-elephan...   \n",
       "2  https://www.zomato.com/SanchurroBangalore?cont...   \n",
       "3  https://www.zomato.com/bangalore/addhuri-udupi...   \n",
       "4  https://www.zomato.com/bangalore/grand-village...   \n",
       "\n",
       "                                             address                   name  \\\n",
       "0  942, 21st Main Road, 2nd Stage, Banashankari, ...                  Jalsa   \n",
       "1  2nd Floor, 80 Feet Road, Near Big Bazaar, 6th ...         Spice Elephant   \n",
       "2  1112, Next to KIMS Medical College, 17th Cross...        San Churro Cafe   \n",
       "3  1st Floor, Annakuteera, 3rd Stage, Banashankar...  Addhuri Udupi Bhojana   \n",
       "4  10, 3rd Floor, Lakshmi Associates, Gandhi Baza...          Grand Village   \n",
       "\n",
       "  online_order book_table   rate  votes                             phone  \\\n",
       "0          Yes        Yes  4.1/5    775    080 42297555\\r\\n+91 9743772233   \n",
       "1          Yes         No  4.1/5    787                      080 41714161   \n",
       "2          Yes         No  3.8/5    918                    +91 9663487993   \n",
       "3           No         No  3.7/5     88                    +91 9620009302   \n",
       "4           No         No  3.8/5    166  +91 8026612447\\r\\n+91 9901210005   \n",
       "\n",
       "       location            rest_type  \\\n",
       "0  Banashankari        Casual Dining   \n",
       "1  Banashankari        Casual Dining   \n",
       "2  Banashankari  Cafe, Casual Dining   \n",
       "3  Banashankari          Quick Bites   \n",
       "4  Basavanagudi        Casual Dining   \n",
       "\n",
       "                                          dish_liked  \\\n",
       "0  Pasta, Lunch Buffet, Masala Papad, Paneer Laja...   \n",
       "1  Momos, Lunch Buffet, Chocolate Nirvana, Thai G...   \n",
       "2  Churros, Cannelloni, Minestrone Soup, Hot Choc...   \n",
       "3                                        Masala Dosa   \n",
       "4                                Panipuri, Gol Gappe   \n",
       "\n",
       "                         cuisines approx_cost(for two people)  \\\n",
       "0  North Indian, Mughlai, Chinese                         800   \n",
       "1     Chinese, North Indian, Thai                         800   \n",
       "2          Cafe, Mexican, Italian                         800   \n",
       "3      South Indian, North Indian                         300   \n",
       "4        North Indian, Rajasthani                         600   \n",
       "\n",
       "                                        reviews_list menu_item  \\\n",
       "0  [('Rated 4.0', 'RATED\\n  A beautiful place to ...        []   \n",
       "1  [('Rated 4.0', 'RATED\\n  Had been here for din...        []   \n",
       "2  [('Rated 3.0', \"RATED\\n  Ambience is not that ...        []   \n",
       "3  [('Rated 4.0', \"RATED\\n  Great food and proper...        []   \n",
       "4  [('Rated 4.0', 'RATED\\n  Very good restaurant ...        []   \n",
       "\n",
       "  listed_in(type) listed_in(city) rating  \n",
       "0          Buffet    Banashankari    4.1  \n",
       "1          Buffet    Banashankari    4.1  \n",
       "2          Buffet    Banashankari    3.8  \n",
       "3          Buffet    Banashankari    3.7  \n",
       "4          Buffet    Banashankari    3.8  "
      ]
     },
     "execution_count": 58,
     "metadata": {},
     "output_type": "execute_result"
    }
   ],
   "source": [
    "df.head()\n",
    "#"
   ]
  },
  {
   "cell_type": "code",
   "execution_count": 59,
   "metadata": {},
   "outputs": [
    {
     "data": {
      "text/plain": [
       "array(['4.1', '3.8', '3.7', '3.6', '4.6', '4.0', '4.2', '3.9', '3.1',\n",
       "       '3.0', '3.2', '3.3', '2.8', '4.4', '4.3', 'NEW', '2.9', '3.5',\n",
       "       '2.6', '3.8 ', '3.4', '4.5', '2.5', '2.7', '4.7', '2.4', '2.2',\n",
       "       '2.3', '3.4 ', '-', '3.6 ', '4.8', '3.9 ', '4.2 ', '4.0 ', '4.1 ',\n",
       "       '3.7 ', '3.1 ', '2.9 ', '3.3 ', '2.8 ', '3.5 ', '2.7 ', '2.5 ',\n",
       "       '3.2 ', '2.6 ', '4.5 ', '4.3 ', '4.4 ', '4.9', '2.1', '2.0', '1.8',\n",
       "       '4.6 ', '4.9 ', '3.0 ', '4.8 ', '2.3 ', '4.7 ', '2.4 ', '2.1 ',\n",
       "       '2.2 ', '2.0 ', '1.8 '], dtype=object)"
      ]
     },
     "execution_count": 59,
     "metadata": {},
     "output_type": "execute_result"
    }
   ],
   "source": [
    "df['rating'].unique()\n",
    "\n",
    "#there is a new 'NEW' and '-'"
   ]
  },
  {
   "cell_type": "code",
   "execution_count": 60,
   "metadata": {},
   "outputs": [],
   "source": [
    "df.replace('NEW', 0, inplace=True)"
   ]
  },
  {
   "cell_type": "code",
   "execution_count": 61,
   "metadata": {},
   "outputs": [],
   "source": [
    "df.replace('-',0, inplace=True)"
   ]
  },
  {
   "cell_type": "code",
   "execution_count": 62,
   "metadata": {},
   "outputs": [
    {
     "data": {
      "text/html": [
       "<div>\n",
       "<style scoped>\n",
       "    .dataframe tbody tr th:only-of-type {\n",
       "        vertical-align: middle;\n",
       "    }\n",
       "\n",
       "    .dataframe tbody tr th {\n",
       "        vertical-align: top;\n",
       "    }\n",
       "\n",
       "    .dataframe thead th {\n",
       "        text-align: right;\n",
       "    }\n",
       "</style>\n",
       "<table border=\"1\" class=\"dataframe\">\n",
       "  <thead>\n",
       "    <tr style=\"text-align: right;\">\n",
       "      <th></th>\n",
       "      <th>url</th>\n",
       "      <th>address</th>\n",
       "      <th>name</th>\n",
       "      <th>online_order</th>\n",
       "      <th>book_table</th>\n",
       "      <th>rate</th>\n",
       "      <th>votes</th>\n",
       "      <th>phone</th>\n",
       "      <th>location</th>\n",
       "      <th>rest_type</th>\n",
       "      <th>dish_liked</th>\n",
       "      <th>cuisines</th>\n",
       "      <th>approx_cost(for two people)</th>\n",
       "      <th>reviews_list</th>\n",
       "      <th>menu_item</th>\n",
       "      <th>listed_in(type)</th>\n",
       "      <th>listed_in(city)</th>\n",
       "      <th>rating</th>\n",
       "    </tr>\n",
       "  </thead>\n",
       "  <tbody>\n",
       "    <tr>\n",
       "      <th>0</th>\n",
       "      <td>https://www.zomato.com/bangalore/jalsa-banasha...</td>\n",
       "      <td>942, 21st Main Road, 2nd Stage, Banashankari, ...</td>\n",
       "      <td>Jalsa</td>\n",
       "      <td>Yes</td>\n",
       "      <td>Yes</td>\n",
       "      <td>4.1/5</td>\n",
       "      <td>775</td>\n",
       "      <td>080 42297555\\r\\n+91 9743772233</td>\n",
       "      <td>Banashankari</td>\n",
       "      <td>Casual Dining</td>\n",
       "      <td>Pasta, Lunch Buffet, Masala Papad, Paneer Laja...</td>\n",
       "      <td>North Indian, Mughlai, Chinese</td>\n",
       "      <td>800</td>\n",
       "      <td>[('Rated 4.0', 'RATED\\n  A beautiful place to ...</td>\n",
       "      <td>[]</td>\n",
       "      <td>Buffet</td>\n",
       "      <td>Banashankari</td>\n",
       "      <td>4.1</td>\n",
       "    </tr>\n",
       "    <tr>\n",
       "      <th>1</th>\n",
       "      <td>https://www.zomato.com/bangalore/spice-elephan...</td>\n",
       "      <td>2nd Floor, 80 Feet Road, Near Big Bazaar, 6th ...</td>\n",
       "      <td>Spice Elephant</td>\n",
       "      <td>Yes</td>\n",
       "      <td>No</td>\n",
       "      <td>4.1/5</td>\n",
       "      <td>787</td>\n",
       "      <td>080 41714161</td>\n",
       "      <td>Banashankari</td>\n",
       "      <td>Casual Dining</td>\n",
       "      <td>Momos, Lunch Buffet, Chocolate Nirvana, Thai G...</td>\n",
       "      <td>Chinese, North Indian, Thai</td>\n",
       "      <td>800</td>\n",
       "      <td>[('Rated 4.0', 'RATED\\n  Had been here for din...</td>\n",
       "      <td>[]</td>\n",
       "      <td>Buffet</td>\n",
       "      <td>Banashankari</td>\n",
       "      <td>4.1</td>\n",
       "    </tr>\n",
       "    <tr>\n",
       "      <th>2</th>\n",
       "      <td>https://www.zomato.com/SanchurroBangalore?cont...</td>\n",
       "      <td>1112, Next to KIMS Medical College, 17th Cross...</td>\n",
       "      <td>San Churro Cafe</td>\n",
       "      <td>Yes</td>\n",
       "      <td>No</td>\n",
       "      <td>3.8/5</td>\n",
       "      <td>918</td>\n",
       "      <td>+91 9663487993</td>\n",
       "      <td>Banashankari</td>\n",
       "      <td>Cafe, Casual Dining</td>\n",
       "      <td>Churros, Cannelloni, Minestrone Soup, Hot Choc...</td>\n",
       "      <td>Cafe, Mexican, Italian</td>\n",
       "      <td>800</td>\n",
       "      <td>[('Rated 3.0', \"RATED\\n  Ambience is not that ...</td>\n",
       "      <td>[]</td>\n",
       "      <td>Buffet</td>\n",
       "      <td>Banashankari</td>\n",
       "      <td>3.8</td>\n",
       "    </tr>\n",
       "    <tr>\n",
       "      <th>3</th>\n",
       "      <td>https://www.zomato.com/bangalore/addhuri-udupi...</td>\n",
       "      <td>1st Floor, Annakuteera, 3rd Stage, Banashankar...</td>\n",
       "      <td>Addhuri Udupi Bhojana</td>\n",
       "      <td>No</td>\n",
       "      <td>No</td>\n",
       "      <td>3.7/5</td>\n",
       "      <td>88</td>\n",
       "      <td>+91 9620009302</td>\n",
       "      <td>Banashankari</td>\n",
       "      <td>Quick Bites</td>\n",
       "      <td>Masala Dosa</td>\n",
       "      <td>South Indian, North Indian</td>\n",
       "      <td>300</td>\n",
       "      <td>[('Rated 4.0', \"RATED\\n  Great food and proper...</td>\n",
       "      <td>[]</td>\n",
       "      <td>Buffet</td>\n",
       "      <td>Banashankari</td>\n",
       "      <td>3.7</td>\n",
       "    </tr>\n",
       "    <tr>\n",
       "      <th>4</th>\n",
       "      <td>https://www.zomato.com/bangalore/grand-village...</td>\n",
       "      <td>10, 3rd Floor, Lakshmi Associates, Gandhi Baza...</td>\n",
       "      <td>Grand Village</td>\n",
       "      <td>No</td>\n",
       "      <td>No</td>\n",
       "      <td>3.8/5</td>\n",
       "      <td>166</td>\n",
       "      <td>+91 8026612447\\r\\n+91 9901210005</td>\n",
       "      <td>Basavanagudi</td>\n",
       "      <td>Casual Dining</td>\n",
       "      <td>Panipuri, Gol Gappe</td>\n",
       "      <td>North Indian, Rajasthani</td>\n",
       "      <td>600</td>\n",
       "      <td>[('Rated 4.0', 'RATED\\n  Very good restaurant ...</td>\n",
       "      <td>[]</td>\n",
       "      <td>Buffet</td>\n",
       "      <td>Banashankari</td>\n",
       "      <td>3.8</td>\n",
       "    </tr>\n",
       "  </tbody>\n",
       "</table>\n",
       "</div>"
      ],
      "text/plain": [
       "                                                 url  \\\n",
       "0  https://www.zomato.com/bangalore/jalsa-banasha...   \n",
       "1  https://www.zomato.com/bangalore/spice-elephan...   \n",
       "2  https://www.zomato.com/SanchurroBangalore?cont...   \n",
       "3  https://www.zomato.com/bangalore/addhuri-udupi...   \n",
       "4  https://www.zomato.com/bangalore/grand-village...   \n",
       "\n",
       "                                             address                   name  \\\n",
       "0  942, 21st Main Road, 2nd Stage, Banashankari, ...                  Jalsa   \n",
       "1  2nd Floor, 80 Feet Road, Near Big Bazaar, 6th ...         Spice Elephant   \n",
       "2  1112, Next to KIMS Medical College, 17th Cross...        San Churro Cafe   \n",
       "3  1st Floor, Annakuteera, 3rd Stage, Banashankar...  Addhuri Udupi Bhojana   \n",
       "4  10, 3rd Floor, Lakshmi Associates, Gandhi Baza...          Grand Village   \n",
       "\n",
       "  online_order book_table   rate  votes                             phone  \\\n",
       "0          Yes        Yes  4.1/5    775    080 42297555\\r\\n+91 9743772233   \n",
       "1          Yes         No  4.1/5    787                      080 41714161   \n",
       "2          Yes         No  3.8/5    918                    +91 9663487993   \n",
       "3           No         No  3.7/5     88                    +91 9620009302   \n",
       "4           No         No  3.8/5    166  +91 8026612447\\r\\n+91 9901210005   \n",
       "\n",
       "       location            rest_type  \\\n",
       "0  Banashankari        Casual Dining   \n",
       "1  Banashankari        Casual Dining   \n",
       "2  Banashankari  Cafe, Casual Dining   \n",
       "3  Banashankari          Quick Bites   \n",
       "4  Basavanagudi        Casual Dining   \n",
       "\n",
       "                                          dish_liked  \\\n",
       "0  Pasta, Lunch Buffet, Masala Papad, Paneer Laja...   \n",
       "1  Momos, Lunch Buffet, Chocolate Nirvana, Thai G...   \n",
       "2  Churros, Cannelloni, Minestrone Soup, Hot Choc...   \n",
       "3                                        Masala Dosa   \n",
       "4                                Panipuri, Gol Gappe   \n",
       "\n",
       "                         cuisines approx_cost(for two people)  \\\n",
       "0  North Indian, Mughlai, Chinese                         800   \n",
       "1     Chinese, North Indian, Thai                         800   \n",
       "2          Cafe, Mexican, Italian                         800   \n",
       "3      South Indian, North Indian                         300   \n",
       "4        North Indian, Rajasthani                         600   \n",
       "\n",
       "                                        reviews_list menu_item  \\\n",
       "0  [('Rated 4.0', 'RATED\\n  A beautiful place to ...        []   \n",
       "1  [('Rated 4.0', 'RATED\\n  Had been here for din...        []   \n",
       "2  [('Rated 3.0', \"RATED\\n  Ambience is not that ...        []   \n",
       "3  [('Rated 4.0', \"RATED\\n  Great food and proper...        []   \n",
       "4  [('Rated 4.0', 'RATED\\n  Very good restaurant ...        []   \n",
       "\n",
       "  listed_in(type) listed_in(city) rating  \n",
       "0          Buffet    Banashankari    4.1  \n",
       "1          Buffet    Banashankari    4.1  \n",
       "2          Buffet    Banashankari    3.8  \n",
       "3          Buffet    Banashankari    3.7  \n",
       "4          Buffet    Banashankari    3.8  "
      ]
     },
     "execution_count": 62,
     "metadata": {},
     "output_type": "execute_result"
    }
   ],
   "source": [
    "df.head()"
   ]
  },
  {
   "cell_type": "code",
   "execution_count": 63,
   "metadata": {},
   "outputs": [
    {
     "data": {
      "text/plain": [
       "array(['4.1', '3.8', '3.7', '3.6', '4.6', '4.0', '4.2', '3.9', '3.1',\n",
       "       '3.0', '3.2', '3.3', '2.8', '4.4', '4.3', 0, '2.9', '3.5', '2.6',\n",
       "       '3.8 ', '3.4', '4.5', '2.5', '2.7', '4.7', '2.4', '2.2', '2.3',\n",
       "       '3.4 ', '3.6 ', '4.8', '3.9 ', '4.2 ', '4.0 ', '4.1 ', '3.7 ',\n",
       "       '3.1 ', '2.9 ', '3.3 ', '2.8 ', '3.5 ', '2.7 ', '2.5 ', '3.2 ',\n",
       "       '2.6 ', '4.5 ', '4.3 ', '4.4 ', '4.9', '2.1', '2.0', '1.8', '4.6 ',\n",
       "       '4.9 ', '3.0 ', '4.8 ', '2.3 ', '4.7 ', '2.4 ', '2.1 ', '2.2 ',\n",
       "       '2.0 ', '1.8 '], dtype=object)"
      ]
     },
     "execution_count": 63,
     "metadata": {},
     "output_type": "execute_result"
    }
   ],
   "source": [
    "df['rating'].unique()"
   ]
  },
  {
   "cell_type": "code",
   "execution_count": 64,
   "metadata": {},
   "outputs": [
    {
     "ename": "TypeError",
     "evalue": "can only concatenate str (not \"int\") to str",
     "output_type": "error",
     "traceback": [
      "\u001b[1;31m---------------------------------------------------------------------------\u001b[0m",
      "\u001b[1;31mTypeError\u001b[0m                                 Traceback (most recent call last)",
      "\u001b[1;32m<ipython-input-64-cfb156189c63>\u001b[0m in \u001b[0;36m<module>\u001b[1;34m\u001b[0m\n\u001b[1;32m----> 1\u001b[1;33m \u001b[0mdf\u001b[0m\u001b[1;33m.\u001b[0m\u001b[0mgroupby\u001b[0m\u001b[1;33m(\u001b[0m\u001b[1;33m[\u001b[0m\u001b[1;34m'location'\u001b[0m\u001b[1;33m]\u001b[0m\u001b[1;33m)\u001b[0m\u001b[1;33m[\u001b[0m\u001b[1;34m'rating'\u001b[0m\u001b[1;33m]\u001b[0m\u001b[1;33m.\u001b[0m\u001b[0msum\u001b[0m\u001b[1;33m(\u001b[0m\u001b[1;33m)\u001b[0m\u001b[1;33m\u001b[0m\u001b[1;33m\u001b[0m\u001b[0m\n\u001b[0m",
      "\u001b[1;32m~\\Anaconda3\\lib\\site-packages\\pandas\\core\\groupby\\groupby.py\u001b[0m in \u001b[0;36msum\u001b[1;34m(self, numeric_only, min_count)\u001b[0m\n\u001b[0;32m   1652\u001b[0m                 \u001b[0mmin_count\u001b[0m\u001b[1;33m=\u001b[0m\u001b[0mmin_count\u001b[0m\u001b[1;33m,\u001b[0m\u001b[1;33m\u001b[0m\u001b[1;33m\u001b[0m\u001b[0m\n\u001b[0;32m   1653\u001b[0m                 \u001b[0malias\u001b[0m\u001b[1;33m=\u001b[0m\u001b[1;34m\"add\"\u001b[0m\u001b[1;33m,\u001b[0m\u001b[1;33m\u001b[0m\u001b[1;33m\u001b[0m\u001b[0m\n\u001b[1;32m-> 1654\u001b[1;33m                 \u001b[0mnpfunc\u001b[0m\u001b[1;33m=\u001b[0m\u001b[0mnp\u001b[0m\u001b[1;33m.\u001b[0m\u001b[0msum\u001b[0m\u001b[1;33m,\u001b[0m\u001b[1;33m\u001b[0m\u001b[1;33m\u001b[0m\u001b[0m\n\u001b[0m\u001b[0;32m   1655\u001b[0m             )\n\u001b[0;32m   1656\u001b[0m \u001b[1;33m\u001b[0m\u001b[0m\n",
      "\u001b[1;32m~\\Anaconda3\\lib\\site-packages\\pandas\\core\\groupby\\groupby.py\u001b[0m in \u001b[0;36m_agg_general\u001b[1;34m(self, numeric_only, min_count, alias, npfunc)\u001b[0m\n\u001b[0;32m   1042\u001b[0m             \u001b[1;31m# apply a non-cython aggregation\u001b[0m\u001b[1;33m\u001b[0m\u001b[1;33m\u001b[0m\u001b[1;33m\u001b[0m\u001b[0m\n\u001b[0;32m   1043\u001b[0m             \u001b[1;32mif\u001b[0m \u001b[0mresult\u001b[0m \u001b[1;32mis\u001b[0m \u001b[1;32mNone\u001b[0m\u001b[1;33m:\u001b[0m\u001b[1;33m\u001b[0m\u001b[1;33m\u001b[0m\u001b[0m\n\u001b[1;32m-> 1044\u001b[1;33m                 \u001b[0mresult\u001b[0m \u001b[1;33m=\u001b[0m \u001b[0mself\u001b[0m\u001b[1;33m.\u001b[0m\u001b[0maggregate\u001b[0m\u001b[1;33m(\u001b[0m\u001b[1;32mlambda\u001b[0m \u001b[0mx\u001b[0m\u001b[1;33m:\u001b[0m \u001b[0mnpfunc\u001b[0m\u001b[1;33m(\u001b[0m\u001b[0mx\u001b[0m\u001b[1;33m,\u001b[0m \u001b[0maxis\u001b[0m\u001b[1;33m=\u001b[0m\u001b[0mself\u001b[0m\u001b[1;33m.\u001b[0m\u001b[0maxis\u001b[0m\u001b[1;33m)\u001b[0m\u001b[1;33m)\u001b[0m\u001b[1;33m\u001b[0m\u001b[1;33m\u001b[0m\u001b[0m\n\u001b[0m\u001b[0;32m   1045\u001b[0m             \u001b[1;32mreturn\u001b[0m \u001b[0mresult\u001b[0m\u001b[1;33m.\u001b[0m\u001b[0m__finalize__\u001b[0m\u001b[1;33m(\u001b[0m\u001b[0mself\u001b[0m\u001b[1;33m.\u001b[0m\u001b[0mobj\u001b[0m\u001b[1;33m,\u001b[0m \u001b[0mmethod\u001b[0m\u001b[1;33m=\u001b[0m\u001b[1;34m\"groupby\"\u001b[0m\u001b[1;33m)\u001b[0m\u001b[1;33m\u001b[0m\u001b[1;33m\u001b[0m\u001b[0m\n\u001b[0;32m   1046\u001b[0m \u001b[1;33m\u001b[0m\u001b[0m\n",
      "\u001b[1;32m~\\Anaconda3\\lib\\site-packages\\pandas\\core\\groupby\\generic.py\u001b[0m in \u001b[0;36maggregate\u001b[1;34m(self, func, engine, engine_kwargs, *args, **kwargs)\u001b[0m\n\u001b[0;32m    257\u001b[0m \u001b[1;33m\u001b[0m\u001b[0m\n\u001b[0;32m    258\u001b[0m             \u001b[1;32mtry\u001b[0m\u001b[1;33m:\u001b[0m\u001b[1;33m\u001b[0m\u001b[1;33m\u001b[0m\u001b[0m\n\u001b[1;32m--> 259\u001b[1;33m                 \u001b[1;32mreturn\u001b[0m \u001b[0mself\u001b[0m\u001b[1;33m.\u001b[0m\u001b[0m_python_agg_general\u001b[0m\u001b[1;33m(\u001b[0m\u001b[0mfunc\u001b[0m\u001b[1;33m,\u001b[0m \u001b[1;33m*\u001b[0m\u001b[0margs\u001b[0m\u001b[1;33m,\u001b[0m \u001b[1;33m**\u001b[0m\u001b[0mkwargs\u001b[0m\u001b[1;33m)\u001b[0m\u001b[1;33m\u001b[0m\u001b[1;33m\u001b[0m\u001b[0m\n\u001b[0m\u001b[0;32m    260\u001b[0m             \u001b[1;32mexcept\u001b[0m \u001b[1;33m(\u001b[0m\u001b[0mValueError\u001b[0m\u001b[1;33m,\u001b[0m \u001b[0mKeyError\u001b[0m\u001b[1;33m)\u001b[0m\u001b[1;33m:\u001b[0m\u001b[1;33m\u001b[0m\u001b[1;33m\u001b[0m\u001b[0m\n\u001b[0;32m    261\u001b[0m                 \u001b[1;31m# TODO: KeyError is raised in _python_agg_general,\u001b[0m\u001b[1;33m\u001b[0m\u001b[1;33m\u001b[0m\u001b[1;33m\u001b[0m\u001b[0m\n",
      "\u001b[1;32m~\\Anaconda3\\lib\\site-packages\\pandas\\core\\groupby\\groupby.py\u001b[0m in \u001b[0;36m_python_agg_general\u001b[1;34m(self, func, *args, **kwargs)\u001b[0m\n\u001b[0;32m   1194\u001b[0m \u001b[1;33m\u001b[0m\u001b[0m\n\u001b[0;32m   1195\u001b[0m         \u001b[1;32mif\u001b[0m \u001b[1;32mnot\u001b[0m \u001b[0moutput\u001b[0m\u001b[1;33m:\u001b[0m\u001b[1;33m\u001b[0m\u001b[1;33m\u001b[0m\u001b[0m\n\u001b[1;32m-> 1196\u001b[1;33m             \u001b[1;32mreturn\u001b[0m \u001b[0mself\u001b[0m\u001b[1;33m.\u001b[0m\u001b[0m_python_apply_general\u001b[0m\u001b[1;33m(\u001b[0m\u001b[0mf\u001b[0m\u001b[1;33m,\u001b[0m \u001b[0mself\u001b[0m\u001b[1;33m.\u001b[0m\u001b[0m_selected_obj\u001b[0m\u001b[1;33m)\u001b[0m\u001b[1;33m\u001b[0m\u001b[1;33m\u001b[0m\u001b[0m\n\u001b[0m\u001b[0;32m   1197\u001b[0m \u001b[1;33m\u001b[0m\u001b[0m\n\u001b[0;32m   1198\u001b[0m         \u001b[1;32mreturn\u001b[0m \u001b[0mself\u001b[0m\u001b[1;33m.\u001b[0m\u001b[0m_wrap_aggregated_output\u001b[0m\u001b[1;33m(\u001b[0m\u001b[0moutput\u001b[0m\u001b[1;33m,\u001b[0m \u001b[0mindex\u001b[0m\u001b[1;33m=\u001b[0m\u001b[0mself\u001b[0m\u001b[1;33m.\u001b[0m\u001b[0mgrouper\u001b[0m\u001b[1;33m.\u001b[0m\u001b[0mresult_index\u001b[0m\u001b[1;33m)\u001b[0m\u001b[1;33m\u001b[0m\u001b[1;33m\u001b[0m\u001b[0m\n",
      "\u001b[1;32m~\\Anaconda3\\lib\\site-packages\\pandas\\core\\groupby\\groupby.py\u001b[0m in \u001b[0;36m_python_apply_general\u001b[1;34m(self, f, data)\u001b[0m\n\u001b[0;32m    926\u001b[0m             \u001b[0mdata\u001b[0m \u001b[0mafter\u001b[0m \u001b[0mapplying\u001b[0m \u001b[0mf\u001b[0m\u001b[1;33m\u001b[0m\u001b[1;33m\u001b[0m\u001b[0m\n\u001b[0;32m    927\u001b[0m         \"\"\"\n\u001b[1;32m--> 928\u001b[1;33m         \u001b[0mkeys\u001b[0m\u001b[1;33m,\u001b[0m \u001b[0mvalues\u001b[0m\u001b[1;33m,\u001b[0m \u001b[0mmutated\u001b[0m \u001b[1;33m=\u001b[0m \u001b[0mself\u001b[0m\u001b[1;33m.\u001b[0m\u001b[0mgrouper\u001b[0m\u001b[1;33m.\u001b[0m\u001b[0mapply\u001b[0m\u001b[1;33m(\u001b[0m\u001b[0mf\u001b[0m\u001b[1;33m,\u001b[0m \u001b[0mdata\u001b[0m\u001b[1;33m,\u001b[0m \u001b[0mself\u001b[0m\u001b[1;33m.\u001b[0m\u001b[0maxis\u001b[0m\u001b[1;33m)\u001b[0m\u001b[1;33m\u001b[0m\u001b[1;33m\u001b[0m\u001b[0m\n\u001b[0m\u001b[0;32m    929\u001b[0m \u001b[1;33m\u001b[0m\u001b[0m\n\u001b[0;32m    930\u001b[0m         return self._wrap_applied_output(\n",
      "\u001b[1;32m~\\Anaconda3\\lib\\site-packages\\pandas\\core\\groupby\\ops.py\u001b[0m in \u001b[0;36mapply\u001b[1;34m(self, f, data, axis)\u001b[0m\n\u001b[0;32m    236\u001b[0m             \u001b[1;31m# group might be modified\u001b[0m\u001b[1;33m\u001b[0m\u001b[1;33m\u001b[0m\u001b[1;33m\u001b[0m\u001b[0m\n\u001b[0;32m    237\u001b[0m             \u001b[0mgroup_axes\u001b[0m \u001b[1;33m=\u001b[0m \u001b[0mgroup\u001b[0m\u001b[1;33m.\u001b[0m\u001b[0maxes\u001b[0m\u001b[1;33m\u001b[0m\u001b[1;33m\u001b[0m\u001b[0m\n\u001b[1;32m--> 238\u001b[1;33m             \u001b[0mres\u001b[0m \u001b[1;33m=\u001b[0m \u001b[0mf\u001b[0m\u001b[1;33m(\u001b[0m\u001b[0mgroup\u001b[0m\u001b[1;33m)\u001b[0m\u001b[1;33m\u001b[0m\u001b[1;33m\u001b[0m\u001b[0m\n\u001b[0m\u001b[0;32m    239\u001b[0m             \u001b[1;32mif\u001b[0m \u001b[1;32mnot\u001b[0m \u001b[0m_is_indexed_like\u001b[0m\u001b[1;33m(\u001b[0m\u001b[0mres\u001b[0m\u001b[1;33m,\u001b[0m \u001b[0mgroup_axes\u001b[0m\u001b[1;33m,\u001b[0m \u001b[0maxis\u001b[0m\u001b[1;33m)\u001b[0m\u001b[1;33m:\u001b[0m\u001b[1;33m\u001b[0m\u001b[1;33m\u001b[0m\u001b[0m\n\u001b[0;32m    240\u001b[0m                 \u001b[0mmutated\u001b[0m \u001b[1;33m=\u001b[0m \u001b[1;32mTrue\u001b[0m\u001b[1;33m\u001b[0m\u001b[1;33m\u001b[0m\u001b[0m\n",
      "\u001b[1;32m~\\Anaconda3\\lib\\site-packages\\pandas\\core\\groupby\\groupby.py\u001b[0m in \u001b[0;36m<lambda>\u001b[1;34m(x)\u001b[0m\n\u001b[0;32m   1158\u001b[0m     \u001b[1;32mdef\u001b[0m \u001b[0m_python_agg_general\u001b[0m\u001b[1;33m(\u001b[0m\u001b[0mself\u001b[0m\u001b[1;33m,\u001b[0m \u001b[0mfunc\u001b[0m\u001b[1;33m,\u001b[0m \u001b[1;33m*\u001b[0m\u001b[0margs\u001b[0m\u001b[1;33m,\u001b[0m \u001b[1;33m**\u001b[0m\u001b[0mkwargs\u001b[0m\u001b[1;33m)\u001b[0m\u001b[1;33m:\u001b[0m\u001b[1;33m\u001b[0m\u001b[1;33m\u001b[0m\u001b[0m\n\u001b[0;32m   1159\u001b[0m         \u001b[0mfunc\u001b[0m \u001b[1;33m=\u001b[0m \u001b[0mself\u001b[0m\u001b[1;33m.\u001b[0m\u001b[0m_is_builtin_func\u001b[0m\u001b[1;33m(\u001b[0m\u001b[0mfunc\u001b[0m\u001b[1;33m)\u001b[0m\u001b[1;33m\u001b[0m\u001b[1;33m\u001b[0m\u001b[0m\n\u001b[1;32m-> 1160\u001b[1;33m         \u001b[0mf\u001b[0m \u001b[1;33m=\u001b[0m \u001b[1;32mlambda\u001b[0m \u001b[0mx\u001b[0m\u001b[1;33m:\u001b[0m \u001b[0mfunc\u001b[0m\u001b[1;33m(\u001b[0m\u001b[0mx\u001b[0m\u001b[1;33m,\u001b[0m \u001b[1;33m*\u001b[0m\u001b[0margs\u001b[0m\u001b[1;33m,\u001b[0m \u001b[1;33m**\u001b[0m\u001b[0mkwargs\u001b[0m\u001b[1;33m)\u001b[0m\u001b[1;33m\u001b[0m\u001b[1;33m\u001b[0m\u001b[0m\n\u001b[0m\u001b[0;32m   1161\u001b[0m \u001b[1;33m\u001b[0m\u001b[0m\n\u001b[0;32m   1162\u001b[0m         \u001b[1;31m# iterate through \"columns\" ex exclusions to populate output dict\u001b[0m\u001b[1;33m\u001b[0m\u001b[1;33m\u001b[0m\u001b[1;33m\u001b[0m\u001b[0m\n",
      "\u001b[1;32m~\\Anaconda3\\lib\\site-packages\\pandas\\core\\groupby\\groupby.py\u001b[0m in \u001b[0;36m<lambda>\u001b[1;34m(x)\u001b[0m\n\u001b[0;32m   1042\u001b[0m             \u001b[1;31m# apply a non-cython aggregation\u001b[0m\u001b[1;33m\u001b[0m\u001b[1;33m\u001b[0m\u001b[1;33m\u001b[0m\u001b[0m\n\u001b[0;32m   1043\u001b[0m             \u001b[1;32mif\u001b[0m \u001b[0mresult\u001b[0m \u001b[1;32mis\u001b[0m \u001b[1;32mNone\u001b[0m\u001b[1;33m:\u001b[0m\u001b[1;33m\u001b[0m\u001b[1;33m\u001b[0m\u001b[0m\n\u001b[1;32m-> 1044\u001b[1;33m                 \u001b[0mresult\u001b[0m \u001b[1;33m=\u001b[0m \u001b[0mself\u001b[0m\u001b[1;33m.\u001b[0m\u001b[0maggregate\u001b[0m\u001b[1;33m(\u001b[0m\u001b[1;32mlambda\u001b[0m \u001b[0mx\u001b[0m\u001b[1;33m:\u001b[0m \u001b[0mnpfunc\u001b[0m\u001b[1;33m(\u001b[0m\u001b[0mx\u001b[0m\u001b[1;33m,\u001b[0m \u001b[0maxis\u001b[0m\u001b[1;33m=\u001b[0m\u001b[0mself\u001b[0m\u001b[1;33m.\u001b[0m\u001b[0maxis\u001b[0m\u001b[1;33m)\u001b[0m\u001b[1;33m)\u001b[0m\u001b[1;33m\u001b[0m\u001b[1;33m\u001b[0m\u001b[0m\n\u001b[0m\u001b[0;32m   1045\u001b[0m             \u001b[1;32mreturn\u001b[0m \u001b[0mresult\u001b[0m\u001b[1;33m.\u001b[0m\u001b[0m__finalize__\u001b[0m\u001b[1;33m(\u001b[0m\u001b[0mself\u001b[0m\u001b[1;33m.\u001b[0m\u001b[0mobj\u001b[0m\u001b[1;33m,\u001b[0m \u001b[0mmethod\u001b[0m\u001b[1;33m=\u001b[0m\u001b[1;34m\"groupby\"\u001b[0m\u001b[1;33m)\u001b[0m\u001b[1;33m\u001b[0m\u001b[1;33m\u001b[0m\u001b[0m\n\u001b[0;32m   1046\u001b[0m \u001b[1;33m\u001b[0m\u001b[0m\n",
      "\u001b[1;32m~\\Anaconda3\\lib\\site-packages\\numpy\\core\\fromnumeric.py\u001b[0m in \u001b[0;36msum\u001b[1;34m(a, axis, dtype, out, keepdims, initial)\u001b[0m\n\u001b[0;32m   2074\u001b[0m \u001b[1;33m\u001b[0m\u001b[0m\n\u001b[0;32m   2075\u001b[0m     return _wrapreduction(a, np.add, 'sum', axis, dtype, out, keepdims=keepdims,\n\u001b[1;32m-> 2076\u001b[1;33m                           initial=initial)\n\u001b[0m\u001b[0;32m   2077\u001b[0m \u001b[1;33m\u001b[0m\u001b[0m\n\u001b[0;32m   2078\u001b[0m \u001b[1;33m\u001b[0m\u001b[0m\n",
      "\u001b[1;32m~\\Anaconda3\\lib\\site-packages\\numpy\\core\\fromnumeric.py\u001b[0m in \u001b[0;36m_wrapreduction\u001b[1;34m(obj, ufunc, method, axis, dtype, out, **kwargs)\u001b[0m\n\u001b[0;32m     82\u001b[0m                 \u001b[1;32mreturn\u001b[0m \u001b[0mreduction\u001b[0m\u001b[1;33m(\u001b[0m\u001b[0maxis\u001b[0m\u001b[1;33m=\u001b[0m\u001b[0maxis\u001b[0m\u001b[1;33m,\u001b[0m \u001b[0mdtype\u001b[0m\u001b[1;33m=\u001b[0m\u001b[0mdtype\u001b[0m\u001b[1;33m,\u001b[0m \u001b[0mout\u001b[0m\u001b[1;33m=\u001b[0m\u001b[0mout\u001b[0m\u001b[1;33m,\u001b[0m \u001b[1;33m**\u001b[0m\u001b[0mpasskwargs\u001b[0m\u001b[1;33m)\u001b[0m\u001b[1;33m\u001b[0m\u001b[1;33m\u001b[0m\u001b[0m\n\u001b[0;32m     83\u001b[0m             \u001b[1;32melse\u001b[0m\u001b[1;33m:\u001b[0m\u001b[1;33m\u001b[0m\u001b[1;33m\u001b[0m\u001b[0m\n\u001b[1;32m---> 84\u001b[1;33m                 \u001b[1;32mreturn\u001b[0m \u001b[0mreduction\u001b[0m\u001b[1;33m(\u001b[0m\u001b[0maxis\u001b[0m\u001b[1;33m=\u001b[0m\u001b[0maxis\u001b[0m\u001b[1;33m,\u001b[0m \u001b[0mout\u001b[0m\u001b[1;33m=\u001b[0m\u001b[0mout\u001b[0m\u001b[1;33m,\u001b[0m \u001b[1;33m**\u001b[0m\u001b[0mpasskwargs\u001b[0m\u001b[1;33m)\u001b[0m\u001b[1;33m\u001b[0m\u001b[1;33m\u001b[0m\u001b[0m\n\u001b[0m\u001b[0;32m     85\u001b[0m \u001b[1;33m\u001b[0m\u001b[0m\n\u001b[0;32m     86\u001b[0m     \u001b[1;32mreturn\u001b[0m \u001b[0mufunc\u001b[0m\u001b[1;33m.\u001b[0m\u001b[0mreduce\u001b[0m\u001b[1;33m(\u001b[0m\u001b[0mobj\u001b[0m\u001b[1;33m,\u001b[0m \u001b[0maxis\u001b[0m\u001b[1;33m,\u001b[0m \u001b[0mdtype\u001b[0m\u001b[1;33m,\u001b[0m \u001b[0mout\u001b[0m\u001b[1;33m,\u001b[0m \u001b[1;33m**\u001b[0m\u001b[0mpasskwargs\u001b[0m\u001b[1;33m)\u001b[0m\u001b[1;33m\u001b[0m\u001b[1;33m\u001b[0m\u001b[0m\n",
      "\u001b[1;32m~\\Anaconda3\\lib\\site-packages\\pandas\\core\\generic.py\u001b[0m in \u001b[0;36msum\u001b[1;34m(self, axis, skipna, level, numeric_only, min_count, **kwargs)\u001b[0m\n\u001b[0;32m  11070\u001b[0m         ):\n\u001b[0;32m  11071\u001b[0m             return NDFrame.sum(\n\u001b[1;32m> 11072\u001b[1;33m                 \u001b[0mself\u001b[0m\u001b[1;33m,\u001b[0m \u001b[0maxis\u001b[0m\u001b[1;33m,\u001b[0m \u001b[0mskipna\u001b[0m\u001b[1;33m,\u001b[0m \u001b[0mlevel\u001b[0m\u001b[1;33m,\u001b[0m \u001b[0mnumeric_only\u001b[0m\u001b[1;33m,\u001b[0m \u001b[0mmin_count\u001b[0m\u001b[1;33m,\u001b[0m \u001b[1;33m**\u001b[0m\u001b[0mkwargs\u001b[0m\u001b[1;33m\u001b[0m\u001b[1;33m\u001b[0m\u001b[0m\n\u001b[0m\u001b[0;32m  11073\u001b[0m             )\n\u001b[0;32m  11074\u001b[0m \u001b[1;33m\u001b[0m\u001b[0m\n",
      "\u001b[1;32m~\\Anaconda3\\lib\\site-packages\\pandas\\core\\generic.py\u001b[0m in \u001b[0;36msum\u001b[1;34m(self, axis, skipna, level, numeric_only, min_count, **kwargs)\u001b[0m\n\u001b[0;32m  10790\u001b[0m     ):\n\u001b[0;32m  10791\u001b[0m         return self._min_count_stat_function(\n\u001b[1;32m> 10792\u001b[1;33m             \u001b[1;34m\"sum\"\u001b[0m\u001b[1;33m,\u001b[0m \u001b[0mnanops\u001b[0m\u001b[1;33m.\u001b[0m\u001b[0mnansum\u001b[0m\u001b[1;33m,\u001b[0m \u001b[0maxis\u001b[0m\u001b[1;33m,\u001b[0m \u001b[0mskipna\u001b[0m\u001b[1;33m,\u001b[0m \u001b[0mlevel\u001b[0m\u001b[1;33m,\u001b[0m \u001b[0mnumeric_only\u001b[0m\u001b[1;33m,\u001b[0m \u001b[0mmin_count\u001b[0m\u001b[1;33m,\u001b[0m \u001b[1;33m**\u001b[0m\u001b[0mkwargs\u001b[0m\u001b[1;33m\u001b[0m\u001b[1;33m\u001b[0m\u001b[0m\n\u001b[0m\u001b[0;32m  10793\u001b[0m         )\n\u001b[0;32m  10794\u001b[0m \u001b[1;33m\u001b[0m\u001b[0m\n",
      "\u001b[1;32m~\\Anaconda3\\lib\\site-packages\\pandas\\core\\generic.py\u001b[0m in \u001b[0;36m_min_count_stat_function\u001b[1;34m(self, name, func, axis, skipna, level, numeric_only, min_count, **kwargs)\u001b[0m\n\u001b[0;32m  10777\u001b[0m             \u001b[0mskipna\u001b[0m\u001b[1;33m=\u001b[0m\u001b[0mskipna\u001b[0m\u001b[1;33m,\u001b[0m\u001b[1;33m\u001b[0m\u001b[1;33m\u001b[0m\u001b[0m\n\u001b[0;32m  10778\u001b[0m             \u001b[0mnumeric_only\u001b[0m\u001b[1;33m=\u001b[0m\u001b[0mnumeric_only\u001b[0m\u001b[1;33m,\u001b[0m\u001b[1;33m\u001b[0m\u001b[1;33m\u001b[0m\u001b[0m\n\u001b[1;32m> 10779\u001b[1;33m             \u001b[0mmin_count\u001b[0m\u001b[1;33m=\u001b[0m\u001b[0mmin_count\u001b[0m\u001b[1;33m,\u001b[0m\u001b[1;33m\u001b[0m\u001b[1;33m\u001b[0m\u001b[0m\n\u001b[0m\u001b[0;32m  10780\u001b[0m         )\n\u001b[0;32m  10781\u001b[0m \u001b[1;33m\u001b[0m\u001b[0m\n",
      "\u001b[1;32m~\\Anaconda3\\lib\\site-packages\\pandas\\core\\series.py\u001b[0m in \u001b[0;36m_reduce\u001b[1;34m(self, op, name, axis, skipna, numeric_only, filter_type, **kwds)\u001b[0m\n\u001b[0;32m   4180\u001b[0m                 )\n\u001b[0;32m   4181\u001b[0m             \u001b[1;32mwith\u001b[0m \u001b[0mnp\u001b[0m\u001b[1;33m.\u001b[0m\u001b[0merrstate\u001b[0m\u001b[1;33m(\u001b[0m\u001b[0mall\u001b[0m\u001b[1;33m=\u001b[0m\u001b[1;34m\"ignore\"\u001b[0m\u001b[1;33m)\u001b[0m\u001b[1;33m:\u001b[0m\u001b[1;33m\u001b[0m\u001b[1;33m\u001b[0m\u001b[0m\n\u001b[1;32m-> 4182\u001b[1;33m                 \u001b[1;32mreturn\u001b[0m \u001b[0mop\u001b[0m\u001b[1;33m(\u001b[0m\u001b[0mdelegate\u001b[0m\u001b[1;33m,\u001b[0m \u001b[0mskipna\u001b[0m\u001b[1;33m=\u001b[0m\u001b[0mskipna\u001b[0m\u001b[1;33m,\u001b[0m \u001b[1;33m**\u001b[0m\u001b[0mkwds\u001b[0m\u001b[1;33m)\u001b[0m\u001b[1;33m\u001b[0m\u001b[1;33m\u001b[0m\u001b[0m\n\u001b[0m\u001b[0;32m   4183\u001b[0m \u001b[1;33m\u001b[0m\u001b[0m\n\u001b[0;32m   4184\u001b[0m     \u001b[1;32mdef\u001b[0m \u001b[0m_reindex_indexer\u001b[0m\u001b[1;33m(\u001b[0m\u001b[0mself\u001b[0m\u001b[1;33m,\u001b[0m \u001b[0mnew_index\u001b[0m\u001b[1;33m,\u001b[0m \u001b[0mindexer\u001b[0m\u001b[1;33m,\u001b[0m \u001b[0mcopy\u001b[0m\u001b[1;33m)\u001b[0m\u001b[1;33m:\u001b[0m\u001b[1;33m\u001b[0m\u001b[1;33m\u001b[0m\u001b[0m\n",
      "\u001b[1;32m~\\Anaconda3\\lib\\site-packages\\pandas\\core\\nanops.py\u001b[0m in \u001b[0;36m_f\u001b[1;34m(*args, **kwargs)\u001b[0m\n\u001b[0;32m     69\u001b[0m             \u001b[1;32mtry\u001b[0m\u001b[1;33m:\u001b[0m\u001b[1;33m\u001b[0m\u001b[1;33m\u001b[0m\u001b[0m\n\u001b[0;32m     70\u001b[0m                 \u001b[1;32mwith\u001b[0m \u001b[0mnp\u001b[0m\u001b[1;33m.\u001b[0m\u001b[0merrstate\u001b[0m\u001b[1;33m(\u001b[0m\u001b[0minvalid\u001b[0m\u001b[1;33m=\u001b[0m\u001b[1;34m\"ignore\"\u001b[0m\u001b[1;33m)\u001b[0m\u001b[1;33m:\u001b[0m\u001b[1;33m\u001b[0m\u001b[1;33m\u001b[0m\u001b[0m\n\u001b[1;32m---> 71\u001b[1;33m                     \u001b[1;32mreturn\u001b[0m \u001b[0mf\u001b[0m\u001b[1;33m(\u001b[0m\u001b[1;33m*\u001b[0m\u001b[0margs\u001b[0m\u001b[1;33m,\u001b[0m \u001b[1;33m**\u001b[0m\u001b[0mkwargs\u001b[0m\u001b[1;33m)\u001b[0m\u001b[1;33m\u001b[0m\u001b[1;33m\u001b[0m\u001b[0m\n\u001b[0m\u001b[0;32m     72\u001b[0m             \u001b[1;32mexcept\u001b[0m \u001b[0mValueError\u001b[0m \u001b[1;32mas\u001b[0m \u001b[0me\u001b[0m\u001b[1;33m:\u001b[0m\u001b[1;33m\u001b[0m\u001b[1;33m\u001b[0m\u001b[0m\n\u001b[0;32m     73\u001b[0m                 \u001b[1;31m# we want to transform an object array\u001b[0m\u001b[1;33m\u001b[0m\u001b[1;33m\u001b[0m\u001b[1;33m\u001b[0m\u001b[0m\n",
      "\u001b[1;32m~\\Anaconda3\\lib\\site-packages\\pandas\\core\\nanops.py\u001b[0m in \u001b[0;36mnew_func\u001b[1;34m(values, axis, skipna, mask, **kwargs)\u001b[0m\n\u001b[0;32m    390\u001b[0m             \u001b[0mmask\u001b[0m \u001b[1;33m=\u001b[0m \u001b[0misna\u001b[0m\u001b[1;33m(\u001b[0m\u001b[0mvalues\u001b[0m\u001b[1;33m)\u001b[0m\u001b[1;33m\u001b[0m\u001b[1;33m\u001b[0m\u001b[0m\n\u001b[0;32m    391\u001b[0m \u001b[1;33m\u001b[0m\u001b[0m\n\u001b[1;32m--> 392\u001b[1;33m         \u001b[0mresult\u001b[0m \u001b[1;33m=\u001b[0m \u001b[0mfunc\u001b[0m\u001b[1;33m(\u001b[0m\u001b[0mvalues\u001b[0m\u001b[1;33m,\u001b[0m \u001b[0maxis\u001b[0m\u001b[1;33m=\u001b[0m\u001b[0maxis\u001b[0m\u001b[1;33m,\u001b[0m \u001b[0mskipna\u001b[0m\u001b[1;33m=\u001b[0m\u001b[0mskipna\u001b[0m\u001b[1;33m,\u001b[0m \u001b[0mmask\u001b[0m\u001b[1;33m=\u001b[0m\u001b[0mmask\u001b[0m\u001b[1;33m,\u001b[0m \u001b[1;33m**\u001b[0m\u001b[0mkwargs\u001b[0m\u001b[1;33m)\u001b[0m\u001b[1;33m\u001b[0m\u001b[1;33m\u001b[0m\u001b[0m\n\u001b[0m\u001b[0;32m    393\u001b[0m \u001b[1;33m\u001b[0m\u001b[0m\n\u001b[0;32m    394\u001b[0m         \u001b[1;32mif\u001b[0m \u001b[0mdatetimelike\u001b[0m\u001b[1;33m:\u001b[0m\u001b[1;33m\u001b[0m\u001b[1;33m\u001b[0m\u001b[0m\n",
      "\u001b[1;32m~\\Anaconda3\\lib\\site-packages\\pandas\\core\\nanops.py\u001b[0m in \u001b[0;36mnansum\u001b[1;34m(values, axis, skipna, min_count, mask)\u001b[0m\n\u001b[0;32m    556\u001b[0m         \u001b[0mdtype_sum\u001b[0m \u001b[1;33m=\u001b[0m \u001b[0mnp\u001b[0m\u001b[1;33m.\u001b[0m\u001b[0mfloat64\u001b[0m\u001b[1;33m\u001b[0m\u001b[1;33m\u001b[0m\u001b[0m\n\u001b[0;32m    557\u001b[0m \u001b[1;33m\u001b[0m\u001b[0m\n\u001b[1;32m--> 558\u001b[1;33m     \u001b[0mthe_sum\u001b[0m \u001b[1;33m=\u001b[0m \u001b[0mvalues\u001b[0m\u001b[1;33m.\u001b[0m\u001b[0msum\u001b[0m\u001b[1;33m(\u001b[0m\u001b[0maxis\u001b[0m\u001b[1;33m,\u001b[0m \u001b[0mdtype\u001b[0m\u001b[1;33m=\u001b[0m\u001b[0mdtype_sum\u001b[0m\u001b[1;33m)\u001b[0m\u001b[1;33m\u001b[0m\u001b[1;33m\u001b[0m\u001b[0m\n\u001b[0m\u001b[0;32m    559\u001b[0m     \u001b[0mthe_sum\u001b[0m \u001b[1;33m=\u001b[0m \u001b[0m_maybe_null_out\u001b[0m\u001b[1;33m(\u001b[0m\u001b[0mthe_sum\u001b[0m\u001b[1;33m,\u001b[0m \u001b[0maxis\u001b[0m\u001b[1;33m,\u001b[0m \u001b[0mmask\u001b[0m\u001b[1;33m,\u001b[0m \u001b[0mvalues\u001b[0m\u001b[1;33m.\u001b[0m\u001b[0mshape\u001b[0m\u001b[1;33m,\u001b[0m \u001b[0mmin_count\u001b[0m\u001b[1;33m=\u001b[0m\u001b[0mmin_count\u001b[0m\u001b[1;33m)\u001b[0m\u001b[1;33m\u001b[0m\u001b[1;33m\u001b[0m\u001b[0m\n\u001b[0;32m    560\u001b[0m \u001b[1;33m\u001b[0m\u001b[0m\n",
      "\u001b[1;32m~\\Anaconda3\\lib\\site-packages\\numpy\\core\\_methods.py\u001b[0m in \u001b[0;36m_sum\u001b[1;34m(a, axis, dtype, out, keepdims, initial)\u001b[0m\n\u001b[0;32m     34\u001b[0m def _sum(a, axis=None, dtype=None, out=None, keepdims=False,\n\u001b[0;32m     35\u001b[0m          initial=_NoValue):\n\u001b[1;32m---> 36\u001b[1;33m     \u001b[1;32mreturn\u001b[0m \u001b[0mumr_sum\u001b[0m\u001b[1;33m(\u001b[0m\u001b[0ma\u001b[0m\u001b[1;33m,\u001b[0m \u001b[0maxis\u001b[0m\u001b[1;33m,\u001b[0m \u001b[0mdtype\u001b[0m\u001b[1;33m,\u001b[0m \u001b[0mout\u001b[0m\u001b[1;33m,\u001b[0m \u001b[0mkeepdims\u001b[0m\u001b[1;33m,\u001b[0m \u001b[0minitial\u001b[0m\u001b[1;33m)\u001b[0m\u001b[1;33m\u001b[0m\u001b[1;33m\u001b[0m\u001b[0m\n\u001b[0m\u001b[0;32m     37\u001b[0m \u001b[1;33m\u001b[0m\u001b[0m\n\u001b[0;32m     38\u001b[0m def _prod(a, axis=None, dtype=None, out=None, keepdims=False,\n",
      "\u001b[1;31mTypeError\u001b[0m: can only concatenate str (not \"int\") to str"
     ]
    }
   ],
   "source": [
    "df.groupby(['location'])['rating'].sum()\n",
    "#it should be on numberic value"
   ]
  },
  {
   "cell_type": "code",
   "execution_count": 66,
   "metadata": {},
   "outputs": [
    {
     "data": {
      "text/plain": [
       "url                            object\n",
       "address                        object\n",
       "name                           object\n",
       "online_order                   object\n",
       "book_table                     object\n",
       "rate                           object\n",
       "votes                           int64\n",
       "phone                          object\n",
       "location                       object\n",
       "rest_type                      object\n",
       "dish_liked                     object\n",
       "cuisines                       object\n",
       "approx_cost(for two people)    object\n",
       "reviews_list                   object\n",
       "menu_item                      object\n",
       "listed_in(type)                object\n",
       "listed_in(city)                object\n",
       "rating                         object\n",
       "dtype: object"
      ]
     },
     "execution_count": 66,
     "metadata": {},
     "output_type": "execute_result"
    }
   ],
   "source": [
    "df.dtypes"
   ]
  },
  {
   "cell_type": "code",
   "execution_count": 67,
   "metadata": {},
   "outputs": [],
   "source": [
    "df['rating']=pd.to_numeric(df['rating'])"
   ]
  },
  {
   "cell_type": "code",
   "execution_count": 68,
   "metadata": {},
   "outputs": [
    {
     "data": {
      "text/plain": [
       "dtype('float64')"
      ]
     },
     "execution_count": 68,
     "metadata": {},
     "output_type": "execute_result"
    }
   ],
   "source": [
    "df['rating'].dtypes"
   ]
  },
  {
   "cell_type": "code",
   "execution_count": 69,
   "metadata": {},
   "outputs": [
    {
     "data": {
      "text/plain": [
       "url                             object\n",
       "address                         object\n",
       "name                            object\n",
       "online_order                    object\n",
       "book_table                      object\n",
       "rate                            object\n",
       "votes                            int64\n",
       "phone                           object\n",
       "location                        object\n",
       "rest_type                       object\n",
       "dish_liked                      object\n",
       "cuisines                        object\n",
       "approx_cost(for two people)     object\n",
       "reviews_list                    object\n",
       "menu_item                       object\n",
       "listed_in(type)                 object\n",
       "listed_in(city)                 object\n",
       "rating                         float64\n",
       "dtype: object"
      ]
     },
     "execution_count": 69,
     "metadata": {},
     "output_type": "execute_result"
    }
   ],
   "source": [
    "df.dtypes"
   ]
  },
  {
   "cell_type": "code",
   "execution_count": 70,
   "metadata": {},
   "outputs": [
    {
     "data": {
      "text/plain": [
       "location\n",
       "Lavelle Road             4.042886\n",
       "St. Marks Road           4.017201\n",
       "Koramangala 3rd Block    3.978756\n",
       "Sankey Road              3.965385\n",
       "Church Street            3.963091\n",
       "                           ...   \n",
       "Electronic City          3.041909\n",
       "Bommanahalli             2.926752\n",
       "Hebbal                   2.880000\n",
       "North Bangalore          2.385714\n",
       "West Bangalore           2.020000\n",
       "Name: rating, Length: 92, dtype: float64"
      ]
     },
     "execution_count": 70,
     "metadata": {},
     "output_type": "execute_result"
    }
   ],
   "source": [
    "df.groupby('location')['rating'].mean().sort_values(ascending=False)"
   ]
  },
  {
   "cell_type": "code",
   "execution_count": 71,
   "metadata": {},
   "outputs": [
    {
     "data": {
      "text/plain": [
       "location\n",
       "BTM                  3.296128\n",
       "Banashankari         3.373292\n",
       "Banaswadi            3.362926\n",
       "Bannerghatta Road    3.271677\n",
       "Basavanagudi         3.478185\n",
       "                       ...   \n",
       "West Bangalore       2.020000\n",
       "Whitefield           3.384170\n",
       "Wilson Garden        3.257635\n",
       "Yelahanka            3.640000\n",
       "Yeshwantpur          3.502679\n",
       "Name: rating, Length: 92, dtype: float64"
      ]
     },
     "execution_count": 71,
     "metadata": {},
     "output_type": "execute_result"
    }
   ],
   "source": [
    "df.groupby('location')['rating'].mean()"
   ]
  },
  {
   "cell_type": "code",
   "execution_count": 72,
   "metadata": {},
   "outputs": [
    {
     "data": {
      "text/plain": [
       "array([3.29612767, 3.37329193, 3.36292585, 3.27167674, 3.47818471,\n",
       "       3.44551724, 3.30983302, 2.92675159, 3.59584871, 3.3746988 ,\n",
       "       3.21515152, 3.625     , 3.96309091, 3.44615385, 3.10970874,\n",
       "       3.90105263, 3.38554779, 3.24333333, 3.05472973, 3.04190871,\n",
       "       3.56487889, 3.27927928, 3.48406955, 2.88      , 3.09389313,\n",
       "       3.68783784, 3.3202381 , 3.65216942, 3.79642857, 3.41292591,\n",
       "       3.48695652, 3.61525029, 3.42977099, 3.21818182, 3.47362637,\n",
       "       3.52914439, 3.49980952, 3.47894737, 3.72222222, 3.60645161,\n",
       "       3.26393782, 3.54565217, 3.97875648, 3.81435185, 3.90151197,\n",
       "       3.66246625, 3.74784206, 3.6075    , 3.3202381 , 3.80740741,\n",
       "       4.04288577, 3.74055024, 3.4375    , 3.2940678 , 3.66823708,\n",
       "       3.40053227, 3.45555556, 3.4       , 3.33333333, 3.583174  ,\n",
       "       2.38571429, 3.38911917, 3.18181818, 3.2       , 3.278125  ,\n",
       "       3.7270073 , 3.42238193, 3.85      , 3.10714286, 3.84457237,\n",
       "       3.68801262, 3.83965517, 3.4787234 , 3.36      , 3.96538462,\n",
       "       3.47355822, 3.70492958, 3.32358974, 3.49891697, 3.41978022,\n",
       "       4.01720117, 3.09539474, 3.54139845, 3.51111111, 3.29892473,\n",
       "       3.58095238, 3.24929577, 2.02      , 3.38417011, 3.25763547,\n",
       "       3.64      , 3.50267857])"
      ]
     },
     "execution_count": 72,
     "metadata": {},
     "output_type": "execute_result"
    }
   ],
   "source": [
    "#avg_rating=df.groupby(['location'])['rating'].mean().values\n",
    "avg_rating = df.groupby(['location'])['rating'].mean().values\n",
    "avg_rating"
   ]
  },
  {
   "cell_type": "code",
   "execution_count": 73,
   "metadata": {},
   "outputs": [
    {
     "data": {
      "text/plain": [
       "Index(['BTM', 'Banashankari', 'Banaswadi', 'Bannerghatta Road', 'Basavanagudi',\n",
       "       'Basaveshwara Nagar', 'Bellandur', 'Bommanahalli', 'Brigade Road',\n",
       "       'Brookefield', 'CV Raman Nagar', 'Central Bangalore', 'Church Street',\n",
       "       'City Market', 'Commercial Street', 'Cunningham Road', 'Domlur',\n",
       "       'East Bangalore', 'Ejipura', 'Electronic City', 'Frazer Town',\n",
       "       'HBR Layout', 'HSR', 'Hebbal', 'Hennur', 'Hosur Road',\n",
       "       'ITPL Main Road, Whitefield', 'Indiranagar', 'Infantry Road',\n",
       "       'JP Nagar', 'Jalahalli', 'Jayanagar', 'Jeevan Bhima Nagar', 'KR Puram',\n",
       "       'Kaggadasapura', 'Kalyan Nagar', 'Kammanahalli', 'Kanakapura Road',\n",
       "       'Kengeri', 'Koramangala', 'Koramangala 1st Block',\n",
       "       'Koramangala 2nd Block', 'Koramangala 3rd Block',\n",
       "       'Koramangala 4th Block', 'Koramangala 5th Block',\n",
       "       'Koramangala 6th Block', 'Koramangala 7th Block',\n",
       "       'Koramangala 8th Block', 'Kumaraswamy Layout', 'Langford Town',\n",
       "       'Lavelle Road', 'MG Road', 'Magadi Road', 'Majestic', 'Malleshwaram',\n",
       "       'Marathahalli', 'Mysore Road', 'Nagarbhavi', 'Nagawara', 'New BEL Road',\n",
       "       'North Bangalore', 'Old Airport Road', 'Old Madras Road', 'Peenya',\n",
       "       'RT Nagar', 'Race Course Road', 'Rajajinagar', 'Rajarajeshwari Nagar',\n",
       "       'Rammurthy Nagar', 'Residency Road', 'Richmond Road', 'Sadashiv Nagar',\n",
       "       'Sahakara Nagar', 'Sanjay Nagar', 'Sankey Road', 'Sarjapur Road',\n",
       "       'Seshadripuram', 'Shanti Nagar', 'Shivajinagar', 'South Bangalore',\n",
       "       'St. Marks Road', 'Thippasandra', 'Ulsoor', 'Uttarahalli',\n",
       "       'Varthur Main Road, Whitefield', 'Vasanth Nagar', 'Vijay Nagar',\n",
       "       'West Bangalore', 'Whitefield', 'Wilson Garden', 'Yelahanka',\n",
       "       'Yeshwantpur'],\n",
       "      dtype='object', name='location')"
      ]
     },
     "execution_count": 73,
     "metadata": {},
     "output_type": "execute_result"
    }
   ],
   "source": [
    "loc=df.groupby(['location'])['rating'].mean().index\n",
    "loc"
   ]
  },
  {
   "cell_type": "code",
   "execution_count": 76,
   "metadata": {},
   "outputs": [],
   "source": [
    "from geopy.geocoders import Nominatim\n",
    "\n",
    "geolocator=Nominatim(user_agent=\"app\")\n"
   ]
  },
  {
   "cell_type": "code",
   "execution_count": 80,
   "metadata": {},
   "outputs": [],
   "source": [
    "lat=[]\n",
    "lon=[]\n",
    "for location in loc:\n",
    "    location = geolocator.geocode(location)    \n",
    "    if location is None:\n",
    "        lat.append(np.nan)\n",
    "        lon.append(np.nan)\n",
    "    else:\n",
    "        lat.append(location.latitude)\n",
    "        lon.append(location.longitude)"
   ]
  },
  {
   "cell_type": "code",
   "execution_count": 81,
   "metadata": {},
   "outputs": [],
   "source": [
    "rating=pd.DataFrame()"
   ]
  },
  {
   "cell_type": "code",
   "execution_count": 82,
   "metadata": {},
   "outputs": [],
   "source": [
    "rating['location']=loc\n",
    "rating['lat']=lat\n",
    "rating['lon']=lon\n",
    "rating['avg_rating']=avg_rating"
   ]
  },
  {
   "cell_type": "code",
   "execution_count": 83,
   "metadata": {},
   "outputs": [
    {
     "data": {
      "text/html": [
       "<div>\n",
       "<style scoped>\n",
       "    .dataframe tbody tr th:only-of-type {\n",
       "        vertical-align: middle;\n",
       "    }\n",
       "\n",
       "    .dataframe tbody tr th {\n",
       "        vertical-align: top;\n",
       "    }\n",
       "\n",
       "    .dataframe thead th {\n",
       "        text-align: right;\n",
       "    }\n",
       "</style>\n",
       "<table border=\"1\" class=\"dataframe\">\n",
       "  <thead>\n",
       "    <tr style=\"text-align: right;\">\n",
       "      <th></th>\n",
       "      <th>location</th>\n",
       "      <th>lat</th>\n",
       "      <th>lon</th>\n",
       "      <th>avg_rating</th>\n",
       "    </tr>\n",
       "  </thead>\n",
       "  <tbody>\n",
       "    <tr>\n",
       "      <th>0</th>\n",
       "      <td>BTM</td>\n",
       "      <td>45.954851</td>\n",
       "      <td>-112.496595</td>\n",
       "      <td>3.296128</td>\n",
       "    </tr>\n",
       "    <tr>\n",
       "      <th>1</th>\n",
       "      <td>Banashankari</td>\n",
       "      <td>15.887678</td>\n",
       "      <td>75.704678</td>\n",
       "      <td>3.373292</td>\n",
       "    </tr>\n",
       "    <tr>\n",
       "      <th>2</th>\n",
       "      <td>Banaswadi</td>\n",
       "      <td>13.014162</td>\n",
       "      <td>77.651854</td>\n",
       "      <td>3.362926</td>\n",
       "    </tr>\n",
       "    <tr>\n",
       "      <th>3</th>\n",
       "      <td>Bannerghatta Road</td>\n",
       "      <td>12.887979</td>\n",
       "      <td>77.597081</td>\n",
       "      <td>3.271677</td>\n",
       "    </tr>\n",
       "    <tr>\n",
       "      <th>4</th>\n",
       "      <td>Basavanagudi</td>\n",
       "      <td>12.941726</td>\n",
       "      <td>77.575502</td>\n",
       "      <td>3.478185</td>\n",
       "    </tr>\n",
       "  </tbody>\n",
       "</table>\n",
       "</div>"
      ],
      "text/plain": [
       "            location        lat         lon  avg_rating\n",
       "0                BTM  45.954851 -112.496595    3.296128\n",
       "1       Banashankari  15.887678   75.704678    3.373292\n",
       "2          Banaswadi  13.014162   77.651854    3.362926\n",
       "3  Bannerghatta Road  12.887979   77.597081    3.271677\n",
       "4       Basavanagudi  12.941726   77.575502    3.478185"
      ]
     },
     "execution_count": 83,
     "metadata": {},
     "output_type": "execute_result"
    }
   ],
   "source": [
    "rating.head()"
   ]
  },
  {
   "cell_type": "code",
   "execution_count": 84,
   "metadata": {},
   "outputs": [
    {
     "data": {
      "text/plain": [
       "location      0\n",
       "lat           1\n",
       "lon           1\n",
       "avg_rating    0\n",
       "dtype: int64"
      ]
     },
     "execution_count": 84,
     "metadata": {},
     "output_type": "execute_result"
    }
   ],
   "source": [
    "rating.isna().sum()"
   ]
  },
  {
   "cell_type": "code",
   "execution_count": 85,
   "metadata": {},
   "outputs": [],
   "source": [
    "rating=rating.dropna()"
   ]
  },
  {
   "cell_type": "code",
   "execution_count": 86,
   "metadata": {},
   "outputs": [
    {
     "data": {
      "text/plain": [
       "location      0\n",
       "lat           0\n",
       "lon           0\n",
       "avg_rating    0\n",
       "dtype: int64"
      ]
     },
     "execution_count": 86,
     "metadata": {},
     "output_type": "execute_result"
    }
   ],
   "source": [
    "rating.isna().sum()"
   ]
  },
  {
   "cell_type": "code",
   "execution_count": 88,
   "metadata": {},
   "outputs": [
    {
     "data": {
      "text/plain": [
       "<folium.plugins.heat_map.HeatMap at 0x2249706bf88>"
      ]
     },
     "execution_count": 88,
     "metadata": {},
     "output_type": "execute_result"
    }
   ],
   "source": [
    "HeatMap(rating[['lat','lon','avg_rating']],zoom=20,radius=15).add_to(base_map)"
   ]
  },
  {
   "cell_type": "code",
   "execution_count": 89,
   "metadata": {},
   "outputs": [
    {
     "data": {
      "text/html": [
       "<div style=\"width:100%;\"><div style=\"position:relative;width:100%;height:0;padding-bottom:60%;\"><span style=\"color:#565656\">Make this Notebook Trusted to load map: File -> Trust Notebook</span><iframe src=\"about:blank\" style=\"position:absolute;width:100%;height:100%;left:0;top:0;border:none !important;\" data-html=%3C%21DOCTYPE%20html%3E%0A%3Chead%3E%20%20%20%20%0A%20%20%20%20%3Cmeta%20http-equiv%3D%22content-type%22%20content%3D%22text/html%3B%20charset%3DUTF-8%22%20/%3E%0A%20%20%20%20%0A%20%20%20%20%20%20%20%20%3Cscript%3E%0A%20%20%20%20%20%20%20%20%20%20%20%20L_NO_TOUCH%20%3D%20false%3B%0A%20%20%20%20%20%20%20%20%20%20%20%20L_DISABLE_3D%20%3D%20false%3B%0A%20%20%20%20%20%20%20%20%3C/script%3E%0A%20%20%20%20%0A%20%20%20%20%3Cstyle%3Ehtml%2C%20body%20%7Bwidth%3A%20100%25%3Bheight%3A%20100%25%3Bmargin%3A%200%3Bpadding%3A%200%3B%7D%3C/style%3E%0A%20%20%20%20%3Cstyle%3E%23map%20%7Bposition%3Aabsolute%3Btop%3A0%3Bbottom%3A0%3Bright%3A0%3Bleft%3A0%3B%7D%3C/style%3E%0A%20%20%20%20%3Cscript%20src%3D%22https%3A//cdn.jsdelivr.net/npm/leaflet%401.6.0/dist/leaflet.js%22%3E%3C/script%3E%0A%20%20%20%20%3Cscript%20src%3D%22https%3A//code.jquery.com/jquery-1.12.4.min.js%22%3E%3C/script%3E%0A%20%20%20%20%3Cscript%20src%3D%22https%3A//maxcdn.bootstrapcdn.com/bootstrap/3.2.0/js/bootstrap.min.js%22%3E%3C/script%3E%0A%20%20%20%20%3Cscript%20src%3D%22https%3A//cdnjs.cloudflare.com/ajax/libs/Leaflet.awesome-markers/2.0.2/leaflet.awesome-markers.js%22%3E%3C/script%3E%0A%20%20%20%20%3Clink%20rel%3D%22stylesheet%22%20href%3D%22https%3A//cdn.jsdelivr.net/npm/leaflet%401.6.0/dist/leaflet.css%22/%3E%0A%20%20%20%20%3Clink%20rel%3D%22stylesheet%22%20href%3D%22https%3A//maxcdn.bootstrapcdn.com/bootstrap/3.2.0/css/bootstrap.min.css%22/%3E%0A%20%20%20%20%3Clink%20rel%3D%22stylesheet%22%20href%3D%22https%3A//maxcdn.bootstrapcdn.com/bootstrap/3.2.0/css/bootstrap-theme.min.css%22/%3E%0A%20%20%20%20%3Clink%20rel%3D%22stylesheet%22%20href%3D%22https%3A//maxcdn.bootstrapcdn.com/font-awesome/4.6.3/css/font-awesome.min.css%22/%3E%0A%20%20%20%20%3Clink%20rel%3D%22stylesheet%22%20href%3D%22https%3A//cdnjs.cloudflare.com/ajax/libs/Leaflet.awesome-markers/2.0.2/leaflet.awesome-markers.css%22/%3E%0A%20%20%20%20%3Clink%20rel%3D%22stylesheet%22%20href%3D%22https%3A//cdn.jsdelivr.net/gh/python-visualization/folium/folium/templates/leaflet.awesome.rotate.min.css%22/%3E%0A%20%20%20%20%0A%20%20%20%20%20%20%20%20%20%20%20%20%3Cmeta%20name%3D%22viewport%22%20content%3D%22width%3Ddevice-width%2C%0A%20%20%20%20%20%20%20%20%20%20%20%20%20%20%20%20initial-scale%3D1.0%2C%20maximum-scale%3D1.0%2C%20user-scalable%3Dno%22%20/%3E%0A%20%20%20%20%20%20%20%20%20%20%20%20%3Cstyle%3E%0A%20%20%20%20%20%20%20%20%20%20%20%20%20%20%20%20%23map_e18cc7a6149247bda2a73d5c26829ade%20%7B%0A%20%20%20%20%20%20%20%20%20%20%20%20%20%20%20%20%20%20%20%20position%3A%20relative%3B%0A%20%20%20%20%20%20%20%20%20%20%20%20%20%20%20%20%20%20%20%20width%3A%20100.0%25%3B%0A%20%20%20%20%20%20%20%20%20%20%20%20%20%20%20%20%20%20%20%20height%3A%20100.0%25%3B%0A%20%20%20%20%20%20%20%20%20%20%20%20%20%20%20%20%20%20%20%20left%3A%200.0%25%3B%0A%20%20%20%20%20%20%20%20%20%20%20%20%20%20%20%20%20%20%20%20top%3A%200.0%25%3B%0A%20%20%20%20%20%20%20%20%20%20%20%20%20%20%20%20%7D%0A%20%20%20%20%20%20%20%20%20%20%20%20%3C/style%3E%0A%20%20%20%20%20%20%20%20%0A%20%20%20%20%3Cscript%20src%3D%22https%3A//cdn.jsdelivr.net/gh/python-visualization/folium%40master/folium/templates/leaflet_heat.min.js%22%3E%3C/script%3E%0A%20%20%20%20%3Cscript%20src%3D%22https%3A//cdnjs.cloudflare.com/ajax/libs/leaflet.markercluster/1.1.0/leaflet.markercluster.js%22%3E%3C/script%3E%0A%20%20%20%20%3Clink%20rel%3D%22stylesheet%22%20href%3D%22https%3A//cdnjs.cloudflare.com/ajax/libs/leaflet.markercluster/1.1.0/MarkerCluster.css%22/%3E%0A%20%20%20%20%3Clink%20rel%3D%22stylesheet%22%20href%3D%22https%3A//cdnjs.cloudflare.com/ajax/libs/leaflet.markercluster/1.1.0/MarkerCluster.Default.css%22/%3E%0A%3C/head%3E%0A%3Cbody%3E%20%20%20%20%0A%20%20%20%20%0A%20%20%20%20%20%20%20%20%20%20%20%20%3Cdiv%20class%3D%22folium-map%22%20id%3D%22map_e18cc7a6149247bda2a73d5c26829ade%22%20%3E%3C/div%3E%0A%20%20%20%20%20%20%20%20%0A%3C/body%3E%0A%3Cscript%3E%20%20%20%20%0A%20%20%20%20%0A%20%20%20%20%20%20%20%20%20%20%20%20var%20map_e18cc7a6149247bda2a73d5c26829ade%20%3D%20L.map%28%0A%20%20%20%20%20%20%20%20%20%20%20%20%20%20%20%20%22map_e18cc7a6149247bda2a73d5c26829ade%22%2C%0A%20%20%20%20%20%20%20%20%20%20%20%20%20%20%20%20%7B%0A%20%20%20%20%20%20%20%20%20%20%20%20%20%20%20%20%20%20%20%20center%3A%20%5B12.97%2C%2077.59%5D%2C%0A%20%20%20%20%20%20%20%20%20%20%20%20%20%20%20%20%20%20%20%20crs%3A%20L.CRS.EPSG3857%2C%0A%20%20%20%20%20%20%20%20%20%20%20%20%20%20%20%20%20%20%20%20zoom%3A%2010%2C%0A%20%20%20%20%20%20%20%20%20%20%20%20%20%20%20%20%20%20%20%20zoomControl%3A%20true%2C%0A%20%20%20%20%20%20%20%20%20%20%20%20%20%20%20%20%20%20%20%20preferCanvas%3A%20false%2C%0A%20%20%20%20%20%20%20%20%20%20%20%20%20%20%20%20%20%20%20%20zoomDefault%3A%2012%2C%0A%20%20%20%20%20%20%20%20%20%20%20%20%20%20%20%20%7D%0A%20%20%20%20%20%20%20%20%20%20%20%20%29%3B%0A%0A%20%20%20%20%20%20%20%20%20%20%20%20%0A%0A%20%20%20%20%20%20%20%20%0A%20%20%20%20%0A%20%20%20%20%20%20%20%20%20%20%20%20var%20tile_layer_ac982323f8014fb8a55c5bc50034f26a%20%3D%20L.tileLayer%28%0A%20%20%20%20%20%20%20%20%20%20%20%20%20%20%20%20%22https%3A//%7Bs%7D.tile.openstreetmap.org/%7Bz%7D/%7Bx%7D/%7By%7D.png%22%2C%0A%20%20%20%20%20%20%20%20%20%20%20%20%20%20%20%20%7B%22attribution%22%3A%20%22Data%20by%20%5Cu0026copy%3B%20%5Cu003ca%20href%3D%5C%22http%3A//openstreetmap.org%5C%22%5Cu003eOpenStreetMap%5Cu003c/a%5Cu003e%2C%20under%20%5Cu003ca%20href%3D%5C%22http%3A//www.openstreetmap.org/copyright%5C%22%5Cu003eODbL%5Cu003c/a%5Cu003e.%22%2C%20%22detectRetina%22%3A%20false%2C%20%22maxNativeZoom%22%3A%2018%2C%20%22maxZoom%22%3A%2018%2C%20%22minZoom%22%3A%200%2C%20%22noWrap%22%3A%20false%2C%20%22opacity%22%3A%201%2C%20%22subdomains%22%3A%20%22abc%22%2C%20%22tms%22%3A%20false%7D%0A%20%20%20%20%20%20%20%20%20%20%20%20%29.addTo%28map_e18cc7a6149247bda2a73d5c26829ade%29%3B%0A%20%20%20%20%20%20%20%20%0A%20%20%20%20%0A%20%20%20%20%20%20%20%20%20%20%20%20var%20heat_map_d1b8982890794593a4830e13759f52f0%20%3D%20L.heatLayer%28%0A%20%20%20%20%20%20%20%20%20%20%20%20%20%20%20%20%5B%5B45.95485055%2C%20-112.49659530324134%2C%205124.0%5D%2C%20%5B18.1475%2C%2041.538889%2C%202523.0%5D%2C%20%5B12.9343774%2C%2077.628415%2C%202504.0%5D%2C%20%5B12.2655944%2C%2076.6465404%2C%202235.0%5D%2C%20%5B44.3730577%2C%20-71.6118577%2C%202144.0%5D%2C%20%5B12.9732913%2C%2077.6404672%2C%202083.0%5D%2C%20%5B27.64392675%2C%2083.05280519687284%2C%201926.0%5D%2C%20%5B12.9552572%2C%2077.6984163%2C%201846.0%5D%2C%20%5B12.887979%2C%2077.5970812%2C%201630.0%5D%2C%20%5B12.93577245%2C%2077.66676103753434%2C%201286.0%5D%2C%20%5B-6.271852%2C%20106.71337663408798%2C%201258.0%5D%2C%20%5B12.9355425%2C%2077.6128717%2C%201238.0%5D%2C%20%5B40.28745%2C%20-76.964526%2C%201218.0%5D%2C%20%5B12.9334288%2C%2077.6309732%2C%201181.0%5D%2C%20%5B12.9400321%2C%2077.6203272%2C%201156.0%5D%2C%20%5B12.9242381%2C%2077.6289059%2C%201065.0%5D%2C%20%5B12.9778793%2C%2077.6246697%2C%201023.0%5D%2C%20%5B12.93433385%2C%2077.63040639553275%2C%201017.0%5D%2C%20%5B16.5018813%2C%2080.6426257%2C%20918.0%5D%2C%20%5B15.8876779%2C%2075.7046777%2C%20906.0%5D%2C%20%5B13.0221416%2C%2077.6403368%2C%20853.0%5D%2C%20%5B50.7721586%2C%200.09772783661369303%2C%20812.0%5D%2C%20%5B12.996845%2C%2077.6130165%2C%20727.0%5D%2C%20%5B13.0027353%2C%2077.5703253%2C%20725.0%5D%2C%20%5B12.9417261%2C%2077.5755021%2C%20684.0%5D%2C%20%5B26.2660314%2C%2073.0265996%2C%20675.0%5D%2C%20%5B13.0141618%2C%2077.6518539%2C%20664.0%5D%2C%20%5B33.5935063%2C%20-79.0345627%2C%20658.0%5D%2C%20%5B13.0346384%2C%2077.5681733%2C%20649.0%5D%2C%20%5B13.0093455%2C%2077.6377094%2C%20648.0%5D%2C%20%5B12.9882338%2C%2077.554883%2C%20591.0%5D%2C%20%5B51.373656%2C%20-0.1042366%2C%20569.0%5D%2C%20%5B40.7652844%2C%20-76.373824%2C%20529.0%5D%2C%20%5B22.478459%2C%2088.3541291%2C%20511.0%5D%2C%20%5B18.5322493%2C%2073.8499601124847%2C%20499.0%5D%2C%20%5B12.9624669%2C%2077.6381958%2C%20496.0%5D%2C%20%5B31.89376%2C%20-88.066644%2C%20491.0%5D%2C%20%5B41.527815%2C%20-71.287155%2C%20446.0%5D%2C%20%5B12.945245%2C%2077.6269144%2C%20439.0%5D%2C%20%5B51.5164765%2C%20-0.0728317%2C%20370.0%5D%2C%20%5B51.5227651%2C%20-0.7354457%2C%20352.0%5D%2C%20%5B12.9417812%2C%2077.6160146%2C%20320.0%5D%2C%20%5B12.988721250000001%2C%2077.58516877601824%2C%20295.0%5D%2C%20%5B12.9678074%2C%2077.6568367%2C%20272.0%5D%2C%20%5B12.9489339%2C%2077.5968273%2C%20246.0%5D%2C%20%5B12.9089453%2C%2077.6239038%2C%20238.0%5D%2C%20%5B12.9271867%2C%2077.6266252%2C%20216.0%5D%2C%20%5B12.9081487%2C%2077.5553179%2C%20195.0%5D%2C%20%5B12.973936%2C%2077.6509982%2C%20194.0%5D%2C%20%5B12.9932739%2C%2077.5388099%2C%20191.0%5D%2C%20%5B13.2227%2C%2078.5541977%2C%20187.0%5D%2C%20%5B12.9931876%2C%2077.5753419%2C%20165.0%5D%2C%20%5B13.0258087%2C%2077.6305067%2C%20161.0%5D%2C%20%5B1.2847055%2C%20103.84320655721689%2C%20155.0%5D%2C%20%5B13.0358698%2C%2077.6323597%2C%20153.0%5D%2C%20%5B34.977289%2C%20-78.974578%2C%20151.0%5D%2C%20%5B31.4295008%2C%2073.0882481%2C%20139.0%5D%2C%20%5B39.76880625%2C%20-86.15345077251979%2C%20126.0%5D%2C%20%5B13.02383%2C%2077.5529215%2C%20119.0%5D%2C%20%5B12.9414662%2C%2077.7470942%2C%20117.0%5D%2C%20%5B12.9876616%2C%2077.7369153%2C%20113.0%5D%2C%20%5B13.0646907%2C%2077.49626895712257%2C%20107.0%5D%2C%20%5B12.9243509%2C%2077.6255562%2C%20102.0%5D%2C%20%5B12.773175%2C%2077.7831871%2C%20102.0%5D%2C%20%5B12.9846713%2C%2077.6790908%2C%20101.0%5D%2C%20%5B17.2510682%2C%2080.1651978%2C%2090.0%5D%2C%20%5B13.0227204%2C%2077.595715%2C%2080.0%5D%2C%20%5B22.8359967%2C%2069.3405962%2C%2080.0%5D%2C%20%5B23.1485712%2C%2081.6048241%2C%2076.0%5D%2C%20%5B15.8782951%2C%2074.5084834%2C%2063.0%5D%2C%20%5B13.0621474%2C%2077.58006135480495%2C%2053.0%5D%2C%20%5B13.2923988%2C%2077.7519261%2C%2048.0%5D%2C%20%5B13.0215466%2C%2077.7640586%2C%2044.0%5D%2C%20%5B11.9917786%2C%2076.5066292%2C%2038.0%5D%2C%20%5B12.945048%2C%2077.263004%2C%2034.0%5D%2C%20%5B12.957998%2C%2077.6037312%2C%2027.0%5D%2C%20%5B38.7801076%2C%20-121.5056438%2C%2027.0%5D%2C%20%5B12.3872141%2C%2076.6669626%2C%2022.0%5D%2C%20%5B13.194416%2C%2078.7011301%2C%2022.0%5D%2C%20%5B12.5607431%2C%2077.4258375%2C%2019.0%5D%2C%20%5B13.007516%2C%2077.695935%2C%2018.0%5D%2C%20%5B12.9055682%2C%2077.5455438%2C%2017.0%5D%2C%20%5B13.0382184%2C%2077.5919%2C%2014.0%5D%2C%20%5B13.0217151%2C%2077.7660547%2C%2014.0%5D%2C%20%5B12.9176571%2C%2077.4837568%2C%209.0%5D%2C%20%5B12.9546741%2C%2077.5121724%2C%209.0%5D%2C%20%5B13.0101286%2C%2077.5548006%2C%208.0%5D%2C%20%5B13.1006982%2C%2077.5963454%2C%206.0%5D%2C%20%5B12.9306281%2C%2077.5857408%2C%206.0%5D%2C%20%5B13.0784743%2C%2077.6068938%2C%203.0%5D%2C%20%5B12.9274413%2C%2077.5155224%2C%202.0%5D%2C%20%5B13.0329419%2C%2077.5273253%2C%201.0%5D%5D%2C%0A%20%20%20%20%20%20%20%20%20%20%20%20%20%20%20%20%7B%22blur%22%3A%2015%2C%20%22maxZoom%22%3A%2018%2C%20%22minOpacity%22%3A%200.5%2C%20%22radius%22%3A%2015%2C%20%22zoom%22%3A%2020%7D%0A%20%20%20%20%20%20%20%20%20%20%20%20%29.addTo%28map_e18cc7a6149247bda2a73d5c26829ade%29%3B%0A%20%20%20%20%20%20%20%20%0A%20%20%20%20%0A%20%20%20%20%20%20%20%20%20%20%20%20var%20fast_marker_cluster_ac6e64908e8f4419bc400d796bb97d2d%20%3D%20%28function%28%29%7B%0A%20%20%20%20%20%20%20%20%20%20%20%20%20%20%20%20%0A%20%20%20%20%20%20%20%20%20%20%20%20%20%20%20%20var%20callback%20%3D%20function%20%28row%29%20%7B%0A%20%20%20%20%20%20%20%20%20%20%20%20%20%20%20%20%20%20%20%20var%20icon%20%3D%20L.AwesomeMarkers.icon%28%29%3B%0A%20%20%20%20%20%20%20%20%20%20%20%20%20%20%20%20%20%20%20%20var%20marker%20%3D%20L.marker%28new%20L.LatLng%28row%5B0%5D%2C%20row%5B1%5D%29%29%3B%0A%20%20%20%20%20%20%20%20%20%20%20%20%20%20%20%20%20%20%20%20marker.setIcon%28icon%29%3B%0A%20%20%20%20%20%20%20%20%20%20%20%20%20%20%20%20%20%20%20%20return%20marker%3B%0A%20%20%20%20%20%20%20%20%20%20%20%20%20%20%20%20%7D%3B%0A%0A%20%20%20%20%20%20%20%20%20%20%20%20%20%20%20%20var%20data%20%3D%20%5B%5B45.95485055%2C%20-112.49659530324134%2C%205124.0%5D%2C%20%5B18.1475%2C%2041.538889%2C%202523.0%5D%2C%20%5B12.9343774%2C%2077.628415%2C%202504.0%5D%2C%20%5B12.2655944%2C%2076.6465404%2C%202235.0%5D%2C%20%5B44.3730577%2C%20-71.6118577%2C%202144.0%5D%2C%20%5B12.9732913%2C%2077.6404672%2C%202083.0%5D%2C%20%5B27.64392675%2C%2083.05280519687284%2C%201926.0%5D%2C%20%5B12.9552572%2C%2077.6984163%2C%201846.0%5D%2C%20%5B12.887979%2C%2077.5970812%2C%201630.0%5D%2C%20%5B12.93577245%2C%2077.66676103753434%2C%201286.0%5D%2C%20%5B-6.271852%2C%20106.71337663408798%2C%201258.0%5D%2C%20%5B12.9355425%2C%2077.6128717%2C%201238.0%5D%2C%20%5B40.28745%2C%20-76.964526%2C%201218.0%5D%2C%20%5B12.9334288%2C%2077.6309732%2C%201181.0%5D%2C%20%5B12.9400321%2C%2077.6203272%2C%201156.0%5D%2C%20%5B12.9242381%2C%2077.6289059%2C%201065.0%5D%2C%20%5B12.9778793%2C%2077.6246697%2C%201023.0%5D%2C%20%5B12.93433385%2C%2077.63040639553275%2C%201017.0%5D%2C%20%5B16.5018813%2C%2080.6426257%2C%20918.0%5D%2C%20%5B15.8876779%2C%2075.7046777%2C%20906.0%5D%2C%20%5B13.0221416%2C%2077.6403368%2C%20853.0%5D%2C%20%5B50.7721586%2C%200.09772783661369303%2C%20812.0%5D%2C%20%5B12.996845%2C%2077.6130165%2C%20727.0%5D%2C%20%5B13.0027353%2C%2077.5703253%2C%20725.0%5D%2C%20%5B12.9417261%2C%2077.5755021%2C%20684.0%5D%2C%20%5B26.2660314%2C%2073.0265996%2C%20675.0%5D%2C%20%5B13.0141618%2C%2077.6518539%2C%20664.0%5D%2C%20%5B33.5935063%2C%20-79.0345627%2C%20658.0%5D%2C%20%5B13.0346384%2C%2077.5681733%2C%20649.0%5D%2C%20%5B13.0093455%2C%2077.6377094%2C%20648.0%5D%2C%20%5B12.9882338%2C%2077.554883%2C%20591.0%5D%2C%20%5B51.373656%2C%20-0.1042366%2C%20569.0%5D%2C%20%5B40.7652844%2C%20-76.373824%2C%20529.0%5D%2C%20%5B22.478459%2C%2088.3541291%2C%20511.0%5D%2C%20%5B18.5322493%2C%2073.8499601124847%2C%20499.0%5D%2C%20%5B12.9624669%2C%2077.6381958%2C%20496.0%5D%2C%20%5B31.89376%2C%20-88.066644%2C%20491.0%5D%2C%20%5B41.527815%2C%20-71.287155%2C%20446.0%5D%2C%20%5B12.945245%2C%2077.6269144%2C%20439.0%5D%2C%20%5B51.5164765%2C%20-0.0728317%2C%20370.0%5D%2C%20%5B51.5227651%2C%20-0.7354457%2C%20352.0%5D%2C%20%5B12.9417812%2C%2077.6160146%2C%20320.0%5D%2C%20%5B12.988721250000001%2C%2077.58516877601824%2C%20295.0%5D%2C%20%5B12.9678074%2C%2077.6568367%2C%20272.0%5D%2C%20%5B12.9489339%2C%2077.5968273%2C%20246.0%5D%2C%20%5B12.9089453%2C%2077.6239038%2C%20238.0%5D%2C%20%5B12.9271867%2C%2077.6266252%2C%20216.0%5D%2C%20%5B12.9081487%2C%2077.5553179%2C%20195.0%5D%2C%20%5B12.973936%2C%2077.6509982%2C%20194.0%5D%2C%20%5B12.9932739%2C%2077.5388099%2C%20191.0%5D%2C%20%5B13.2227%2C%2078.5541977%2C%20187.0%5D%2C%20%5B12.9931876%2C%2077.5753419%2C%20165.0%5D%2C%20%5B13.0258087%2C%2077.6305067%2C%20161.0%5D%2C%20%5B1.2847055%2C%20103.84320655721689%2C%20155.0%5D%2C%20%5B13.0358698%2C%2077.6323597%2C%20153.0%5D%2C%20%5B34.977289%2C%20-78.974578%2C%20151.0%5D%2C%20%5B31.4295008%2C%2073.0882481%2C%20139.0%5D%2C%20%5B39.76880625%2C%20-86.15345077251979%2C%20126.0%5D%2C%20%5B13.02383%2C%2077.5529215%2C%20119.0%5D%2C%20%5B12.9414662%2C%2077.7470942%2C%20117.0%5D%2C%20%5B12.9876616%2C%2077.7369153%2C%20113.0%5D%2C%20%5B13.0646907%2C%2077.49626895712257%2C%20107.0%5D%2C%20%5B12.9243509%2C%2077.6255562%2C%20102.0%5D%2C%20%5B12.773175%2C%2077.7831871%2C%20102.0%5D%2C%20%5B12.9846713%2C%2077.6790908%2C%20101.0%5D%2C%20%5B17.2510682%2C%2080.1651978%2C%2090.0%5D%2C%20%5B13.0227204%2C%2077.595715%2C%2080.0%5D%2C%20%5B22.8359967%2C%2069.3405962%2C%2080.0%5D%2C%20%5B23.1485712%2C%2081.6048241%2C%2076.0%5D%2C%20%5B15.8782951%2C%2074.5084834%2C%2063.0%5D%2C%20%5B13.0621474%2C%2077.58006135480495%2C%2053.0%5D%2C%20%5B13.2923988%2C%2077.7519261%2C%2048.0%5D%2C%20%5B13.0215466%2C%2077.7640586%2C%2044.0%5D%2C%20%5B11.9917786%2C%2076.5066292%2C%2038.0%5D%2C%20%5B12.945048%2C%2077.263004%2C%2034.0%5D%2C%20%5B12.957998%2C%2077.6037312%2C%2027.0%5D%2C%20%5B38.7801076%2C%20-121.5056438%2C%2027.0%5D%2C%20%5B12.3872141%2C%2076.6669626%2C%2022.0%5D%2C%20%5B13.194416%2C%2078.7011301%2C%2022.0%5D%2C%20%5B12.5607431%2C%2077.4258375%2C%2019.0%5D%2C%20%5B13.007516%2C%2077.695935%2C%2018.0%5D%2C%20%5B12.9055682%2C%2077.5455438%2C%2017.0%5D%2C%20%5B13.0382184%2C%2077.5919%2C%2014.0%5D%2C%20%5B13.0217151%2C%2077.7660547%2C%2014.0%5D%2C%20%5B12.9176571%2C%2077.4837568%2C%209.0%5D%2C%20%5B12.9546741%2C%2077.5121724%2C%209.0%5D%2C%20%5B13.0101286%2C%2077.5548006%2C%208.0%5D%2C%20%5B13.1006982%2C%2077.5963454%2C%206.0%5D%2C%20%5B12.9306281%2C%2077.5857408%2C%206.0%5D%2C%20%5B13.0784743%2C%2077.6068938%2C%203.0%5D%2C%20%5B12.9274413%2C%2077.5155224%2C%202.0%5D%2C%20%5B13.0329419%2C%2077.5273253%2C%201.0%5D%5D%3B%0A%20%20%20%20%20%20%20%20%20%20%20%20%20%20%20%20var%20cluster%20%3D%20L.markerClusterGroup%28%7B%22zoom%22%3A%2020%7D%29%3B%0A%0A%20%20%20%20%20%20%20%20%20%20%20%20%20%20%20%20for%20%28var%20i%20%3D%200%3B%20i%20%3C%20data.length%3B%20i%2B%2B%29%20%7B%0A%20%20%20%20%20%20%20%20%20%20%20%20%20%20%20%20%20%20%20%20var%20row%20%3D%20data%5Bi%5D%3B%0A%20%20%20%20%20%20%20%20%20%20%20%20%20%20%20%20%20%20%20%20var%20marker%20%3D%20callback%28row%29%3B%0A%20%20%20%20%20%20%20%20%20%20%20%20%20%20%20%20%20%20%20%20marker.addTo%28cluster%29%3B%0A%20%20%20%20%20%20%20%20%20%20%20%20%20%20%20%20%7D%0A%0A%20%20%20%20%20%20%20%20%20%20%20%20%20%20%20%20cluster.addTo%28map_e18cc7a6149247bda2a73d5c26829ade%29%3B%0A%20%20%20%20%20%20%20%20%20%20%20%20%20%20%20%20return%20cluster%3B%0A%20%20%20%20%20%20%20%20%20%20%20%20%7D%29%28%29%3B%0A%20%20%20%20%20%20%20%20%0A%20%20%20%20%0A%20%20%20%20%20%20%20%20%20%20%20%20var%20fast_marker_cluster_6f2273eb47254c7ba39256825dc0310e%20%3D%20%28function%28%29%7B%0A%20%20%20%20%20%20%20%20%20%20%20%20%20%20%20%20%0A%20%20%20%20%20%20%20%20%20%20%20%20%20%20%20%20var%20callback%20%3D%20function%20%28row%29%20%7B%0A%20%20%20%20%20%20%20%20%20%20%20%20%20%20%20%20%20%20%20%20var%20icon%20%3D%20L.AwesomeMarkers.icon%28%29%3B%0A%20%20%20%20%20%20%20%20%20%20%20%20%20%20%20%20%20%20%20%20var%20marker%20%3D%20L.marker%28new%20L.LatLng%28row%5B0%5D%2C%20row%5B1%5D%29%29%3B%0A%20%20%20%20%20%20%20%20%20%20%20%20%20%20%20%20%20%20%20%20marker.setIcon%28icon%29%3B%0A%20%20%20%20%20%20%20%20%20%20%20%20%20%20%20%20%20%20%20%20return%20marker%3B%0A%20%20%20%20%20%20%20%20%20%20%20%20%20%20%20%20%7D%3B%0A%0A%20%20%20%20%20%20%20%20%20%20%20%20%20%20%20%20var%20data%20%3D%20%5B%5B45.95485055%2C%20-112.49659530324134%2C%205124.0%5D%2C%20%5B18.1475%2C%2041.538889%2C%202523.0%5D%2C%20%5B12.9343774%2C%2077.628415%2C%202504.0%5D%2C%20%5B12.2655944%2C%2076.6465404%2C%202235.0%5D%2C%20%5B44.3730577%2C%20-71.6118577%2C%202144.0%5D%2C%20%5B12.9732913%2C%2077.6404672%2C%202083.0%5D%2C%20%5B27.64392675%2C%2083.05280519687284%2C%201926.0%5D%2C%20%5B12.9552572%2C%2077.6984163%2C%201846.0%5D%2C%20%5B12.887979%2C%2077.5970812%2C%201630.0%5D%2C%20%5B12.93577245%2C%2077.66676103753434%2C%201286.0%5D%2C%20%5B-6.271852%2C%20106.71337663408798%2C%201258.0%5D%2C%20%5B12.9355425%2C%2077.6128717%2C%201238.0%5D%2C%20%5B40.28745%2C%20-76.964526%2C%201218.0%5D%2C%20%5B12.9334288%2C%2077.6309732%2C%201181.0%5D%2C%20%5B12.9400321%2C%2077.6203272%2C%201156.0%5D%2C%20%5B12.9242381%2C%2077.6289059%2C%201065.0%5D%2C%20%5B12.9778793%2C%2077.6246697%2C%201023.0%5D%2C%20%5B12.93433385%2C%2077.63040639553275%2C%201017.0%5D%2C%20%5B16.5018813%2C%2080.6426257%2C%20918.0%5D%2C%20%5B15.8876779%2C%2075.7046777%2C%20906.0%5D%2C%20%5B13.0221416%2C%2077.6403368%2C%20853.0%5D%2C%20%5B50.7721586%2C%200.09772783661369303%2C%20812.0%5D%2C%20%5B12.996845%2C%2077.6130165%2C%20727.0%5D%2C%20%5B13.0027353%2C%2077.5703253%2C%20725.0%5D%2C%20%5B12.9417261%2C%2077.5755021%2C%20684.0%5D%2C%20%5B26.2660314%2C%2073.0265996%2C%20675.0%5D%2C%20%5B13.0141618%2C%2077.6518539%2C%20664.0%5D%2C%20%5B33.5935063%2C%20-79.0345627%2C%20658.0%5D%2C%20%5B13.0346384%2C%2077.5681733%2C%20649.0%5D%2C%20%5B13.0093455%2C%2077.6377094%2C%20648.0%5D%2C%20%5B12.9882338%2C%2077.554883%2C%20591.0%5D%2C%20%5B51.373656%2C%20-0.1042366%2C%20569.0%5D%2C%20%5B40.7652844%2C%20-76.373824%2C%20529.0%5D%2C%20%5B22.478459%2C%2088.3541291%2C%20511.0%5D%2C%20%5B18.5322493%2C%2073.8499601124847%2C%20499.0%5D%2C%20%5B12.9624669%2C%2077.6381958%2C%20496.0%5D%2C%20%5B31.89376%2C%20-88.066644%2C%20491.0%5D%2C%20%5B41.527815%2C%20-71.287155%2C%20446.0%5D%2C%20%5B12.945245%2C%2077.6269144%2C%20439.0%5D%2C%20%5B51.5164765%2C%20-0.0728317%2C%20370.0%5D%2C%20%5B51.5227651%2C%20-0.7354457%2C%20352.0%5D%2C%20%5B12.9417812%2C%2077.6160146%2C%20320.0%5D%2C%20%5B12.988721250000001%2C%2077.58516877601824%2C%20295.0%5D%2C%20%5B12.9678074%2C%2077.6568367%2C%20272.0%5D%2C%20%5B12.9489339%2C%2077.5968273%2C%20246.0%5D%2C%20%5B12.9089453%2C%2077.6239038%2C%20238.0%5D%2C%20%5B12.9271867%2C%2077.6266252%2C%20216.0%5D%2C%20%5B12.9081487%2C%2077.5553179%2C%20195.0%5D%2C%20%5B12.973936%2C%2077.6509982%2C%20194.0%5D%2C%20%5B12.9932739%2C%2077.5388099%2C%20191.0%5D%2C%20%5B13.2227%2C%2078.5541977%2C%20187.0%5D%2C%20%5B12.9931876%2C%2077.5753419%2C%20165.0%5D%2C%20%5B13.0258087%2C%2077.6305067%2C%20161.0%5D%2C%20%5B1.2847055%2C%20103.84320655721689%2C%20155.0%5D%2C%20%5B13.0358698%2C%2077.6323597%2C%20153.0%5D%2C%20%5B34.977289%2C%20-78.974578%2C%20151.0%5D%2C%20%5B31.4295008%2C%2073.0882481%2C%20139.0%5D%2C%20%5B39.76880625%2C%20-86.15345077251979%2C%20126.0%5D%2C%20%5B13.02383%2C%2077.5529215%2C%20119.0%5D%2C%20%5B12.9414662%2C%2077.7470942%2C%20117.0%5D%2C%20%5B12.9876616%2C%2077.7369153%2C%20113.0%5D%2C%20%5B13.0646907%2C%2077.49626895712257%2C%20107.0%5D%2C%20%5B12.9243509%2C%2077.6255562%2C%20102.0%5D%2C%20%5B12.773175%2C%2077.7831871%2C%20102.0%5D%2C%20%5B12.9846713%2C%2077.6790908%2C%20101.0%5D%2C%20%5B17.2510682%2C%2080.1651978%2C%2090.0%5D%2C%20%5B13.0227204%2C%2077.595715%2C%2080.0%5D%2C%20%5B22.8359967%2C%2069.3405962%2C%2080.0%5D%2C%20%5B23.1485712%2C%2081.6048241%2C%2076.0%5D%2C%20%5B15.8782951%2C%2074.5084834%2C%2063.0%5D%2C%20%5B13.0621474%2C%2077.58006135480495%2C%2053.0%5D%2C%20%5B13.2923988%2C%2077.7519261%2C%2048.0%5D%2C%20%5B13.0215466%2C%2077.7640586%2C%2044.0%5D%2C%20%5B11.9917786%2C%2076.5066292%2C%2038.0%5D%2C%20%5B12.945048%2C%2077.263004%2C%2034.0%5D%2C%20%5B12.957998%2C%2077.6037312%2C%2027.0%5D%2C%20%5B38.7801076%2C%20-121.5056438%2C%2027.0%5D%2C%20%5B12.3872141%2C%2076.6669626%2C%2022.0%5D%2C%20%5B13.194416%2C%2078.7011301%2C%2022.0%5D%2C%20%5B12.5607431%2C%2077.4258375%2C%2019.0%5D%2C%20%5B13.007516%2C%2077.695935%2C%2018.0%5D%2C%20%5B12.9055682%2C%2077.5455438%2C%2017.0%5D%2C%20%5B13.0382184%2C%2077.5919%2C%2014.0%5D%2C%20%5B13.0217151%2C%2077.7660547%2C%2014.0%5D%2C%20%5B12.9176571%2C%2077.4837568%2C%209.0%5D%2C%20%5B12.9546741%2C%2077.5121724%2C%209.0%5D%2C%20%5B13.0101286%2C%2077.5548006%2C%208.0%5D%2C%20%5B13.1006982%2C%2077.5963454%2C%206.0%5D%2C%20%5B12.9306281%2C%2077.5857408%2C%206.0%5D%2C%20%5B13.0784743%2C%2077.6068938%2C%203.0%5D%2C%20%5B12.9274413%2C%2077.5155224%2C%202.0%5D%2C%20%5B13.0329419%2C%2077.5273253%2C%201.0%5D%5D%3B%0A%20%20%20%20%20%20%20%20%20%20%20%20%20%20%20%20var%20cluster%20%3D%20L.markerClusterGroup%28%7B%22zoom%22%3A%2020%7D%29%3B%0A%0A%20%20%20%20%20%20%20%20%20%20%20%20%20%20%20%20for%20%28var%20i%20%3D%200%3B%20i%20%3C%20data.length%3B%20i%2B%2B%29%20%7B%0A%20%20%20%20%20%20%20%20%20%20%20%20%20%20%20%20%20%20%20%20var%20row%20%3D%20data%5Bi%5D%3B%0A%20%20%20%20%20%20%20%20%20%20%20%20%20%20%20%20%20%20%20%20var%20marker%20%3D%20callback%28row%29%3B%0A%20%20%20%20%20%20%20%20%20%20%20%20%20%20%20%20%20%20%20%20marker.addTo%28cluster%29%3B%0A%20%20%20%20%20%20%20%20%20%20%20%20%20%20%20%20%7D%0A%0A%20%20%20%20%20%20%20%20%20%20%20%20%20%20%20%20cluster.addTo%28map_e18cc7a6149247bda2a73d5c26829ade%29%3B%0A%20%20%20%20%20%20%20%20%20%20%20%20%20%20%20%20return%20cluster%3B%0A%20%20%20%20%20%20%20%20%20%20%20%20%7D%29%28%29%3B%0A%20%20%20%20%20%20%20%20%0A%20%20%20%20%0A%20%20%20%20%20%20%20%20%20%20%20%20var%20heat_map_c773c29cdb344827978ac9e9bb739fdf%20%3D%20L.heatLayer%28%0A%20%20%20%20%20%20%20%20%20%20%20%20%20%20%20%20%5B%5B45.95485055%2C%20-112.49659530324134%2C%203.296127669561143%5D%2C%20%5B15.8876779%2C%2075.7046777%2C%203.373291925465841%5D%2C%20%5B13.0141618%2C%2077.6518539%2C%203.3629258517034093%5D%2C%20%5B12.887979%2C%2077.5970812%2C%203.2716767371601234%5D%2C%20%5B12.9417261%2C%2077.5755021%2C%203.478184713375793%5D%2C%20%5B12.9932739%2C%2077.5388099%2C%203.445517241379311%5D%2C%20%5B12.93577245%2C%2077.66676103753434%2C%203.309833024118736%5D%2C%20%5B12.9089453%2C%2077.6239038%2C%202.92675159235669%5D%2C%20%5B40.28745%2C%20-76.964526%2C%203.5958487084870887%5D%2C%20%5B33.5935063%2C%20-79.0345627%2C%203.374698795180724%5D%2C%20%5B17.2510682%2C%2080.1651978%2C%203.215151515151515%5D%2C%20%5B13.0101286%2C%2077.5548006%2C%203.6250000000000004%5D%2C%20%5B51.373656%2C%20-0.1042366%2C%203.9630909090909086%5D%2C%20%5B39.76880625%2C%20-86.15345077251979%2C%203.4461538461538463%5D%2C%20%5B51.5173375%2C%20-0.073532%2C%203.109708737864077%5D%2C%20%5B31.89376%2C%20-88.066644%2C%203.901052631578944%5D%2C%20%5B12.9624669%2C%2077.6381958%2C%203.385547785547788%5D%2C%20%5B13.0215466%2C%2077.7640586%2C%203.2433333333333327%5D%2C%20%5B12.945245%2C%2077.6269144%2C%203.05472972972973%5D%2C%20%5B-6.271852%2C%20106.71337663408798%2C%203.0419087136929477%5D%2C%20%5B12.996845%2C%2077.6130165%2C%203.564878892733561%5D%2C%20%5B13.0358698%2C%2077.6323597%2C%203.279279279279278%5D%2C%20%5B18.1475%2C%2041.538889%2C%203.484069548872181%5D%2C%20%5B13.0382184%2C%2077.5919%2C%202.88%5D%2C%20%5B13.0258087%2C%2077.6305067%2C%203.0938931297709917%5D%2C%20%5B12.773175%2C%2077.7831871%2C%203.687837837837837%5D%2C%20%5B12.9876616%2C%2077.7369153%2C%203.3202380952380954%5D%2C%20%5B12.9732913%2C%2077.6404672%2C%203.6521694214876%5D%2C%20%5B34.977289%2C%20-78.974578%2C%203.796428571428575%5D%2C%20%5B12.2655944%2C%2076.6465404%2C%203.412925905895076%5D%2C%20%5B11.9917786%2C%2076.5066292%2C%203.4869565217391307%5D%2C%20%5B27.64392675%2C%2083.05280519687284%2C%203.615250291036089%5D%2C%20%5B12.9678074%2C%2077.6568367%2C%203.4297709923664126%5D%2C%20%5B13.007516%2C%2077.695935%2C%203.2181818181818183%5D%2C%20%5B12.9846713%2C%2077.6790908%2C%203.4736263736263737%5D%2C%20%5B13.0221416%2C%2077.6403368%2C%203.5291443850267377%5D%2C%20%5B13.0093455%2C%2077.6377094%2C%203.499809523809525%5D%2C%20%5B12.5607431%2C%2077.4258375%2C%203.478947368421052%5D%2C%20%5B12.9176571%2C%2077.4837568%2C%203.7222222222222223%5D%2C%20%5B13.2923988%2C%2077.7519261%2C%203.6064516129032267%5D%2C%20%5B12.9355425%2C%2077.6128717%2C%203.263937823834194%5D%2C%20%5B12.9243509%2C%2077.6255562%2C%203.545652173913042%5D%2C%20%5B12.9271867%2C%2077.6266252%2C%203.9787564766839405%5D%2C%20%5B12.93433385%2C%2077.63040639553275%2C%203.8143518518518587%5D%2C%20%5B12.9343774%2C%2077.628415%2C%203.901511969760601%5D%2C%20%5B12.9400321%2C%2077.6203272%2C%203.662466246624663%5D%2C%20%5B12.9334288%2C%2077.6309732%2C%203.7478420569329716%5D%2C%20%5B12.9417812%2C%2077.6160146%2C%203.607499999999995%5D%2C%20%5B12.9081487%2C%2077.5553179%2C%203.3202380952380954%5D%2C%20%5B12.957998%2C%2077.6037312%2C%203.8074074074074087%5D%2C%20%5B40.7652844%2C%20-76.373824%2C%204.04288577154309%5D%2C%20%5B16.5018813%2C%2080.6426257%2C%203.740550239234445%5D%2C%20%5B12.945048%2C%2077.263004%2C%203.4375000000000004%5D%2C%20%5B1.2847055%2C%20103.84320655721689%2C%203.294067796610167%5D%2C%20%5B13.0027353%2C%2077.5703253%2C%203.6682370820668657%5D%2C%20%5B12.9552572%2C%2077.6984163%2C%203.400532268795743%5D%2C%20%5B12.3872141%2C%2076.6669626%2C%203.4555555555555566%5D%2C%20%5B12.9546741%2C%2077.5121724%2C%203.4%5D%2C%20%5B13.2227%2C%2078.5541977%2C%203.3333333333333335%5D%2C%20%5B13.0346384%2C%2077.5681733%2C%203.583173996175911%5D%2C%20%5B13.0217151%2C%2077.7660547%2C%202.385714285714286%5D%2C%20%5B41.527815%2C%20-71.287155%2C%203.3891191709844577%5D%2C%20%5B13.194416%2C%2078.7011301%2C%203.1818181818181825%5D%2C%20%5B13.0329419%2C%2077.5273253%2C%203.2%5D%2C%20%5B13.0227204%2C%2077.595715%2C%203.278124999999999%5D%2C%20%5B31.4295008%2C%2073.0882481%2C%203.7270072992700722%5D%2C%20%5B12.9882338%2C%2077.554883%2C%203.422381930184803%5D%2C%20%5B12.9274413%2C%2077.5155224%2C%203.85%5D%2C%20%5B26.2660314%2C%2073.0265996%2C%203.8445723684210518%5D%2C%20%5B50.7721586%2C%200.09772783661369303%2C%203.6880126182965247%5D%2C%20%5B15.8782951%2C%2074.5084834%2C%203.839655172413795%5D%2C%20%5B13.0621474%2C%2077.58006135480495%2C%203.478723404255319%5D%2C%20%5B23.1485712%2C%2081.6048241%2C%203.3600000000000008%5D%2C%20%5B38.7801076%2C%20-121.5056438%2C%203.9653846153846155%5D%2C%20%5B12.9242381%2C%2077.6289059%2C%203.4735582154515736%5D%2C%20%5B12.9931876%2C%2077.5753419%2C%203.7049295774647875%5D%2C%20%5B22.478459%2C%2088.3541291%2C%203.323589743589747%5D%2C%20%5B18.5322493%2C%2073.8499601124847%2C%203.498916967509032%5D%2C%20%5B13.0646907%2C%2077.49626895712257%2C%203.419780219780221%5D%2C%20%5B51.5227651%2C%20-0.7354457%2C%204.0172011661807625%5D%2C%20%5B12.973936%2C%2077.6509982%2C%203.0953947368421058%5D%2C%20%5B12.9778793%2C%2077.6246697%2C%203.541398446170927%5D%2C%20%5B12.9055682%2C%2077.5455438%2C%203.511111111111111%5D%2C%20%5B12.9414662%2C%2077.7470942%2C%203.2989247311827947%5D%2C%20%5B12.988721250000001%2C%2077.58516877601824%2C%203.5809523809523807%5D%2C%20%5B22.8359967%2C%2069.3405962%2C%203.2492957746478885%5D%2C%20%5B12.9306281%2C%2077.5857408%2C%202.02%5D%2C%20%5B44.3730577%2C%20-71.6118577%2C%203.3841701122268155%5D%2C%20%5B12.9489339%2C%2077.5968273%2C%203.2576354679802924%5D%2C%20%5B13.1006982%2C%2077.5963454%2C%203.6399999999999997%5D%2C%20%5B13.02383%2C%2077.5529215%2C%203.5026785714285693%5D%5D%2C%0A%20%20%20%20%20%20%20%20%20%20%20%20%20%20%20%20%7B%22blur%22%3A%2015%2C%20%22maxZoom%22%3A%2018%2C%20%22minOpacity%22%3A%200.5%2C%20%22radius%22%3A%2015%2C%20%22zoom%22%3A%2020%7D%0A%20%20%20%20%20%20%20%20%20%20%20%20%29.addTo%28map_e18cc7a6149247bda2a73d5c26829ade%29%3B%0A%20%20%20%20%20%20%20%20%0A%3C/script%3E onload=\"this.contentDocument.open();this.contentDocument.write(    decodeURIComponent(this.getAttribute('data-html')));this.contentDocument.close();\" allowfullscreen webkitallowfullscreen mozallowfullscreen></iframe></div></div>"
      ],
      "text/plain": [
       "<folium.folium.Map at 0x22480d25148>"
      ]
     },
     "execution_count": 89,
     "metadata": {},
     "output_type": "execute_result"
    }
   ],
   "source": [
    "base_map"
   ]
  },
  {
   "cell_type": "markdown",
   "metadata": {},
   "source": [
    " ## heat map of south indian restaurants"
   ]
  },
  {
   "cell_type": "code",
   "execution_count": 90,
   "metadata": {},
   "outputs": [
    {
     "data": {
      "text/html": [
       "<div>\n",
       "<style scoped>\n",
       "    .dataframe tbody tr th:only-of-type {\n",
       "        vertical-align: middle;\n",
       "    }\n",
       "\n",
       "    .dataframe tbody tr th {\n",
       "        vertical-align: top;\n",
       "    }\n",
       "\n",
       "    .dataframe thead th {\n",
       "        text-align: right;\n",
       "    }\n",
       "</style>\n",
       "<table border=\"1\" class=\"dataframe\">\n",
       "  <thead>\n",
       "    <tr style=\"text-align: right;\">\n",
       "      <th></th>\n",
       "      <th>url</th>\n",
       "      <th>address</th>\n",
       "      <th>name</th>\n",
       "      <th>online_order</th>\n",
       "      <th>book_table</th>\n",
       "      <th>rate</th>\n",
       "      <th>votes</th>\n",
       "      <th>phone</th>\n",
       "      <th>location</th>\n",
       "      <th>rest_type</th>\n",
       "      <th>dish_liked</th>\n",
       "      <th>cuisines</th>\n",
       "      <th>approx_cost(for two people)</th>\n",
       "      <th>reviews_list</th>\n",
       "      <th>menu_item</th>\n",
       "      <th>listed_in(type)</th>\n",
       "      <th>listed_in(city)</th>\n",
       "      <th>rating</th>\n",
       "    </tr>\n",
       "  </thead>\n",
       "  <tbody>\n",
       "    <tr>\n",
       "      <th>0</th>\n",
       "      <td>https://www.zomato.com/bangalore/jalsa-banasha...</td>\n",
       "      <td>942, 21st Main Road, 2nd Stage, Banashankari, ...</td>\n",
       "      <td>Jalsa</td>\n",
       "      <td>Yes</td>\n",
       "      <td>Yes</td>\n",
       "      <td>4.1/5</td>\n",
       "      <td>775</td>\n",
       "      <td>080 42297555\\r\\n+91 9743772233</td>\n",
       "      <td>Banashankari</td>\n",
       "      <td>Casual Dining</td>\n",
       "      <td>Pasta, Lunch Buffet, Masala Papad, Paneer Laja...</td>\n",
       "      <td>North Indian, Mughlai, Chinese</td>\n",
       "      <td>800</td>\n",
       "      <td>[('Rated 4.0', 'RATED\\n  A beautiful place to ...</td>\n",
       "      <td>[]</td>\n",
       "      <td>Buffet</td>\n",
       "      <td>Banashankari</td>\n",
       "      <td>4.1</td>\n",
       "    </tr>\n",
       "    <tr>\n",
       "      <th>1</th>\n",
       "      <td>https://www.zomato.com/bangalore/spice-elephan...</td>\n",
       "      <td>2nd Floor, 80 Feet Road, Near Big Bazaar, 6th ...</td>\n",
       "      <td>Spice Elephant</td>\n",
       "      <td>Yes</td>\n",
       "      <td>No</td>\n",
       "      <td>4.1/5</td>\n",
       "      <td>787</td>\n",
       "      <td>080 41714161</td>\n",
       "      <td>Banashankari</td>\n",
       "      <td>Casual Dining</td>\n",
       "      <td>Momos, Lunch Buffet, Chocolate Nirvana, Thai G...</td>\n",
       "      <td>Chinese, North Indian, Thai</td>\n",
       "      <td>800</td>\n",
       "      <td>[('Rated 4.0', 'RATED\\n  Had been here for din...</td>\n",
       "      <td>[]</td>\n",
       "      <td>Buffet</td>\n",
       "      <td>Banashankari</td>\n",
       "      <td>4.1</td>\n",
       "    </tr>\n",
       "    <tr>\n",
       "      <th>2</th>\n",
       "      <td>https://www.zomato.com/SanchurroBangalore?cont...</td>\n",
       "      <td>1112, Next to KIMS Medical College, 17th Cross...</td>\n",
       "      <td>San Churro Cafe</td>\n",
       "      <td>Yes</td>\n",
       "      <td>No</td>\n",
       "      <td>3.8/5</td>\n",
       "      <td>918</td>\n",
       "      <td>+91 9663487993</td>\n",
       "      <td>Banashankari</td>\n",
       "      <td>Cafe, Casual Dining</td>\n",
       "      <td>Churros, Cannelloni, Minestrone Soup, Hot Choc...</td>\n",
       "      <td>Cafe, Mexican, Italian</td>\n",
       "      <td>800</td>\n",
       "      <td>[('Rated 3.0', \"RATED\\n  Ambience is not that ...</td>\n",
       "      <td>[]</td>\n",
       "      <td>Buffet</td>\n",
       "      <td>Banashankari</td>\n",
       "      <td>3.8</td>\n",
       "    </tr>\n",
       "    <tr>\n",
       "      <th>3</th>\n",
       "      <td>https://www.zomato.com/bangalore/addhuri-udupi...</td>\n",
       "      <td>1st Floor, Annakuteera, 3rd Stage, Banashankar...</td>\n",
       "      <td>Addhuri Udupi Bhojana</td>\n",
       "      <td>No</td>\n",
       "      <td>No</td>\n",
       "      <td>3.7/5</td>\n",
       "      <td>88</td>\n",
       "      <td>+91 9620009302</td>\n",
       "      <td>Banashankari</td>\n",
       "      <td>Quick Bites</td>\n",
       "      <td>Masala Dosa</td>\n",
       "      <td>South Indian, North Indian</td>\n",
       "      <td>300</td>\n",
       "      <td>[('Rated 4.0', \"RATED\\n  Great food and proper...</td>\n",
       "      <td>[]</td>\n",
       "      <td>Buffet</td>\n",
       "      <td>Banashankari</td>\n",
       "      <td>3.7</td>\n",
       "    </tr>\n",
       "    <tr>\n",
       "      <th>4</th>\n",
       "      <td>https://www.zomato.com/bangalore/grand-village...</td>\n",
       "      <td>10, 3rd Floor, Lakshmi Associates, Gandhi Baza...</td>\n",
       "      <td>Grand Village</td>\n",
       "      <td>No</td>\n",
       "      <td>No</td>\n",
       "      <td>3.8/5</td>\n",
       "      <td>166</td>\n",
       "      <td>+91 8026612447\\r\\n+91 9901210005</td>\n",
       "      <td>Basavanagudi</td>\n",
       "      <td>Casual Dining</td>\n",
       "      <td>Panipuri, Gol Gappe</td>\n",
       "      <td>North Indian, Rajasthani</td>\n",
       "      <td>600</td>\n",
       "      <td>[('Rated 4.0', 'RATED\\n  Very good restaurant ...</td>\n",
       "      <td>[]</td>\n",
       "      <td>Buffet</td>\n",
       "      <td>Banashankari</td>\n",
       "      <td>3.8</td>\n",
       "    </tr>\n",
       "  </tbody>\n",
       "</table>\n",
       "</div>"
      ],
      "text/plain": [
       "                                                 url  \\\n",
       "0  https://www.zomato.com/bangalore/jalsa-banasha...   \n",
       "1  https://www.zomato.com/bangalore/spice-elephan...   \n",
       "2  https://www.zomato.com/SanchurroBangalore?cont...   \n",
       "3  https://www.zomato.com/bangalore/addhuri-udupi...   \n",
       "4  https://www.zomato.com/bangalore/grand-village...   \n",
       "\n",
       "                                             address                   name  \\\n",
       "0  942, 21st Main Road, 2nd Stage, Banashankari, ...                  Jalsa   \n",
       "1  2nd Floor, 80 Feet Road, Near Big Bazaar, 6th ...         Spice Elephant   \n",
       "2  1112, Next to KIMS Medical College, 17th Cross...        San Churro Cafe   \n",
       "3  1st Floor, Annakuteera, 3rd Stage, Banashankar...  Addhuri Udupi Bhojana   \n",
       "4  10, 3rd Floor, Lakshmi Associates, Gandhi Baza...          Grand Village   \n",
       "\n",
       "  online_order book_table   rate  votes                             phone  \\\n",
       "0          Yes        Yes  4.1/5    775    080 42297555\\r\\n+91 9743772233   \n",
       "1          Yes         No  4.1/5    787                      080 41714161   \n",
       "2          Yes         No  3.8/5    918                    +91 9663487993   \n",
       "3           No         No  3.7/5     88                    +91 9620009302   \n",
       "4           No         No  3.8/5    166  +91 8026612447\\r\\n+91 9901210005   \n",
       "\n",
       "       location            rest_type  \\\n",
       "0  Banashankari        Casual Dining   \n",
       "1  Banashankari        Casual Dining   \n",
       "2  Banashankari  Cafe, Casual Dining   \n",
       "3  Banashankari          Quick Bites   \n",
       "4  Basavanagudi        Casual Dining   \n",
       "\n",
       "                                          dish_liked  \\\n",
       "0  Pasta, Lunch Buffet, Masala Papad, Paneer Laja...   \n",
       "1  Momos, Lunch Buffet, Chocolate Nirvana, Thai G...   \n",
       "2  Churros, Cannelloni, Minestrone Soup, Hot Choc...   \n",
       "3                                        Masala Dosa   \n",
       "4                                Panipuri, Gol Gappe   \n",
       "\n",
       "                         cuisines approx_cost(for two people)  \\\n",
       "0  North Indian, Mughlai, Chinese                         800   \n",
       "1     Chinese, North Indian, Thai                         800   \n",
       "2          Cafe, Mexican, Italian                         800   \n",
       "3      South Indian, North Indian                         300   \n",
       "4        North Indian, Rajasthani                         600   \n",
       "\n",
       "                                        reviews_list menu_item  \\\n",
       "0  [('Rated 4.0', 'RATED\\n  A beautiful place to ...        []   \n",
       "1  [('Rated 4.0', 'RATED\\n  Had been here for din...        []   \n",
       "2  [('Rated 3.0', \"RATED\\n  Ambience is not that ...        []   \n",
       "3  [('Rated 4.0', \"RATED\\n  Great food and proper...        []   \n",
       "4  [('Rated 4.0', 'RATED\\n  Very good restaurant ...        []   \n",
       "\n",
       "  listed_in(type) listed_in(city)  rating  \n",
       "0          Buffet    Banashankari     4.1  \n",
       "1          Buffet    Banashankari     4.1  \n",
       "2          Buffet    Banashankari     3.8  \n",
       "3          Buffet    Banashankari     3.7  \n",
       "4          Buffet    Banashankari     3.8  "
      ]
     },
     "execution_count": 90,
     "metadata": {},
     "output_type": "execute_result"
    }
   ],
   "source": [
    "df.head()"
   ]
  },
  {
   "cell_type": "code",
   "execution_count": 91,
   "metadata": {},
   "outputs": [
    {
     "data": {
      "text/html": [
       "<div>\n",
       "<style scoped>\n",
       "    .dataframe tbody tr th:only-of-type {\n",
       "        vertical-align: middle;\n",
       "    }\n",
       "\n",
       "    .dataframe tbody tr th {\n",
       "        vertical-align: top;\n",
       "    }\n",
       "\n",
       "    .dataframe thead th {\n",
       "        text-align: right;\n",
       "    }\n",
       "</style>\n",
       "<table border=\"1\" class=\"dataframe\">\n",
       "  <thead>\n",
       "    <tr style=\"text-align: right;\">\n",
       "      <th></th>\n",
       "      <th>url</th>\n",
       "      <th>address</th>\n",
       "      <th>name</th>\n",
       "      <th>online_order</th>\n",
       "      <th>book_table</th>\n",
       "      <th>rate</th>\n",
       "      <th>votes</th>\n",
       "      <th>phone</th>\n",
       "      <th>location</th>\n",
       "      <th>rest_type</th>\n",
       "      <th>dish_liked</th>\n",
       "      <th>cuisines</th>\n",
       "      <th>approx_cost(for two people)</th>\n",
       "      <th>reviews_list</th>\n",
       "      <th>menu_item</th>\n",
       "      <th>listed_in(type)</th>\n",
       "      <th>listed_in(city)</th>\n",
       "      <th>rating</th>\n",
       "    </tr>\n",
       "  </thead>\n",
       "  <tbody>\n",
       "    <tr>\n",
       "      <th>39</th>\n",
       "      <td>https://www.zomato.com/bangalore/maruthi-davan...</td>\n",
       "      <td>556/A, Water Tank Road, 3rd Stage, Banashankar...</td>\n",
       "      <td>Maruthi Davangere Benne Dosa</td>\n",
       "      <td>Yes</td>\n",
       "      <td>No</td>\n",
       "      <td>4.0/5</td>\n",
       "      <td>17</td>\n",
       "      <td>+91 9019563485</td>\n",
       "      <td>Banashankari</td>\n",
       "      <td>Quick Bites</td>\n",
       "      <td>NaN</td>\n",
       "      <td>South Indian</td>\n",
       "      <td>150</td>\n",
       "      <td>[('Rated 5.0', \"RATED\\n  This restaurant serve...</td>\n",
       "      <td>['Benne Dosa', 'Benne Masala Dosa', 'Benne Kal...</td>\n",
       "      <td>Delivery</td>\n",
       "      <td>Banashankari</td>\n",
       "      <td>4.0</td>\n",
       "    </tr>\n",
       "    <tr>\n",
       "      <th>41</th>\n",
       "      <td>https://www.zomato.com/bangalore/havyaka-mess-...</td>\n",
       "      <td>Opp Vinayaka hospital, Near Seetha Circle , 80...</td>\n",
       "      <td>Havyaka Mess</td>\n",
       "      <td>No</td>\n",
       "      <td>No</td>\n",
       "      <td>3.9/5</td>\n",
       "      <td>28</td>\n",
       "      <td>+91 9243195843\\r\\n+91 9243404670</td>\n",
       "      <td>Banashankari</td>\n",
       "      <td>Mess</td>\n",
       "      <td>NaN</td>\n",
       "      <td>South Indian</td>\n",
       "      <td>300</td>\n",
       "      <td>[('Rated 4.0', 'RATED\\n  Food is good.very hom...</td>\n",
       "      <td>[]</td>\n",
       "      <td>Delivery</td>\n",
       "      <td>Banashankari</td>\n",
       "      <td>3.9</td>\n",
       "    </tr>\n",
       "    <tr>\n",
       "      <th>66</th>\n",
       "      <td>https://www.zomato.com/bangalore/namma-brahmin...</td>\n",
       "      <td>30th Cross, 8th Main, Near Jain Temple, 4th Bl...</td>\n",
       "      <td>Namma Brahmin's Idli</td>\n",
       "      <td>Yes</td>\n",
       "      <td>No</td>\n",
       "      <td>3.6/5</td>\n",
       "      <td>34</td>\n",
       "      <td>+91 8310555879</td>\n",
       "      <td>Jayanagar</td>\n",
       "      <td>Quick Bites</td>\n",
       "      <td>NaN</td>\n",
       "      <td>South Indian</td>\n",
       "      <td>100</td>\n",
       "      <td>[('Rated 4.0', 'RATED\\n  Quite a cosy &amp; small ...</td>\n",
       "      <td>['Tatte Idli', 'Butter Idli', 'Butter Pudi Idl...</td>\n",
       "      <td>Delivery</td>\n",
       "      <td>Banashankari</td>\n",
       "      <td>3.6</td>\n",
       "    </tr>\n",
       "    <tr>\n",
       "      <th>76</th>\n",
       "      <td>https://www.zomato.com/bangalore/sri-guru-kott...</td>\n",
       "      <td>49/1, Subbaraoshetty Road, Netkallappa Circle,...</td>\n",
       "      <td>Sri Guru Kottureshwara Davangere Benne Dosa</td>\n",
       "      <td>Yes</td>\n",
       "      <td>No</td>\n",
       "      <td>4.1/5</td>\n",
       "      <td>558</td>\n",
       "      <td>+91 9448305384\\r\\n+91 9060079480</td>\n",
       "      <td>Basavanagudi</td>\n",
       "      <td>Quick Bites</td>\n",
       "      <td>Benne Dosa, Mirchi Bajji, Filter Coffee, Poha,...</td>\n",
       "      <td>South Indian</td>\n",
       "      <td>150</td>\n",
       "      <td>[('Rated 4.0', 'RATED\\n  My go-to benne dosa p...</td>\n",
       "      <td>['Benne Dose', 'Benne Kali Dose', 'Open Dose',...</td>\n",
       "      <td>Delivery</td>\n",
       "      <td>Banashankari</td>\n",
       "      <td>4.1</td>\n",
       "    </tr>\n",
       "    <tr>\n",
       "      <th>100</th>\n",
       "      <td>https://www.zomato.com/bangalore/kidambis-kitc...</td>\n",
       "      <td>2465, 3rd Floor, Opposite BDA Complex, 24th Cr...</td>\n",
       "      <td>Kidambi's Kitchen</td>\n",
       "      <td>No</td>\n",
       "      <td>No</td>\n",
       "      <td>3.5/5</td>\n",
       "      <td>52</td>\n",
       "      <td>080 42112211\\r\\n+91 9880412211</td>\n",
       "      <td>Banashankari</td>\n",
       "      <td>Quick Bites</td>\n",
       "      <td>Rooftop Ambience</td>\n",
       "      <td>South Indian</td>\n",
       "      <td>300</td>\n",
       "      <td>[('Rated 4.0', 'RATED\\n  If you are looking fo...</td>\n",
       "      <td>[]</td>\n",
       "      <td>Delivery</td>\n",
       "      <td>Banashankari</td>\n",
       "      <td>3.5</td>\n",
       "    </tr>\n",
       "  </tbody>\n",
       "</table>\n",
       "</div>"
      ],
      "text/plain": [
       "                                                   url  \\\n",
       "39   https://www.zomato.com/bangalore/maruthi-davan...   \n",
       "41   https://www.zomato.com/bangalore/havyaka-mess-...   \n",
       "66   https://www.zomato.com/bangalore/namma-brahmin...   \n",
       "76   https://www.zomato.com/bangalore/sri-guru-kott...   \n",
       "100  https://www.zomato.com/bangalore/kidambis-kitc...   \n",
       "\n",
       "                                               address  \\\n",
       "39   556/A, Water Tank Road, 3rd Stage, Banashankar...   \n",
       "41   Opp Vinayaka hospital, Near Seetha Circle , 80...   \n",
       "66   30th Cross, 8th Main, Near Jain Temple, 4th Bl...   \n",
       "76   49/1, Subbaraoshetty Road, Netkallappa Circle,...   \n",
       "100  2465, 3rd Floor, Opposite BDA Complex, 24th Cr...   \n",
       "\n",
       "                                            name online_order book_table  \\\n",
       "39                  Maruthi Davangere Benne Dosa          Yes         No   \n",
       "41                                  Havyaka Mess           No         No   \n",
       "66                          Namma Brahmin's Idli          Yes         No   \n",
       "76   Sri Guru Kottureshwara Davangere Benne Dosa          Yes         No   \n",
       "100                            Kidambi's Kitchen           No         No   \n",
       "\n",
       "      rate  votes                             phone      location  \\\n",
       "39   4.0/5     17                    +91 9019563485  Banashankari   \n",
       "41   3.9/5     28  +91 9243195843\\r\\n+91 9243404670  Banashankari   \n",
       "66   3.6/5     34                    +91 8310555879     Jayanagar   \n",
       "76   4.1/5    558  +91 9448305384\\r\\n+91 9060079480  Basavanagudi   \n",
       "100  3.5/5     52    080 42112211\\r\\n+91 9880412211  Banashankari   \n",
       "\n",
       "       rest_type                                         dish_liked  \\\n",
       "39   Quick Bites                                                NaN   \n",
       "41          Mess                                                NaN   \n",
       "66   Quick Bites                                                NaN   \n",
       "76   Quick Bites  Benne Dosa, Mirchi Bajji, Filter Coffee, Poha,...   \n",
       "100  Quick Bites                                   Rooftop Ambience   \n",
       "\n",
       "         cuisines approx_cost(for two people)  \\\n",
       "39   South Indian                         150   \n",
       "41   South Indian                         300   \n",
       "66   South Indian                         100   \n",
       "76   South Indian                         150   \n",
       "100  South Indian                         300   \n",
       "\n",
       "                                          reviews_list  \\\n",
       "39   [('Rated 5.0', \"RATED\\n  This restaurant serve...   \n",
       "41   [('Rated 4.0', 'RATED\\n  Food is good.very hom...   \n",
       "66   [('Rated 4.0', 'RATED\\n  Quite a cosy & small ...   \n",
       "76   [('Rated 4.0', 'RATED\\n  My go-to benne dosa p...   \n",
       "100  [('Rated 4.0', 'RATED\\n  If you are looking fo...   \n",
       "\n",
       "                                             menu_item listed_in(type)  \\\n",
       "39   ['Benne Dosa', 'Benne Masala Dosa', 'Benne Kal...        Delivery   \n",
       "41                                                  []        Delivery   \n",
       "66   ['Tatte Idli', 'Butter Idli', 'Butter Pudi Idl...        Delivery   \n",
       "76   ['Benne Dose', 'Benne Kali Dose', 'Open Dose',...        Delivery   \n",
       "100                                                 []        Delivery   \n",
       "\n",
       "    listed_in(city)  rating  \n",
       "39     Banashankari     4.0  \n",
       "41     Banashankari     3.9  \n",
       "66     Banashankari     3.6  \n",
       "76     Banashankari     4.1  \n",
       "100    Banashankari     3.5  "
      ]
     },
     "execution_count": 91,
     "metadata": {},
     "output_type": "execute_result"
    }
   ],
   "source": [
    "df2= df[df['cuisines']=='South Indian']\n",
    "df2.head()"
   ]
  },
  {
   "cell_type": "code",
   "execution_count": 92,
   "metadata": {},
   "outputs": [],
   "source": [
    "south_india=df2.groupby('location')['url'].count().reset_index()"
   ]
  },
  {
   "cell_type": "code",
   "execution_count": 93,
   "metadata": {},
   "outputs": [
    {
     "data": {
      "text/html": [
       "<div>\n",
       "<style scoped>\n",
       "    .dataframe tbody tr th:only-of-type {\n",
       "        vertical-align: middle;\n",
       "    }\n",
       "\n",
       "    .dataframe tbody tr th {\n",
       "        vertical-align: top;\n",
       "    }\n",
       "\n",
       "    .dataframe thead th {\n",
       "        text-align: right;\n",
       "    }\n",
       "</style>\n",
       "<table border=\"1\" class=\"dataframe\">\n",
       "  <thead>\n",
       "    <tr style=\"text-align: right;\">\n",
       "      <th></th>\n",
       "      <th>Name</th>\n",
       "      <th>count</th>\n",
       "    </tr>\n",
       "  </thead>\n",
       "  <tbody>\n",
       "    <tr>\n",
       "      <th>0</th>\n",
       "      <td>BTM</td>\n",
       "      <td>66</td>\n",
       "    </tr>\n",
       "    <tr>\n",
       "      <th>1</th>\n",
       "      <td>Banashankari</td>\n",
       "      <td>60</td>\n",
       "    </tr>\n",
       "    <tr>\n",
       "      <th>2</th>\n",
       "      <td>Banaswadi</td>\n",
       "      <td>27</td>\n",
       "    </tr>\n",
       "    <tr>\n",
       "      <th>3</th>\n",
       "      <td>Bannerghatta Road</td>\n",
       "      <td>24</td>\n",
       "    </tr>\n",
       "    <tr>\n",
       "      <th>4</th>\n",
       "      <td>Basavanagudi</td>\n",
       "      <td>86</td>\n",
       "    </tr>\n",
       "  </tbody>\n",
       "</table>\n",
       "</div>"
      ],
      "text/plain": [
       "                Name  count\n",
       "0                BTM     66\n",
       "1       Banashankari     60\n",
       "2          Banaswadi     27\n",
       "3  Bannerghatta Road     24\n",
       "4       Basavanagudi     86"
      ]
     },
     "execution_count": 93,
     "metadata": {},
     "output_type": "execute_result"
    }
   ],
   "source": [
    "south_india.columns=['Name','count']\n",
    "south_india.head()"
   ]
  },
  {
   "cell_type": "code",
   "execution_count": 94,
   "metadata": {},
   "outputs": [],
   "source": [
    "south_india=south_india.merge(locations,on=\"Name\",how='left').dropna()"
   ]
  },
  {
   "cell_type": "code",
   "execution_count": 95,
   "metadata": {},
   "outputs": [
    {
     "data": {
      "text/html": [
       "<div>\n",
       "<style scoped>\n",
       "    .dataframe tbody tr th:only-of-type {\n",
       "        vertical-align: middle;\n",
       "    }\n",
       "\n",
       "    .dataframe tbody tr th {\n",
       "        vertical-align: top;\n",
       "    }\n",
       "\n",
       "    .dataframe thead th {\n",
       "        text-align: right;\n",
       "    }\n",
       "</style>\n",
       "<table border=\"1\" class=\"dataframe\">\n",
       "  <thead>\n",
       "    <tr style=\"text-align: right;\">\n",
       "      <th></th>\n",
       "      <th>Name</th>\n",
       "      <th>count</th>\n",
       "      <th>lat</th>\n",
       "      <th>lon</th>\n",
       "    </tr>\n",
       "  </thead>\n",
       "  <tbody>\n",
       "    <tr>\n",
       "      <th>0</th>\n",
       "      <td>BTM</td>\n",
       "      <td>66</td>\n",
       "      <td>45.954851</td>\n",
       "      <td>-112.496595</td>\n",
       "    </tr>\n",
       "    <tr>\n",
       "      <th>1</th>\n",
       "      <td>Banashankari</td>\n",
       "      <td>60</td>\n",
       "      <td>15.887678</td>\n",
       "      <td>75.704678</td>\n",
       "    </tr>\n",
       "    <tr>\n",
       "      <th>2</th>\n",
       "      <td>Banaswadi</td>\n",
       "      <td>27</td>\n",
       "      <td>13.014162</td>\n",
       "      <td>77.651854</td>\n",
       "    </tr>\n",
       "    <tr>\n",
       "      <th>3</th>\n",
       "      <td>Bannerghatta Road</td>\n",
       "      <td>24</td>\n",
       "      <td>12.887979</td>\n",
       "      <td>77.597081</td>\n",
       "    </tr>\n",
       "    <tr>\n",
       "      <th>4</th>\n",
       "      <td>Basavanagudi</td>\n",
       "      <td>86</td>\n",
       "      <td>12.941726</td>\n",
       "      <td>77.575502</td>\n",
       "    </tr>\n",
       "  </tbody>\n",
       "</table>\n",
       "</div>"
      ],
      "text/plain": [
       "                Name  count        lat         lon\n",
       "0                BTM     66  45.954851 -112.496595\n",
       "1       Banashankari     60  15.887678   75.704678\n",
       "2          Banaswadi     27  13.014162   77.651854\n",
       "3  Bannerghatta Road     24  12.887979   77.597081\n",
       "4       Basavanagudi     86  12.941726   77.575502"
      ]
     },
     "execution_count": 95,
     "metadata": {},
     "output_type": "execute_result"
    }
   ],
   "source": [
    "south_india.head()"
   ]
  },
  {
   "cell_type": "code",
   "execution_count": 96,
   "metadata": {},
   "outputs": [
    {
     "data": {
      "text/html": [
       "<div style=\"width:100%;\"><div style=\"position:relative;width:100%;height:0;padding-bottom:60%;\"><span style=\"color:#565656\">Make this Notebook Trusted to load map: File -> Trust Notebook</span><iframe src=\"about:blank\" style=\"position:absolute;width:100%;height:100%;left:0;top:0;border:none !important;\" data-html=%3C%21DOCTYPE%20html%3E%0A%3Chead%3E%20%20%20%20%0A%20%20%20%20%3Cmeta%20http-equiv%3D%22content-type%22%20content%3D%22text/html%3B%20charset%3DUTF-8%22%20/%3E%0A%20%20%20%20%0A%20%20%20%20%20%20%20%20%3Cscript%3E%0A%20%20%20%20%20%20%20%20%20%20%20%20L_NO_TOUCH%20%3D%20false%3B%0A%20%20%20%20%20%20%20%20%20%20%20%20L_DISABLE_3D%20%3D%20false%3B%0A%20%20%20%20%20%20%20%20%3C/script%3E%0A%20%20%20%20%0A%20%20%20%20%3Cstyle%3Ehtml%2C%20body%20%7Bwidth%3A%20100%25%3Bheight%3A%20100%25%3Bmargin%3A%200%3Bpadding%3A%200%3B%7D%3C/style%3E%0A%20%20%20%20%3Cstyle%3E%23map%20%7Bposition%3Aabsolute%3Btop%3A0%3Bbottom%3A0%3Bright%3A0%3Bleft%3A0%3B%7D%3C/style%3E%0A%20%20%20%20%3Cscript%20src%3D%22https%3A//cdn.jsdelivr.net/npm/leaflet%401.6.0/dist/leaflet.js%22%3E%3C/script%3E%0A%20%20%20%20%3Cscript%20src%3D%22https%3A//code.jquery.com/jquery-1.12.4.min.js%22%3E%3C/script%3E%0A%20%20%20%20%3Cscript%20src%3D%22https%3A//maxcdn.bootstrapcdn.com/bootstrap/3.2.0/js/bootstrap.min.js%22%3E%3C/script%3E%0A%20%20%20%20%3Cscript%20src%3D%22https%3A//cdnjs.cloudflare.com/ajax/libs/Leaflet.awesome-markers/2.0.2/leaflet.awesome-markers.js%22%3E%3C/script%3E%0A%20%20%20%20%3Clink%20rel%3D%22stylesheet%22%20href%3D%22https%3A//cdn.jsdelivr.net/npm/leaflet%401.6.0/dist/leaflet.css%22/%3E%0A%20%20%20%20%3Clink%20rel%3D%22stylesheet%22%20href%3D%22https%3A//maxcdn.bootstrapcdn.com/bootstrap/3.2.0/css/bootstrap.min.css%22/%3E%0A%20%20%20%20%3Clink%20rel%3D%22stylesheet%22%20href%3D%22https%3A//maxcdn.bootstrapcdn.com/bootstrap/3.2.0/css/bootstrap-theme.min.css%22/%3E%0A%20%20%20%20%3Clink%20rel%3D%22stylesheet%22%20href%3D%22https%3A//maxcdn.bootstrapcdn.com/font-awesome/4.6.3/css/font-awesome.min.css%22/%3E%0A%20%20%20%20%3Clink%20rel%3D%22stylesheet%22%20href%3D%22https%3A//cdnjs.cloudflare.com/ajax/libs/Leaflet.awesome-markers/2.0.2/leaflet.awesome-markers.css%22/%3E%0A%20%20%20%20%3Clink%20rel%3D%22stylesheet%22%20href%3D%22https%3A//cdn.jsdelivr.net/gh/python-visualization/folium/folium/templates/leaflet.awesome.rotate.min.css%22/%3E%0A%20%20%20%20%0A%20%20%20%20%20%20%20%20%20%20%20%20%3Cmeta%20name%3D%22viewport%22%20content%3D%22width%3Ddevice-width%2C%0A%20%20%20%20%20%20%20%20%20%20%20%20%20%20%20%20initial-scale%3D1.0%2C%20maximum-scale%3D1.0%2C%20user-scalable%3Dno%22%20/%3E%0A%20%20%20%20%20%20%20%20%20%20%20%20%3Cstyle%3E%0A%20%20%20%20%20%20%20%20%20%20%20%20%20%20%20%20%23map_9a3638272fd64ea89b69d1d8c6ce2484%20%7B%0A%20%20%20%20%20%20%20%20%20%20%20%20%20%20%20%20%20%20%20%20position%3A%20relative%3B%0A%20%20%20%20%20%20%20%20%20%20%20%20%20%20%20%20%20%20%20%20width%3A%20100.0%25%3B%0A%20%20%20%20%20%20%20%20%20%20%20%20%20%20%20%20%20%20%20%20height%3A%20100.0%25%3B%0A%20%20%20%20%20%20%20%20%20%20%20%20%20%20%20%20%20%20%20%20left%3A%200.0%25%3B%0A%20%20%20%20%20%20%20%20%20%20%20%20%20%20%20%20%20%20%20%20top%3A%200.0%25%3B%0A%20%20%20%20%20%20%20%20%20%20%20%20%20%20%20%20%7D%0A%20%20%20%20%20%20%20%20%20%20%20%20%3C/style%3E%0A%20%20%20%20%20%20%20%20%0A%20%20%20%20%3Cscript%20src%3D%22https%3A//cdn.jsdelivr.net/gh/python-visualization/folium%40master/folium/templates/leaflet_heat.min.js%22%3E%3C/script%3E%0A%3C/head%3E%0A%3Cbody%3E%20%20%20%20%0A%20%20%20%20%0A%20%20%20%20%20%20%20%20%20%20%20%20%3Cdiv%20class%3D%22folium-map%22%20id%3D%22map_9a3638272fd64ea89b69d1d8c6ce2484%22%20%3E%3C/div%3E%0A%20%20%20%20%20%20%20%20%0A%3C/body%3E%0A%3Cscript%3E%20%20%20%20%0A%20%20%20%20%0A%20%20%20%20%20%20%20%20%20%20%20%20var%20map_9a3638272fd64ea89b69d1d8c6ce2484%20%3D%20L.map%28%0A%20%20%20%20%20%20%20%20%20%20%20%20%20%20%20%20%22map_9a3638272fd64ea89b69d1d8c6ce2484%22%2C%0A%20%20%20%20%20%20%20%20%20%20%20%20%20%20%20%20%7B%0A%20%20%20%20%20%20%20%20%20%20%20%20%20%20%20%20%20%20%20%20center%3A%20%5B12.97%2C%2077.59%5D%2C%0A%20%20%20%20%20%20%20%20%20%20%20%20%20%20%20%20%20%20%20%20crs%3A%20L.CRS.EPSG3857%2C%0A%20%20%20%20%20%20%20%20%20%20%20%20%20%20%20%20%20%20%20%20zoom%3A%2010%2C%0A%20%20%20%20%20%20%20%20%20%20%20%20%20%20%20%20%20%20%20%20zoomControl%3A%20true%2C%0A%20%20%20%20%20%20%20%20%20%20%20%20%20%20%20%20%20%20%20%20preferCanvas%3A%20false%2C%0A%20%20%20%20%20%20%20%20%20%20%20%20%20%20%20%20%20%20%20%20zoomDefault%3A%2012%2C%0A%20%20%20%20%20%20%20%20%20%20%20%20%20%20%20%20%7D%0A%20%20%20%20%20%20%20%20%20%20%20%20%29%3B%0A%0A%20%20%20%20%20%20%20%20%20%20%20%20%0A%0A%20%20%20%20%20%20%20%20%0A%20%20%20%20%0A%20%20%20%20%20%20%20%20%20%20%20%20var%20tile_layer_8d63ab5967564d9bad9779427fd410cd%20%3D%20L.tileLayer%28%0A%20%20%20%20%20%20%20%20%20%20%20%20%20%20%20%20%22https%3A//%7Bs%7D.tile.openstreetmap.org/%7Bz%7D/%7Bx%7D/%7By%7D.png%22%2C%0A%20%20%20%20%20%20%20%20%20%20%20%20%20%20%20%20%7B%22attribution%22%3A%20%22Data%20by%20%5Cu0026copy%3B%20%5Cu003ca%20href%3D%5C%22http%3A//openstreetmap.org%5C%22%5Cu003eOpenStreetMap%5Cu003c/a%5Cu003e%2C%20under%20%5Cu003ca%20href%3D%5C%22http%3A//www.openstreetmap.org/copyright%5C%22%5Cu003eODbL%5Cu003c/a%5Cu003e.%22%2C%20%22detectRetina%22%3A%20false%2C%20%22maxNativeZoom%22%3A%2018%2C%20%22maxZoom%22%3A%2018%2C%20%22minZoom%22%3A%200%2C%20%22noWrap%22%3A%20false%2C%20%22opacity%22%3A%201%2C%20%22subdomains%22%3A%20%22abc%22%2C%20%22tms%22%3A%20false%7D%0A%20%20%20%20%20%20%20%20%20%20%20%20%29.addTo%28map_9a3638272fd64ea89b69d1d8c6ce2484%29%3B%0A%20%20%20%20%20%20%20%20%0A%20%20%20%20%0A%20%20%20%20%20%20%20%20%20%20%20%20var%20heat_map_455e905a29d34ababca5636ab2ee71ec%20%3D%20L.heatLayer%28%0A%20%20%20%20%20%20%20%20%20%20%20%20%20%20%20%20%5B%5B45.95485055%2C%20-112.49659530324134%2C%2066.0%5D%2C%20%5B15.8876779%2C%2075.7046777%2C%2060.0%5D%2C%20%5B13.0141618%2C%2077.6518539%2C%2027.0%5D%2C%20%5B12.887979%2C%2077.5970812%2C%2024.0%5D%2C%20%5B12.9417261%2C%2077.5755021%2C%2086.0%5D%2C%20%5B12.9932739%2C%2077.5388099%2C%206.0%5D%2C%20%5B12.93577245%2C%2077.66676103753434%2C%2022.0%5D%2C%20%5B12.9089453%2C%2077.6239038%2C%202.0%5D%2C%20%5B40.28745%2C%20-76.964526%2C%2012.0%5D%2C%20%5B33.5935063%2C%20-79.0345627%2C%2024.0%5D%2C%20%5B17.2510682%2C%2080.1651978%2C%202.0%5D%2C%20%5B51.373656%2C%20-0.1042366%2C%205.0%5D%2C%20%5B39.76880625%2C%20-86.15345077251979%2C%2011.0%5D%2C%20%5B51.5164765%2C%20-0.0728317%2C%2024.0%5D%2C%20%5B12.9624669%2C%2077.6381958%2C%2011.0%5D%2C%20%5B12.945245%2C%2077.6269144%2C%208.0%5D%2C%20%5B-6.271852%2C%20106.71337663408798%2C%2027.0%5D%2C%20%5B12.996845%2C%2077.6130165%2C%2037.0%5D%2C%20%5B18.1475%2C%2041.538889%2C%2058.0%5D%2C%20%5B13.0258087%2C%2077.6305067%2C%202.0%5D%2C%20%5B12.9876616%2C%2077.7369153%2C%206.0%5D%2C%20%5B12.9732913%2C%2077.6404672%2C%2041.0%5D%2C%20%5B12.2655944%2C%2076.6465404%2C%2053.0%5D%2C%20%5B11.9917786%2C%2076.5066292%2C%201.0%5D%2C%20%5B27.64392675%2C%2083.05280519687284%2C%2094.0%5D%2C%20%5B12.9678074%2C%2077.6568367%2C%2010.0%5D%2C%20%5B12.9846713%2C%2077.6790908%2C%206.0%5D%2C%20%5B13.0221416%2C%2077.6403368%2C%2012.0%5D%2C%20%5B13.0093455%2C%2077.6377094%2C%2020.0%5D%2C%20%5B12.5607431%2C%2077.4258375%2C%201.0%5D%2C%20%5B12.9355425%2C%2077.6128717%2C%205.0%5D%2C%20%5B12.9243509%2C%2077.6255562%2C%2010.0%5D%2C%20%5B12.93433385%2C%2077.63040639553275%2C%204.0%5D%2C%20%5B12.9343774%2C%2077.628415%2C%2015.0%5D%2C%20%5B12.9400321%2C%2077.6203272%2C%2045.0%5D%2C%20%5B12.9334288%2C%2077.6309732%2C%2011.0%5D%2C%20%5B12.9417812%2C%2077.6160146%2C%203.0%5D%2C%20%5B12.9081487%2C%2077.5553179%2C%204.0%5D%2C%20%5B16.5018813%2C%2080.6426257%2C%2015.0%5D%2C%20%5B12.945048%2C%2077.263004%2C%202.0%5D%2C%20%5B1.2847055%2C%20103.84320655721689%2C%2026.0%5D%2C%20%5B13.0027353%2C%2077.5703253%2C%2059.0%5D%2C%20%5B12.9552572%2C%2077.6984163%2C%2030.0%5D%2C%20%5B12.3872141%2C%2076.6669626%2C%206.0%5D%2C%20%5B13.2227%2C%2078.5541977%2C%207.0%5D%2C%20%5B13.0346384%2C%2077.5681733%2C%2012.0%5D%2C%20%5B41.527815%2C%20-71.287155%2C%203.0%5D%2C%20%5B13.0227204%2C%2077.595715%2C%201.0%5D%2C%20%5B31.4295008%2C%2073.0882481%2C%209.0%5D%2C%20%5B12.9882338%2C%2077.554883%2C%2041.0%5D%2C%20%5B50.7721586%2C%200.09772783661369303%2C%2024.0%5D%2C%20%5B15.8782951%2C%2074.5084834%2C%204.0%5D%2C%20%5B13.0621474%2C%2077.58006135480495%2C%204.0%5D%2C%20%5B23.1485712%2C%2081.6048241%2C%205.0%5D%2C%20%5B38.7801076%2C%20-121.5056438%2C%201.0%5D%2C%20%5B12.9242381%2C%2077.6289059%2C%2022.0%5D%2C%20%5B12.9931876%2C%2077.5753419%2C%203.0%5D%2C%20%5B22.478459%2C%2088.3541291%2C%2029.0%5D%2C%20%5B18.5322493%2C%2073.8499601124847%2C%2054.0%5D%2C%20%5B51.5227651%2C%20-0.7354457%2C%205.0%5D%2C%20%5B12.973936%2C%2077.6509982%2C%204.0%5D%2C%20%5B12.9778793%2C%2077.6246697%2C%2019.0%5D%2C%20%5B12.9414662%2C%2077.7470942%2C%208.0%5D%2C%20%5B12.988721250000001%2C%2077.58516877601824%2C%209.0%5D%2C%20%5B22.8359967%2C%2069.3405962%2C%208.0%5D%2C%20%5B44.3730577%2C%20-71.6118577%2C%2036.0%5D%2C%20%5B12.9489339%2C%2077.5968273%2C%2015.0%5D%2C%20%5B13.02383%2C%2077.5529215%2C%202.0%5D%5D%2C%0A%20%20%20%20%20%20%20%20%20%20%20%20%20%20%20%20%7B%22blur%22%3A%2015%2C%20%22maxZoom%22%3A%2018%2C%20%22minOpacity%22%3A%200.5%2C%20%22radius%22%3A%2015%2C%20%22zoom%22%3A%2020%7D%0A%20%20%20%20%20%20%20%20%20%20%20%20%29.addTo%28map_9a3638272fd64ea89b69d1d8c6ce2484%29%3B%0A%20%20%20%20%20%20%20%20%0A%3C/script%3E onload=\"this.contentDocument.open();this.contentDocument.write(    decodeURIComponent(this.getAttribute('data-html')));this.contentDocument.close();\" allowfullscreen webkitallowfullscreen mozallowfullscreen></iframe></div></div>"
      ],
      "text/plain": [
       "<folium.folium.Map at 0x22497076908>"
      ]
     },
     "execution_count": 96,
     "metadata": {},
     "output_type": "execute_result"
    }
   ],
   "source": [
    "basemap=generateBaseMap()\n",
    "HeatMap(south_india[['lat','lon','count']].values.tolist(),zoom=20,radius=15).add_to(basemap)\n",
    "basemap"
   ]
  },
  {
   "cell_type": "code",
   "execution_count": null,
   "metadata": {},
   "outputs": [],
   "source": []
  },
  {
   "cell_type": "code",
   "execution_count": null,
   "metadata": {},
   "outputs": [],
   "source": []
  },
  {
   "cell_type": "code",
   "execution_count": 98,
   "metadata": {},
   "outputs": [],
   "source": [
    "def Heatmap_Zone(zone):\n",
    "    df3=df[df['cuisines']==zone]\n",
    "    df_zone=df3.groupby(['location'],as_index=False)['url'].agg('count')\n",
    "    df_zone.columns=['Name','count']\n",
    "    df_zone=df_zone.merge(locations,on=\"Name\",how='left').dropna()\n",
    "    basemap=generateBaseMap()\n",
    "    HeatMap(df_zone[['lat','lon','count']].values.tolist(),zoom=20,radius=15).add_to(basemap)\n",
    "    return basemap"
   ]
  },
  {
   "cell_type": "code",
   "execution_count": 99,
   "metadata": {},
   "outputs": [
    {
     "data": {
      "text/plain": [
       "array(['North Indian, Mughlai, Chinese', 'Chinese, North Indian, Thai',\n",
       "       'Cafe, Mexican, Italian', ..., 'Tibetan, Nepalese',\n",
       "       'North Indian, Street Food, Biryani',\n",
       "       'North Indian, Chinese, Arabian, Momos'], dtype=object)"
      ]
     },
     "execution_count": 99,
     "metadata": {},
     "output_type": "execute_result"
    }
   ],
   "source": [
    "df['cuisines'].unique()"
   ]
  },
  {
   "cell_type": "code",
   "execution_count": 100,
   "metadata": {},
   "outputs": [
    {
     "data": {
      "text/html": [
       "<div style=\"width:100%;\"><div style=\"position:relative;width:100%;height:0;padding-bottom:60%;\"><span style=\"color:#565656\">Make this Notebook Trusted to load map: File -> Trust Notebook</span><iframe src=\"about:blank\" style=\"position:absolute;width:100%;height:100%;left:0;top:0;border:none !important;\" data-html=%3C%21DOCTYPE%20html%3E%0A%3Chead%3E%20%20%20%20%0A%20%20%20%20%3Cmeta%20http-equiv%3D%22content-type%22%20content%3D%22text/html%3B%20charset%3DUTF-8%22%20/%3E%0A%20%20%20%20%0A%20%20%20%20%20%20%20%20%3Cscript%3E%0A%20%20%20%20%20%20%20%20%20%20%20%20L_NO_TOUCH%20%3D%20false%3B%0A%20%20%20%20%20%20%20%20%20%20%20%20L_DISABLE_3D%20%3D%20false%3B%0A%20%20%20%20%20%20%20%20%3C/script%3E%0A%20%20%20%20%0A%20%20%20%20%3Cstyle%3Ehtml%2C%20body%20%7Bwidth%3A%20100%25%3Bheight%3A%20100%25%3Bmargin%3A%200%3Bpadding%3A%200%3B%7D%3C/style%3E%0A%20%20%20%20%3Cstyle%3E%23map%20%7Bposition%3Aabsolute%3Btop%3A0%3Bbottom%3A0%3Bright%3A0%3Bleft%3A0%3B%7D%3C/style%3E%0A%20%20%20%20%3Cscript%20src%3D%22https%3A//cdn.jsdelivr.net/npm/leaflet%401.6.0/dist/leaflet.js%22%3E%3C/script%3E%0A%20%20%20%20%3Cscript%20src%3D%22https%3A//code.jquery.com/jquery-1.12.4.min.js%22%3E%3C/script%3E%0A%20%20%20%20%3Cscript%20src%3D%22https%3A//maxcdn.bootstrapcdn.com/bootstrap/3.2.0/js/bootstrap.min.js%22%3E%3C/script%3E%0A%20%20%20%20%3Cscript%20src%3D%22https%3A//cdnjs.cloudflare.com/ajax/libs/Leaflet.awesome-markers/2.0.2/leaflet.awesome-markers.js%22%3E%3C/script%3E%0A%20%20%20%20%3Clink%20rel%3D%22stylesheet%22%20href%3D%22https%3A//cdn.jsdelivr.net/npm/leaflet%401.6.0/dist/leaflet.css%22/%3E%0A%20%20%20%20%3Clink%20rel%3D%22stylesheet%22%20href%3D%22https%3A//maxcdn.bootstrapcdn.com/bootstrap/3.2.0/css/bootstrap.min.css%22/%3E%0A%20%20%20%20%3Clink%20rel%3D%22stylesheet%22%20href%3D%22https%3A//maxcdn.bootstrapcdn.com/bootstrap/3.2.0/css/bootstrap-theme.min.css%22/%3E%0A%20%20%20%20%3Clink%20rel%3D%22stylesheet%22%20href%3D%22https%3A//maxcdn.bootstrapcdn.com/font-awesome/4.6.3/css/font-awesome.min.css%22/%3E%0A%20%20%20%20%3Clink%20rel%3D%22stylesheet%22%20href%3D%22https%3A//cdnjs.cloudflare.com/ajax/libs/Leaflet.awesome-markers/2.0.2/leaflet.awesome-markers.css%22/%3E%0A%20%20%20%20%3Clink%20rel%3D%22stylesheet%22%20href%3D%22https%3A//cdn.jsdelivr.net/gh/python-visualization/folium/folium/templates/leaflet.awesome.rotate.min.css%22/%3E%0A%20%20%20%20%0A%20%20%20%20%20%20%20%20%20%20%20%20%3Cmeta%20name%3D%22viewport%22%20content%3D%22width%3Ddevice-width%2C%0A%20%20%20%20%20%20%20%20%20%20%20%20%20%20%20%20initial-scale%3D1.0%2C%20maximum-scale%3D1.0%2C%20user-scalable%3Dno%22%20/%3E%0A%20%20%20%20%20%20%20%20%20%20%20%20%3Cstyle%3E%0A%20%20%20%20%20%20%20%20%20%20%20%20%20%20%20%20%23map_ebc060c1820d4d0e95da66c2bee800e6%20%7B%0A%20%20%20%20%20%20%20%20%20%20%20%20%20%20%20%20%20%20%20%20position%3A%20relative%3B%0A%20%20%20%20%20%20%20%20%20%20%20%20%20%20%20%20%20%20%20%20width%3A%20100.0%25%3B%0A%20%20%20%20%20%20%20%20%20%20%20%20%20%20%20%20%20%20%20%20height%3A%20100.0%25%3B%0A%20%20%20%20%20%20%20%20%20%20%20%20%20%20%20%20%20%20%20%20left%3A%200.0%25%3B%0A%20%20%20%20%20%20%20%20%20%20%20%20%20%20%20%20%20%20%20%20top%3A%200.0%25%3B%0A%20%20%20%20%20%20%20%20%20%20%20%20%20%20%20%20%7D%0A%20%20%20%20%20%20%20%20%20%20%20%20%3C/style%3E%0A%20%20%20%20%20%20%20%20%0A%20%20%20%20%3Cscript%20src%3D%22https%3A//cdn.jsdelivr.net/gh/python-visualization/folium%40master/folium/templates/leaflet_heat.min.js%22%3E%3C/script%3E%0A%3C/head%3E%0A%3Cbody%3E%20%20%20%20%0A%20%20%20%20%0A%20%20%20%20%20%20%20%20%20%20%20%20%3Cdiv%20class%3D%22folium-map%22%20id%3D%22map_ebc060c1820d4d0e95da66c2bee800e6%22%20%3E%3C/div%3E%0A%20%20%20%20%20%20%20%20%0A%3C/body%3E%0A%3Cscript%3E%20%20%20%20%0A%20%20%20%20%0A%20%20%20%20%20%20%20%20%20%20%20%20var%20map_ebc060c1820d4d0e95da66c2bee800e6%20%3D%20L.map%28%0A%20%20%20%20%20%20%20%20%20%20%20%20%20%20%20%20%22map_ebc060c1820d4d0e95da66c2bee800e6%22%2C%0A%20%20%20%20%20%20%20%20%20%20%20%20%20%20%20%20%7B%0A%20%20%20%20%20%20%20%20%20%20%20%20%20%20%20%20%20%20%20%20center%3A%20%5B12.97%2C%2077.59%5D%2C%0A%20%20%20%20%20%20%20%20%20%20%20%20%20%20%20%20%20%20%20%20crs%3A%20L.CRS.EPSG3857%2C%0A%20%20%20%20%20%20%20%20%20%20%20%20%20%20%20%20%20%20%20%20zoom%3A%2010%2C%0A%20%20%20%20%20%20%20%20%20%20%20%20%20%20%20%20%20%20%20%20zoomControl%3A%20true%2C%0A%20%20%20%20%20%20%20%20%20%20%20%20%20%20%20%20%20%20%20%20preferCanvas%3A%20false%2C%0A%20%20%20%20%20%20%20%20%20%20%20%20%20%20%20%20%20%20%20%20zoomDefault%3A%2012%2C%0A%20%20%20%20%20%20%20%20%20%20%20%20%20%20%20%20%7D%0A%20%20%20%20%20%20%20%20%20%20%20%20%29%3B%0A%0A%20%20%20%20%20%20%20%20%20%20%20%20%0A%0A%20%20%20%20%20%20%20%20%0A%20%20%20%20%0A%20%20%20%20%20%20%20%20%20%20%20%20var%20tile_layer_40daecca5a294bf19759e7eabc477983%20%3D%20L.tileLayer%28%0A%20%20%20%20%20%20%20%20%20%20%20%20%20%20%20%20%22https%3A//%7Bs%7D.tile.openstreetmap.org/%7Bz%7D/%7Bx%7D/%7By%7D.png%22%2C%0A%20%20%20%20%20%20%20%20%20%20%20%20%20%20%20%20%7B%22attribution%22%3A%20%22Data%20by%20%5Cu0026copy%3B%20%5Cu003ca%20href%3D%5C%22http%3A//openstreetmap.org%5C%22%5Cu003eOpenStreetMap%5Cu003c/a%5Cu003e%2C%20under%20%5Cu003ca%20href%3D%5C%22http%3A//www.openstreetmap.org/copyright%5C%22%5Cu003eODbL%5Cu003c/a%5Cu003e.%22%2C%20%22detectRetina%22%3A%20false%2C%20%22maxNativeZoom%22%3A%2018%2C%20%22maxZoom%22%3A%2018%2C%20%22minZoom%22%3A%200%2C%20%22noWrap%22%3A%20false%2C%20%22opacity%22%3A%201%2C%20%22subdomains%22%3A%20%22abc%22%2C%20%22tms%22%3A%20false%7D%0A%20%20%20%20%20%20%20%20%20%20%20%20%29.addTo%28map_ebc060c1820d4d0e95da66c2bee800e6%29%3B%0A%20%20%20%20%20%20%20%20%0A%20%20%20%20%0A%20%20%20%20%20%20%20%20%20%20%20%20var%20heat_map_864ab953e5364c6f9ac65a07a0e26898%20%3D%20L.heatLayer%28%0A%20%20%20%20%20%20%20%20%20%20%20%20%20%20%20%20%5B%5B45.95485055%2C%20-112.49659530324134%2C%20274.0%5D%2C%20%5B15.8876779%2C%2075.7046777%2C%2035.0%5D%2C%20%5B13.0141618%2C%2077.6518539%2C%209.0%5D%2C%20%5B12.887979%2C%2077.5970812%2C%2060.0%5D%2C%20%5B12.9417261%2C%2077.5755021%2C%2017.0%5D%2C%20%5B12.9932739%2C%2077.5388099%2C%201.0%5D%2C%20%5B12.93577245%2C%2077.66676103753434%2C%20131.0%5D%2C%20%5B12.9089453%2C%2077.6239038%2C%206.0%5D%2C%20%5B40.28745%2C%20-76.964526%2C%2039.0%5D%2C%20%5B33.5935063%2C%20-79.0345627%2C%2042.0%5D%2C%20%5B17.2510682%2C%2080.1651978%2C%209.0%5D%2C%20%5B51.373656%2C%20-0.1042366%2C%2029.0%5D%2C%20%5B51.5164765%2C%20-0.0728317%2C%2011.0%5D%2C%20%5B12.9624669%2C%2077.6381958%2C%2029.0%5D%2C%20%5B13.0215466%2C%2077.7640586%2C%202.0%5D%2C%20%5B12.945245%2C%2077.6269144%2C%2036.0%5D%2C%20%5B-6.271852%2C%20106.71337663408798%2C%2046.0%5D%2C%20%5B12.996845%2C%2077.6130165%2C%2027.0%5D%2C%20%5B13.0358698%2C%2077.6323597%2C%204.0%5D%2C%20%5B18.1475%2C%2041.538889%2C%20131.0%5D%2C%20%5B13.0258087%2C%2077.6305067%2C%202.0%5D%2C%20%5B12.773175%2C%2077.7831871%2C%208.0%5D%2C%20%5B12.9876616%2C%2077.7369153%2C%208.0%5D%2C%20%5B12.9732913%2C%2077.6404672%2C%2085.0%5D%2C%20%5B12.2655944%2C%2076.6465404%2C%20135.0%5D%2C%20%5B27.64392675%2C%2083.05280519687284%2C%2025.0%5D%2C%20%5B12.9678074%2C%2077.6568367%2C%2022.0%5D%2C%20%5B12.9846713%2C%2077.6790908%2C%205.0%5D%2C%20%5B13.0221416%2C%2077.6403368%2C%2030.0%5D%2C%20%5B13.0093455%2C%2077.6377094%2C%206.0%5D%2C%20%5B12.9355425%2C%2077.6128717%2C%20106.0%5D%2C%20%5B12.9271867%2C%2077.6266252%2C%206.0%5D%2C%20%5B12.93433385%2C%2077.63040639553275%2C%2054.0%5D%2C%20%5B12.9343774%2C%2077.628415%2C%2038.0%5D%2C%20%5B12.9400321%2C%2077.6203272%2C%2045.0%5D%2C%20%5B12.9334288%2C%2077.6309732%2C%2098.0%5D%2C%20%5B12.9417812%2C%2077.6160146%2C%2010.0%5D%2C%20%5B12.9081487%2C%2077.5553179%2C%2021.0%5D%2C%20%5B16.5018813%2C%2080.6426257%2C%2022.0%5D%2C%20%5B1.2847055%2C%20103.84320655721689%2C%204.0%5D%2C%20%5B13.0027353%2C%2077.5703253%2C%2016.0%5D%2C%20%5B12.9552572%2C%2077.6984163%2C%20109.0%5D%2C%20%5B13.2227%2C%2078.5541977%2C%207.0%5D%2C%20%5B13.0346384%2C%2077.5681733%2C%2023.0%5D%2C%20%5B13.0217151%2C%2077.7660547%2C%201.0%5D%2C%20%5B41.527815%2C%20-71.287155%2C%2015.0%5D%2C%20%5B13.0227204%2C%2077.595715%2C%202.0%5D%2C%20%5B12.9882338%2C%2077.554883%2C%2012.0%5D%2C%20%5B26.2660314%2C%2073.0265996%2C%2019.0%5D%2C%20%5B50.7721586%2C%200.09772783661369303%2C%2036.0%5D%2C%20%5B15.8782951%2C%2074.5084834%2C%205.0%5D%2C%20%5B23.1485712%2C%2081.6048241%2C%203.0%5D%2C%20%5B38.7801076%2C%20-121.5056438%2C%203.0%5D%2C%20%5B12.9242381%2C%2077.6289059%2C%2050.0%5D%2C%20%5B12.9931876%2C%2077.5753419%2C%206.0%5D%2C%20%5B22.478459%2C%2088.3541291%2C%2034.0%5D%2C%20%5B18.5322493%2C%2073.8499601124847%2C%2012.0%5D%2C%20%5B12.973936%2C%2077.6509982%2C%2013.0%5D%2C%20%5B12.9778793%2C%2077.6246697%2C%2057.0%5D%2C%20%5B12.9414662%2C%2077.7470942%2C%203.0%5D%2C%20%5B12.988721250000001%2C%2077.58516877601824%2C%2012.0%5D%2C%20%5B44.3730577%2C%20-71.6118577%2C%20148.0%5D%2C%20%5B12.9489339%2C%2077.5968273%2C%2037.0%5D%2C%20%5B13.02383%2C%2077.5529215%2C%203.0%5D%5D%2C%0A%20%20%20%20%20%20%20%20%20%20%20%20%20%20%20%20%7B%22blur%22%3A%2015%2C%20%22maxZoom%22%3A%2018%2C%20%22minOpacity%22%3A%200.5%2C%20%22radius%22%3A%2015%2C%20%22zoom%22%3A%2020%7D%0A%20%20%20%20%20%20%20%20%20%20%20%20%29.addTo%28map_ebc060c1820d4d0e95da66c2bee800e6%29%3B%0A%20%20%20%20%20%20%20%20%0A%3C/script%3E onload=\"this.contentDocument.open();this.contentDocument.write(    decodeURIComponent(this.getAttribute('data-html')));this.contentDocument.close();\" allowfullscreen webkitallowfullscreen mozallowfullscreen></iframe></div></div>"
      ],
      "text/plain": [
       "<folium.folium.Map at 0x2249707f688>"
      ]
     },
     "execution_count": 100,
     "metadata": {},
     "output_type": "execute_result"
    }
   ],
   "source": [
    "Heatmap_Zone('North Indian')"
   ]
  },
  {
   "cell_type": "code",
   "execution_count": 101,
   "metadata": {},
   "outputs": [
    {
     "data": {
      "text/html": [
       "<div style=\"width:100%;\"><div style=\"position:relative;width:100%;height:0;padding-bottom:60%;\"><span style=\"color:#565656\">Make this Notebook Trusted to load map: File -> Trust Notebook</span><iframe src=\"about:blank\" style=\"position:absolute;width:100%;height:100%;left:0;top:0;border:none !important;\" data-html=%3C%21DOCTYPE%20html%3E%0A%3Chead%3E%20%20%20%20%0A%20%20%20%20%3Cmeta%20http-equiv%3D%22content-type%22%20content%3D%22text/html%3B%20charset%3DUTF-8%22%20/%3E%0A%20%20%20%20%0A%20%20%20%20%20%20%20%20%3Cscript%3E%0A%20%20%20%20%20%20%20%20%20%20%20%20L_NO_TOUCH%20%3D%20false%3B%0A%20%20%20%20%20%20%20%20%20%20%20%20L_DISABLE_3D%20%3D%20false%3B%0A%20%20%20%20%20%20%20%20%3C/script%3E%0A%20%20%20%20%0A%20%20%20%20%3Cstyle%3Ehtml%2C%20body%20%7Bwidth%3A%20100%25%3Bheight%3A%20100%25%3Bmargin%3A%200%3Bpadding%3A%200%3B%7D%3C/style%3E%0A%20%20%20%20%3Cstyle%3E%23map%20%7Bposition%3Aabsolute%3Btop%3A0%3Bbottom%3A0%3Bright%3A0%3Bleft%3A0%3B%7D%3C/style%3E%0A%20%20%20%20%3Cscript%20src%3D%22https%3A//cdn.jsdelivr.net/npm/leaflet%401.6.0/dist/leaflet.js%22%3E%3C/script%3E%0A%20%20%20%20%3Cscript%20src%3D%22https%3A//code.jquery.com/jquery-1.12.4.min.js%22%3E%3C/script%3E%0A%20%20%20%20%3Cscript%20src%3D%22https%3A//maxcdn.bootstrapcdn.com/bootstrap/3.2.0/js/bootstrap.min.js%22%3E%3C/script%3E%0A%20%20%20%20%3Cscript%20src%3D%22https%3A//cdnjs.cloudflare.com/ajax/libs/Leaflet.awesome-markers/2.0.2/leaflet.awesome-markers.js%22%3E%3C/script%3E%0A%20%20%20%20%3Clink%20rel%3D%22stylesheet%22%20href%3D%22https%3A//cdn.jsdelivr.net/npm/leaflet%401.6.0/dist/leaflet.css%22/%3E%0A%20%20%20%20%3Clink%20rel%3D%22stylesheet%22%20href%3D%22https%3A//maxcdn.bootstrapcdn.com/bootstrap/3.2.0/css/bootstrap.min.css%22/%3E%0A%20%20%20%20%3Clink%20rel%3D%22stylesheet%22%20href%3D%22https%3A//maxcdn.bootstrapcdn.com/bootstrap/3.2.0/css/bootstrap-theme.min.css%22/%3E%0A%20%20%20%20%3Clink%20rel%3D%22stylesheet%22%20href%3D%22https%3A//maxcdn.bootstrapcdn.com/font-awesome/4.6.3/css/font-awesome.min.css%22/%3E%0A%20%20%20%20%3Clink%20rel%3D%22stylesheet%22%20href%3D%22https%3A//cdnjs.cloudflare.com/ajax/libs/Leaflet.awesome-markers/2.0.2/leaflet.awesome-markers.css%22/%3E%0A%20%20%20%20%3Clink%20rel%3D%22stylesheet%22%20href%3D%22https%3A//cdn.jsdelivr.net/gh/python-visualization/folium/folium/templates/leaflet.awesome.rotate.min.css%22/%3E%0A%20%20%20%20%0A%20%20%20%20%20%20%20%20%20%20%20%20%3Cmeta%20name%3D%22viewport%22%20content%3D%22width%3Ddevice-width%2C%0A%20%20%20%20%20%20%20%20%20%20%20%20%20%20%20%20initial-scale%3D1.0%2C%20maximum-scale%3D1.0%2C%20user-scalable%3Dno%22%20/%3E%0A%20%20%20%20%20%20%20%20%20%20%20%20%3Cstyle%3E%0A%20%20%20%20%20%20%20%20%20%20%20%20%20%20%20%20%23map_2cf0c4a13493449eab05af6352dcb329%20%7B%0A%20%20%20%20%20%20%20%20%20%20%20%20%20%20%20%20%20%20%20%20position%3A%20relative%3B%0A%20%20%20%20%20%20%20%20%20%20%20%20%20%20%20%20%20%20%20%20width%3A%20100.0%25%3B%0A%20%20%20%20%20%20%20%20%20%20%20%20%20%20%20%20%20%20%20%20height%3A%20100.0%25%3B%0A%20%20%20%20%20%20%20%20%20%20%20%20%20%20%20%20%20%20%20%20left%3A%200.0%25%3B%0A%20%20%20%20%20%20%20%20%20%20%20%20%20%20%20%20%20%20%20%20top%3A%200.0%25%3B%0A%20%20%20%20%20%20%20%20%20%20%20%20%20%20%20%20%7D%0A%20%20%20%20%20%20%20%20%20%20%20%20%3C/style%3E%0A%20%20%20%20%20%20%20%20%0A%20%20%20%20%3Cscript%20src%3D%22https%3A//cdn.jsdelivr.net/gh/python-visualization/folium%40master/folium/templates/leaflet_heat.min.js%22%3E%3C/script%3E%0A%3C/head%3E%0A%3Cbody%3E%20%20%20%20%0A%20%20%20%20%0A%20%20%20%20%20%20%20%20%20%20%20%20%3Cdiv%20class%3D%22folium-map%22%20id%3D%22map_2cf0c4a13493449eab05af6352dcb329%22%20%3E%3C/div%3E%0A%20%20%20%20%20%20%20%20%0A%3C/body%3E%0A%3Cscript%3E%20%20%20%20%0A%20%20%20%20%0A%20%20%20%20%20%20%20%20%20%20%20%20var%20map_2cf0c4a13493449eab05af6352dcb329%20%3D%20L.map%28%0A%20%20%20%20%20%20%20%20%20%20%20%20%20%20%20%20%22map_2cf0c4a13493449eab05af6352dcb329%22%2C%0A%20%20%20%20%20%20%20%20%20%20%20%20%20%20%20%20%7B%0A%20%20%20%20%20%20%20%20%20%20%20%20%20%20%20%20%20%20%20%20center%3A%20%5B12.97%2C%2077.59%5D%2C%0A%20%20%20%20%20%20%20%20%20%20%20%20%20%20%20%20%20%20%20%20crs%3A%20L.CRS.EPSG3857%2C%0A%20%20%20%20%20%20%20%20%20%20%20%20%20%20%20%20%20%20%20%20zoom%3A%2010%2C%0A%20%20%20%20%20%20%20%20%20%20%20%20%20%20%20%20%20%20%20%20zoomControl%3A%20true%2C%0A%20%20%20%20%20%20%20%20%20%20%20%20%20%20%20%20%20%20%20%20preferCanvas%3A%20false%2C%0A%20%20%20%20%20%20%20%20%20%20%20%20%20%20%20%20%20%20%20%20zoomDefault%3A%2012%2C%0A%20%20%20%20%20%20%20%20%20%20%20%20%20%20%20%20%7D%0A%20%20%20%20%20%20%20%20%20%20%20%20%29%3B%0A%0A%20%20%20%20%20%20%20%20%20%20%20%20%0A%0A%20%20%20%20%20%20%20%20%0A%20%20%20%20%0A%20%20%20%20%20%20%20%20%20%20%20%20var%20tile_layer_8eb31307b05548f99a76fda43e694593%20%3D%20L.tileLayer%28%0A%20%20%20%20%20%20%20%20%20%20%20%20%20%20%20%20%22https%3A//%7Bs%7D.tile.openstreetmap.org/%7Bz%7D/%7Bx%7D/%7By%7D.png%22%2C%0A%20%20%20%20%20%20%20%20%20%20%20%20%20%20%20%20%7B%22attribution%22%3A%20%22Data%20by%20%5Cu0026copy%3B%20%5Cu003ca%20href%3D%5C%22http%3A//openstreetmap.org%5C%22%5Cu003eOpenStreetMap%5Cu003c/a%5Cu003e%2C%20under%20%5Cu003ca%20href%3D%5C%22http%3A//www.openstreetmap.org/copyright%5C%22%5Cu003eODbL%5Cu003c/a%5Cu003e.%22%2C%20%22detectRetina%22%3A%20false%2C%20%22maxNativeZoom%22%3A%2018%2C%20%22maxZoom%22%3A%2018%2C%20%22minZoom%22%3A%200%2C%20%22noWrap%22%3A%20false%2C%20%22opacity%22%3A%201%2C%20%22subdomains%22%3A%20%22abc%22%2C%20%22tms%22%3A%20false%7D%0A%20%20%20%20%20%20%20%20%20%20%20%20%29.addTo%28map_2cf0c4a13493449eab05af6352dcb329%29%3B%0A%20%20%20%20%20%20%20%20%0A%20%20%20%20%0A%20%20%20%20%20%20%20%20%20%20%20%20var%20heat_map_09a94110dab04d3dbe8d086af601419a%20%3D%20L.heatLayer%28%0A%20%20%20%20%20%20%20%20%20%20%20%20%20%20%20%20%5B%5B13.0141618%2C%2077.6518539%2C%204.0%5D%2C%20%5B12.9732913%2C%2077.6404672%2C%201.0%5D%2C%20%5B12.9343774%2C%2077.628415%2C%206.0%5D%2C%20%5B12.9400321%2C%2077.6203272%2C%209.0%5D%2C%20%5B16.5018813%2C%2080.6426257%2C%2013.0%5D%2C%20%5B13.2227%2C%2078.5541977%2C%202.0%5D%5D%2C%0A%20%20%20%20%20%20%20%20%20%20%20%20%20%20%20%20%7B%22blur%22%3A%2015%2C%20%22maxZoom%22%3A%2018%2C%20%22minOpacity%22%3A%200.5%2C%20%22radius%22%3A%2015%2C%20%22zoom%22%3A%2020%7D%0A%20%20%20%20%20%20%20%20%20%20%20%20%29.addTo%28map_2cf0c4a13493449eab05af6352dcb329%29%3B%0A%20%20%20%20%20%20%20%20%0A%3C/script%3E onload=\"this.contentDocument.open();this.contentDocument.write(    decodeURIComponent(this.getAttribute('data-html')));this.contentDocument.close();\" allowfullscreen webkitallowfullscreen mozallowfullscreen></iframe></div></div>"
      ],
      "text/plain": [
       "<folium.folium.Map at 0x22497087888>"
      ]
     },
     "execution_count": 101,
     "metadata": {},
     "output_type": "execute_result"
    }
   ],
   "source": [
    "Heatmap_Zone('Mexican')"
   ]
  },
  {
   "cell_type": "code",
   "execution_count": 102,
   "metadata": {},
   "outputs": [
    {
     "data": {
      "text/html": [
       "<div style=\"width:100%;\"><div style=\"position:relative;width:100%;height:0;padding-bottom:60%;\"><span style=\"color:#565656\">Make this Notebook Trusted to load map: File -> Trust Notebook</span><iframe src=\"about:blank\" style=\"position:absolute;width:100%;height:100%;left:0;top:0;border:none !important;\" data-html=%3C%21DOCTYPE%20html%3E%0A%3Chead%3E%20%20%20%20%0A%20%20%20%20%3Cmeta%20http-equiv%3D%22content-type%22%20content%3D%22text/html%3B%20charset%3DUTF-8%22%20/%3E%0A%20%20%20%20%0A%20%20%20%20%20%20%20%20%3Cscript%3E%0A%20%20%20%20%20%20%20%20%20%20%20%20L_NO_TOUCH%20%3D%20false%3B%0A%20%20%20%20%20%20%20%20%20%20%20%20L_DISABLE_3D%20%3D%20false%3B%0A%20%20%20%20%20%20%20%20%3C/script%3E%0A%20%20%20%20%0A%20%20%20%20%3Cstyle%3Ehtml%2C%20body%20%7Bwidth%3A%20100%25%3Bheight%3A%20100%25%3Bmargin%3A%200%3Bpadding%3A%200%3B%7D%3C/style%3E%0A%20%20%20%20%3Cstyle%3E%23map%20%7Bposition%3Aabsolute%3Btop%3A0%3Bbottom%3A0%3Bright%3A0%3Bleft%3A0%3B%7D%3C/style%3E%0A%20%20%20%20%3Cscript%20src%3D%22https%3A//cdn.jsdelivr.net/npm/leaflet%401.6.0/dist/leaflet.js%22%3E%3C/script%3E%0A%20%20%20%20%3Cscript%20src%3D%22https%3A//code.jquery.com/jquery-1.12.4.min.js%22%3E%3C/script%3E%0A%20%20%20%20%3Cscript%20src%3D%22https%3A//maxcdn.bootstrapcdn.com/bootstrap/3.2.0/js/bootstrap.min.js%22%3E%3C/script%3E%0A%20%20%20%20%3Cscript%20src%3D%22https%3A//cdnjs.cloudflare.com/ajax/libs/Leaflet.awesome-markers/2.0.2/leaflet.awesome-markers.js%22%3E%3C/script%3E%0A%20%20%20%20%3Clink%20rel%3D%22stylesheet%22%20href%3D%22https%3A//cdn.jsdelivr.net/npm/leaflet%401.6.0/dist/leaflet.css%22/%3E%0A%20%20%20%20%3Clink%20rel%3D%22stylesheet%22%20href%3D%22https%3A//maxcdn.bootstrapcdn.com/bootstrap/3.2.0/css/bootstrap.min.css%22/%3E%0A%20%20%20%20%3Clink%20rel%3D%22stylesheet%22%20href%3D%22https%3A//maxcdn.bootstrapcdn.com/bootstrap/3.2.0/css/bootstrap-theme.min.css%22/%3E%0A%20%20%20%20%3Clink%20rel%3D%22stylesheet%22%20href%3D%22https%3A//maxcdn.bootstrapcdn.com/font-awesome/4.6.3/css/font-awesome.min.css%22/%3E%0A%20%20%20%20%3Clink%20rel%3D%22stylesheet%22%20href%3D%22https%3A//cdnjs.cloudflare.com/ajax/libs/Leaflet.awesome-markers/2.0.2/leaflet.awesome-markers.css%22/%3E%0A%20%20%20%20%3Clink%20rel%3D%22stylesheet%22%20href%3D%22https%3A//cdn.jsdelivr.net/gh/python-visualization/folium/folium/templates/leaflet.awesome.rotate.min.css%22/%3E%0A%20%20%20%20%0A%20%20%20%20%20%20%20%20%20%20%20%20%3Cmeta%20name%3D%22viewport%22%20content%3D%22width%3Ddevice-width%2C%0A%20%20%20%20%20%20%20%20%20%20%20%20%20%20%20%20initial-scale%3D1.0%2C%20maximum-scale%3D1.0%2C%20user-scalable%3Dno%22%20/%3E%0A%20%20%20%20%20%20%20%20%20%20%20%20%3Cstyle%3E%0A%20%20%20%20%20%20%20%20%20%20%20%20%20%20%20%20%23map_6f4dc7b39fc142e784f4e7905d351524%20%7B%0A%20%20%20%20%20%20%20%20%20%20%20%20%20%20%20%20%20%20%20%20position%3A%20relative%3B%0A%20%20%20%20%20%20%20%20%20%20%20%20%20%20%20%20%20%20%20%20width%3A%20100.0%25%3B%0A%20%20%20%20%20%20%20%20%20%20%20%20%20%20%20%20%20%20%20%20height%3A%20100.0%25%3B%0A%20%20%20%20%20%20%20%20%20%20%20%20%20%20%20%20%20%20%20%20left%3A%200.0%25%3B%0A%20%20%20%20%20%20%20%20%20%20%20%20%20%20%20%20%20%20%20%20top%3A%200.0%25%3B%0A%20%20%20%20%20%20%20%20%20%20%20%20%20%20%20%20%7D%0A%20%20%20%20%20%20%20%20%20%20%20%20%3C/style%3E%0A%20%20%20%20%20%20%20%20%0A%20%20%20%20%3Cscript%20src%3D%22https%3A//cdn.jsdelivr.net/gh/python-visualization/folium%40master/folium/templates/leaflet_heat.min.js%22%3E%3C/script%3E%0A%3C/head%3E%0A%3Cbody%3E%20%20%20%20%0A%20%20%20%20%0A%20%20%20%20%20%20%20%20%20%20%20%20%3Cdiv%20class%3D%22folium-map%22%20id%3D%22map_6f4dc7b39fc142e784f4e7905d351524%22%20%3E%3C/div%3E%0A%20%20%20%20%20%20%20%20%0A%3C/body%3E%0A%3Cscript%3E%20%20%20%20%0A%20%20%20%20%0A%20%20%20%20%20%20%20%20%20%20%20%20var%20map_6f4dc7b39fc142e784f4e7905d351524%20%3D%20L.map%28%0A%20%20%20%20%20%20%20%20%20%20%20%20%20%20%20%20%22map_6f4dc7b39fc142e784f4e7905d351524%22%2C%0A%20%20%20%20%20%20%20%20%20%20%20%20%20%20%20%20%7B%0A%20%20%20%20%20%20%20%20%20%20%20%20%20%20%20%20%20%20%20%20center%3A%20%5B12.97%2C%2077.59%5D%2C%0A%20%20%20%20%20%20%20%20%20%20%20%20%20%20%20%20%20%20%20%20crs%3A%20L.CRS.EPSG3857%2C%0A%20%20%20%20%20%20%20%20%20%20%20%20%20%20%20%20%20%20%20%20zoom%3A%2010%2C%0A%20%20%20%20%20%20%20%20%20%20%20%20%20%20%20%20%20%20%20%20zoomControl%3A%20true%2C%0A%20%20%20%20%20%20%20%20%20%20%20%20%20%20%20%20%20%20%20%20preferCanvas%3A%20false%2C%0A%20%20%20%20%20%20%20%20%20%20%20%20%20%20%20%20%20%20%20%20zoomDefault%3A%2012%2C%0A%20%20%20%20%20%20%20%20%20%20%20%20%20%20%20%20%7D%0A%20%20%20%20%20%20%20%20%20%20%20%20%29%3B%0A%0A%20%20%20%20%20%20%20%20%20%20%20%20%0A%0A%20%20%20%20%20%20%20%20%0A%20%20%20%20%0A%20%20%20%20%20%20%20%20%20%20%20%20var%20tile_layer_da03d62f182041638dd0b3e20c33f351%20%3D%20L.tileLayer%28%0A%20%20%20%20%20%20%20%20%20%20%20%20%20%20%20%20%22https%3A//%7Bs%7D.tile.openstreetmap.org/%7Bz%7D/%7Bx%7D/%7By%7D.png%22%2C%0A%20%20%20%20%20%20%20%20%20%20%20%20%20%20%20%20%7B%22attribution%22%3A%20%22Data%20by%20%5Cu0026copy%3B%20%5Cu003ca%20href%3D%5C%22http%3A//openstreetmap.org%5C%22%5Cu003eOpenStreetMap%5Cu003c/a%5Cu003e%2C%20under%20%5Cu003ca%20href%3D%5C%22http%3A//www.openstreetmap.org/copyright%5C%22%5Cu003eODbL%5Cu003c/a%5Cu003e.%22%2C%20%22detectRetina%22%3A%20false%2C%20%22maxNativeZoom%22%3A%2018%2C%20%22maxZoom%22%3A%2018%2C%20%22minZoom%22%3A%200%2C%20%22noWrap%22%3A%20false%2C%20%22opacity%22%3A%201%2C%20%22subdomains%22%3A%20%22abc%22%2C%20%22tms%22%3A%20false%7D%0A%20%20%20%20%20%20%20%20%20%20%20%20%29.addTo%28map_6f4dc7b39fc142e784f4e7905d351524%29%3B%0A%20%20%20%20%20%20%20%20%0A%20%20%20%20%0A%20%20%20%20%20%20%20%20%20%20%20%20var%20heat_map_53cfbb9ccee54ad58c64e593097cd187%20%3D%20L.heatLayer%28%0A%20%20%20%20%20%20%20%20%20%20%20%20%20%20%20%20%5B%5B45.95485055%2C%20-112.49659530324134%2C%2083.0%5D%2C%20%5B15.8876779%2C%2075.7046777%2C%2012.0%5D%2C%20%5B13.0141618%2C%2077.6518539%2C%2015.0%5D%2C%20%5B12.887979%2C%2077.5970812%2C%209.0%5D%2C%20%5B12.9417261%2C%2077.5755021%2C%208.0%5D%2C%20%5B12.9932739%2C%2077.5388099%2C%208.0%5D%2C%20%5B12.93577245%2C%2077.66676103753434%2C%2020.0%5D%2C%20%5B12.9089453%2C%2077.6239038%2C%202.0%5D%2C%20%5B33.5935063%2C%20-79.0345627%2C%2010.0%5D%2C%20%5B17.2510682%2C%2080.1651978%2C%201.0%5D%2C%20%5B39.76880625%2C%20-86.15345077251979%2C%202.0%5D%2C%20%5B51.5164765%2C%20-0.0728317%2C%2025.0%5D%2C%20%5B13.0215466%2C%2077.7640586%2C%201.0%5D%2C%20%5B12.945245%2C%2077.6269144%2C%2012.0%5D%2C%20%5B-6.271852%2C%20106.71337663408798%2C%205.0%5D%2C%20%5B12.996845%2C%2077.6130165%2C%209.0%5D%2C%20%5B13.0358698%2C%2077.6323597%2C%205.0%5D%2C%20%5B18.1475%2C%2041.538889%2C%2027.0%5D%2C%20%5B13.0258087%2C%2077.6305067%2C%201.0%5D%2C%20%5B12.9732913%2C%2077.6404672%2C%2036.0%5D%2C%20%5B12.2655944%2C%2076.6465404%2C%2011.0%5D%2C%20%5B27.64392675%2C%2083.05280519687284%2C%2019.0%5D%2C%20%5B12.9678074%2C%2077.6568367%2C%206.0%5D%2C%20%5B13.0221416%2C%2077.6403368%2C%2017.0%5D%2C%20%5B13.0093455%2C%2077.6377094%2C%207.0%5D%2C%20%5B12.9355425%2C%2077.6128717%2C%2019.0%5D%2C%20%5B12.9343774%2C%2077.628415%2C%2013.0%5D%2C%20%5B12.9400321%2C%2077.6203272%2C%2013.0%5D%2C%20%5B12.9334288%2C%2077.6309732%2C%2026.0%5D%2C%20%5B12.9417812%2C%2077.6160146%2C%205.0%5D%2C%20%5B12.945048%2C%2077.263004%2C%202.0%5D%2C%20%5B1.2847055%2C%20103.84320655721689%2C%202.0%5D%2C%20%5B13.0027353%2C%2077.5703253%2C%203.0%5D%2C%20%5B12.9552572%2C%2077.6984163%2C%209.0%5D%2C%20%5B12.3872141%2C%2076.6669626%2C%201.0%5D%2C%20%5B13.2227%2C%2078.5541977%2C%203.0%5D%2C%20%5B13.0346384%2C%2077.5681733%2C%205.0%5D%2C%20%5B41.527815%2C%20-71.287155%2C%2010.0%5D%2C%20%5B12.9882338%2C%2077.554883%2C%2016.0%5D%2C%20%5B26.2660314%2C%2073.0265996%2C%2014.0%5D%2C%20%5B50.7721586%2C%200.09772783661369303%2C%205.0%5D%2C%20%5B13.0621474%2C%2077.58006135480495%2C%201.0%5D%2C%20%5B12.9242381%2C%2077.6289059%2C%2018.0%5D%2C%20%5B12.9931876%2C%2077.5753419%2C%207.0%5D%2C%20%5B22.478459%2C%2088.3541291%2C%2012.0%5D%2C%20%5B18.5322493%2C%2073.8499601124847%2C%2011.0%5D%2C%20%5B13.0646907%2C%2077.49626895712257%2C%202.0%5D%2C%20%5B51.5227651%2C%20-0.7354457%2C%208.0%5D%2C%20%5B12.973936%2C%2077.6509982%2C%201.0%5D%2C%20%5B12.9778793%2C%2077.6246697%2C%209.0%5D%2C%20%5B12.988721250000001%2C%2077.58516877601824%2C%2013.0%5D%2C%20%5B22.8359967%2C%2069.3405962%2C%202.0%5D%2C%20%5B12.9306281%2C%2077.5857408%2C%202.0%5D%2C%20%5B44.3730577%2C%20-71.6118577%2C%2030.0%5D%2C%20%5B12.9489339%2C%2077.5968273%2C%2020.0%5D%2C%20%5B13.02383%2C%2077.5529215%2C%206.0%5D%5D%2C%0A%20%20%20%20%20%20%20%20%20%20%20%20%20%20%20%20%7B%22blur%22%3A%2015%2C%20%22maxZoom%22%3A%2018%2C%20%22minOpacity%22%3A%200.5%2C%20%22radius%22%3A%2015%2C%20%22zoom%22%3A%2020%7D%0A%20%20%20%20%20%20%20%20%20%20%20%20%29.addTo%28map_6f4dc7b39fc142e784f4e7905d351524%29%3B%0A%20%20%20%20%20%20%20%20%0A%3C/script%3E onload=\"this.contentDocument.open();this.contentDocument.write(    decodeURIComponent(this.getAttribute('data-html')));this.contentDocument.close();\" allowfullscreen webkitallowfullscreen mozallowfullscreen></iframe></div></div>"
      ],
      "text/plain": [
       "<folium.folium.Map at 0x22494274b08>"
      ]
     },
     "execution_count": 102,
     "metadata": {},
     "output_type": "execute_result"
    }
   ],
   "source": [
    "Heatmap_Zone('Biryani')"
   ]
  }
 ],
 "metadata": {
  "kernelspec": {
   "display_name": "Python 3",
   "language": "python",
   "name": "python3"
  },
  "language_info": {
   "codemirror_mode": {
    "name": "ipython",
    "version": 3
   },
   "file_extension": ".py",
   "mimetype": "text/x-python",
   "name": "python",
   "nbconvert_exporter": "python",
   "pygments_lexer": "ipython3",
   "version": "3.7.4"
  }
 },
 "nbformat": 4,
 "nbformat_minor": 2
}
